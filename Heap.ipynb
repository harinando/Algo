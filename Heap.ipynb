{
 "cells": [
  {
   "cell_type": "code",
   "execution_count": 1,
   "metadata": {
    "collapsed": true
   },
   "outputs": [],
   "source": [
    "class Heap:\n",
    "    \n",
    "    def __init__(self):\n",
    "        self.pq = [ None ]\n",
    "        self.N = 0\n",
    "        \n",
    "    def remove(self):\n",
    "        first = self.pq[1] \n",
    "        self.pq[1] = self.pq[-1]\n",
    "        self.sink(1)\n",
    "        self.pq.pop(-1)\n",
    "        self.N -=1\n",
    "        return first\n",
    "    \n",
    "    def swim(self, key):\n",
    "        pass\n",
    "    \n",
    "    def sink(self, key):\n",
    "        pass\n",
    "    \n",
    "    def greater(self, i, j):\n",
    "        return self.pq[i] > self.pq[j]\n",
    "    \n",
    "    def less(self, i, j):\n",
    "        return self.pq[i] < self.pq[j]\n",
    "    \n",
    "    def exch(self, i, j):\n",
    "        tmp = self.pq[i]\n",
    "        self.pq[i] = self.pq[j] \n",
    "        self.pq[j] = tmp\n",
    "        \n",
    "                \n",
    "    def peek(self):\n",
    "        return self.pq[1]\n",
    "\n",
    "\n",
    "class MaxHeap(Heap):\n",
    "    \n",
    "    def insert(self, key):\n",
    "        self.pq.append(key)\n",
    "        self.N += 1 \n",
    "        self.swim(self.N)\n",
    "        \n",
    "    def isMaxHeap(self):\n",
    "        return True\n",
    "        \n",
    "    def swim(self, k):\n",
    "        while(k > 1 and self.less(k/2, k)):\n",
    "            self.exch(k/2, k)\n",
    "            k = k/2\n",
    "            \n",
    "    def sink(self, k):\n",
    "        while(2*k <= self.N):\n",
    "            j = 2*k\n",
    "            if j < self.N and self.less(j, j+1):\n",
    "                j += 1 \n",
    "            if not self.less(k, j):\n",
    "                break\n",
    "            self.exch(k, j)\n",
    "            k = j\n",
    "\n",
    "\n",
    "class MinHeap(Heap):\n",
    "    \n",
    "    def insert(self, key):\n",
    "        self.pq.append(key)\n",
    "        self.N += 1\n",
    "        self.swim(self.N)\n",
    "        assert(self.isMinHeap())\n",
    "        \n",
    "    def swim(self, k):\n",
    "        while(k > 1 and self.greater(k/2, k)):\n",
    "            self.exch(k/2, k)\n",
    "            k = k/2\n",
    "            \n",
    "    def sink(self, k):\n",
    "        while(2*k <= self.N):\n",
    "            j = 2*k\n",
    "            if j < self.N and self.greater(j, j+1):\n",
    "                j += 1\n",
    "            if not self.greater(k, j):\n",
    "                break\n",
    "            self.exch(k, j)\n",
    "            k = j\n",
    "        \n",
    "    def isMinHeap(self):\n",
    "        return True"
   ]
  },
  {
   "cell_type": "markdown",
   "metadata": {},
   "source": [
    "## Median in a running stream of integer\n",
    "Given that integers are read from a data stream. Find median of elements read so for in efficient way. For simplicity assume there are no duplicates. For example, let us consider the stream."
   ]
  },
  {
   "cell_type": "code",
   "execution_count": 2,
   "metadata": {
    "collapsed": false
   },
   "outputs": [
    {
     "name": "stdout",
     "output_type": "stream",
     "text": [
      "[5] 5\n",
      "[5, 15] 10\n",
      "[1, 5, 15] 5\n",
      "[1, 3, 5, 15] 4\n",
      "[1, 2, 3, 5, 15] 3\n",
      "[1, 2, 3, 5, 8, 15] 4\n",
      "[1, 2, 3, 5, 7, 8, 15] 5\n",
      "[1, 2, 3, 5, 7, 8, 9, 15] 6\n",
      "[1, 2, 3, 5, 7, 8, 9, 10, 15] 7\n",
      "[1, 2, 3, 5, 6, 7, 8, 9, 10, 15] 6\n",
      "[1, 2, 3, 5, 6, 7, 8, 9, 10, 11, 15] 7\n",
      "[1, 2, 3, 4, 5, 6, 7, 8, 9, 10, 11, 15] 6\n"
     ]
    }
   ],
   "source": [
    "A = [ 5, 15, 1, 3, 2, 8, 7, 9, 10, 6, 11, 4 ]\n",
    "right = MinHeap()\n",
    "left  = MaxHeap()\n",
    "\n",
    "\n",
    "med = float('inf')\n",
    "for i in range(len(A)):\n",
    "    sig = left.N - right.N\n",
    "            \n",
    "    if sig == 0:\n",
    "        if A[i] < med:\n",
    "            left.insert(A[i])\n",
    "            med = left.peek()\n",
    "        else:\n",
    "            right.insert(A[i])\n",
    "            med = right.peek()\n",
    "    elif sig == 1:\n",
    "        if A[i] < med:\n",
    "            l = left.remove()\n",
    "            left.insert(A[i])\n",
    "            right.insert(l)\n",
    "        else:\n",
    "            right.insert(A[i])\n",
    "        \n",
    "        med = ( right.peek() + left.peek() ) / 2\n",
    "    else:   # Right element bigger\n",
    "        \n",
    "        if A[i] > med:\n",
    "            r = right.remove()\n",
    "            right.insert(A[i])\n",
    "            left.insert(r)\n",
    "                        \n",
    "        else:\n",
    "            left.insert(A[i])\n",
    "    \n",
    "        med = ( right.peek() + left.peek() ) / 2\n",
    "    print sorted(A[:i+1]), med"
   ]
  },
  {
   "cell_type": "code",
   "execution_count": 4,
   "metadata": {
    "collapsed": false
   },
   "outputs": [
    {
     "data": {
      "text/html": [
       "\n",
       "<script>\n",
       "code_show=false; \n",
       "function code_toggle() {\n",
       "    if (code_show){\n",
       "        $('div.input').show();\n",
       "    } else {\n",
       "        $('div.input').hide();\n",
       "    }\n",
       "    code_show = !code_show\n",
       "} \n",
       "$( document ).ready(code_toggle);\n",
       "</script>\n",
       "<form action=\"javascript:code_toggle()\"><input type=\"submit\" value=\"Click here to toggle on/off the raw code\"></form>"
      ],
      "text/plain": [
       "<IPython.core.display.HTML object>"
      ]
     },
     "execution_count": 4,
     "metadata": {},
     "output_type": "execute_result"
    }
   ],
   "source": [
    "from IPython.display import HTML\n",
    "\n",
    "HTML('''\n",
    "<script>\n",
    "code_show=false; \n",
    "function code_toggle() {\n",
    "    if (code_show){\n",
    "        $('div.input').show();\n",
    "    } else {\n",
    "        $('div.input').hide();\n",
    "    }\n",
    "    code_show = !code_show\n",
    "} \n",
    "$( document ).ready(code_toggle);\n",
    "</script>\n",
    "<form action=\"javascript:code_toggle()\"><input type=\"submit\" value=\"Click here to toggle on/off the raw code\"></form>''')"
   ]
  },
  {
   "cell_type": "code",
   "execution_count": null,
   "metadata": {
    "collapsed": true
   },
   "outputs": [],
   "source": []
  }
 ],
 "metadata": {
  "kernelspec": {
   "display_name": "Python 2",
   "language": "python",
   "name": "python2"
  },
  "language_info": {
   "codemirror_mode": {
    "name": "ipython",
    "version": 2
   },
   "file_extension": ".py",
   "mimetype": "text/x-python",
   "name": "python",
   "nbconvert_exporter": "python",
   "pygments_lexer": "ipython2",
   "version": "2.7.9"
  }
 },
 "nbformat": 4,
 "nbformat_minor": 0
}
