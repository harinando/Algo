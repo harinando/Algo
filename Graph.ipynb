{
 "cells": [
  {
   "cell_type": "code",
   "execution_count": 6,
   "metadata": {
    "collapsed": true
   },
   "outputs": [],
   "source": [
    "class Graph:\n",
    "    \n",
    "    def __init__(self, words=[]):\n",
    "        self.E = 0\n",
    "        self.adj = defaultdict(lambda: [])\n",
    "        self.v = set()\n",
    "        for word in words:\n",
    "            self.v.add(word[0])\n",
    "            self.v.add(word[-1])\n",
    "            self.adj[word[0]].append(word[-1])\n",
    "    \n",
    "    def addEdges(self, u, v):\n",
    "        self.v.add(u)\n",
    "        self.v.add(v)\n",
    "        self.adj[u].append(v)        \n",
    "    \n",
    "    def toString(self):\n",
    "        return self.adj\n",
    "    \n",
    "            \n",
    "G = Graph()\n",
    "G.addEdges('a', 'b')\n",
    "G.addEdges('a', 'e')\n",
    "G.addEdges('b', 'd')\n",
    "G.addEdges('b', 'c')\n",
    "G.addEdges('f', 'g')"
   ]
  },
  {
   "cell_type": "markdown",
   "metadata": {},
   "source": [
    "### Write a function that takes in a list of words and returns the length of the longest chain or words where the first letter of a word must be equal to the last letter of the previous word in the chain.\n",
    "\n",
    "Examples:\n",
    "- word_chain(['soup','sugar','peas','rice']) = 'soup' -> 'peas' -> 'sugar' -> 'rice' = 4\n",
    "- word_chain(['cjz','tojiv','sgxf','awonm','fcv']) = 'sgxf' -> 'fcv' = 2 \n",
    "- word_chain(['ljhqi','nrtxgiu','jdtphez','wosqm']) = 0"
   ]
  },
  {
   "cell_type": "code",
   "execution_count": 1,
   "metadata": {
    "collapsed": false
   },
   "outputs": [
    {
     "name": "stdout",
     "output_type": "stream",
     "text": [
      "defaultdict(<function <lambda> at 0x1056e2f50>, {'a': ['b', 'e'], 'c': [], 'b': ['d', 'c'], 'e': [], 'd': [], 'g': [], 'f': ['g']})\n",
      "defaultdict(<function <lambda> at 0x1057075f0>, {'a': ['b', 'e'], 'b': ['d', 'c'], 'f': ['g']})\n",
      "False\n"
     ]
    }
   ],
   "source": [
    "from collections import defaultdict\n",
    "\n",
    "class Path: \n",
    "\n",
    "    def __init__(self, G):\n",
    "        \n",
    "        self.visited = defaultdict(lambda : False)\n",
    "        self._id     = defaultdict(lambda : -1)\n",
    "        self.size    = defaultdict(lambda : 0)\n",
    "        self.count = -1\n",
    "    \n",
    "        \n",
    "        _max = -float('inf')\n",
    "        for v in G.adj.keys():\n",
    "            if not self.visited[v]:\n",
    "                self.count += 1\n",
    "                n = self.dfs(G, v)\n",
    "                \n",
    "    def dfs(self, G, v):\n",
    "        self.visited[v] = True\n",
    "        self._id[v] = self.count\n",
    "        self.size[self.count] += 1 \n",
    "        \n",
    "        for u in G.adj[v]:\n",
    "            if not self.visited[u]:\n",
    "                self.dfs(G, u) \n",
    "            \n",
    "            \n",
    "# words = ['soup','sugar','peas','rice']\n",
    "# words = ['cjz','tojiv','sgxf','awonm','fcv']\n",
    "# words = ['ljhqi','nrtxgiu','jdtphez','wosqm']\n",
    "\n",
    "class Copy():\n",
    "    \n",
    "    def __init__(self):\n",
    "        self.copied = defaultdict(lambda: False)\n",
    "        self.adj = defaultdict(lambda: [])\n",
    "    \n",
    "    def copy(self, G):\n",
    "        return self.dfs(G)\n",
    "\n",
    "    def dfs(self, G):\n",
    "        for u in G.v:\n",
    "            if not self.copied[u]:\n",
    "                self._dfs(G, u)\n",
    "                \n",
    "    \n",
    "    def _dfs(self, G, v):\n",
    "        self.copied[v] = True\n",
    "        for u in G.adj[v]:\n",
    "            if not self.copied[u]:\n",
    "                self._dfs(G, u)\n",
    "            self.adj[v].append(u)\n",
    "\n",
    "\n",
    "\n"
   ]
  },
  {
   "cell_type": "markdown",
   "metadata": {},
   "source": [
    "## Word Ladder"
   ]
  },
  {
   "cell_type": "markdown",
   "metadata": {},
   "source": [
    "## Deep copy of a graph"
   ]
  },
  {
   "cell_type": "code",
   "execution_count": 10,
   "metadata": {
    "collapsed": false
   },
   "outputs": [
    {
     "name": "stdout",
     "output_type": "stream",
     "text": [
      "defaultdict(<function <lambda> at 0x105707758>, {'a': ['b', 'e'], 'c': [], 'b': ['d', 'c'], 'e': [], 'd': [], 'g': [], 'f': ['g']})\n",
      "defaultdict(<function <lambda> at 0x10575ec80>, {'a': ['b', 'e'], 'b': ['d', 'c'], 'f': ['g']})\n"
     ]
    }
   ],
   "source": [
    "copier = Copy()\n",
    "copier.copy(G)\n",
    "print G.adj\n",
    "print copier.adj"
   ]
  },
  {
   "cell_type": "code",
   "execution_count": null,
   "metadata": {
    "collapsed": true
   },
   "outputs": [],
   "source": []
  }
 ],
 "metadata": {
  "kernelspec": {
   "display_name": "Python 2",
   "language": "python",
   "name": "python2"
  },
  "language_info": {
   "codemirror_mode": {
    "name": "ipython",
    "version": 2
   },
   "file_extension": ".py",
   "mimetype": "text/x-python",
   "name": "python",
   "nbconvert_exporter": "python",
   "pygments_lexer": "ipython2",
   "version": "2.7.9"
  }
 },
 "nbformat": 4,
 "nbformat_minor": 0
}
