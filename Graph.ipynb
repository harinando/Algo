{
 "cells": [
  {
   "cell_type": "code",
   "execution_count": 54,
   "metadata": {
    "collapsed": false
   },
   "outputs": [],
   "source": [
    "from graph import Graph\n",
    "    \n",
    "G = Graph()\n",
    "G.addEdges('a', 'b')\n",
    "G.addEdges('a', 'e')\n",
    "G.addEdges('b', 'd')\n",
    "G.addEdges('b', 'c')\n",
    "G.addEdges('f', 'g')"
   ]
  },
  {
   "cell_type": "markdown",
   "metadata": {},
   "source": [
    "### Write a function that takes in a list of words and returns the length of the longest chain or words where the first letter of a word must be equal to the last letter of the previous word in the chain.\n",
    "\n",
    "Examples:\n",
    "- word_chain(['soup','sugar','peas','rice']) = 'soup' -> 'peas' -> 'sugar' -> 'rice' = 4\n",
    "- word_chain(['cjz','tojiv','sgxf','awonm','fcv']) = 'sgxf' -> 'fcv' = 2 \n",
    "- word_chain(['ljhqi','nrtxgiu','jdtphez','wosqm']) = 0"
   ]
  },
  {
   "cell_type": "code",
   "execution_count": 1,
   "metadata": {
    "collapsed": false
   },
   "outputs": [
    {
     "name": "stdout",
     "output_type": "stream",
     "text": [
      "defaultdict(<function <lambda> at 0x1056e2f50>, {'a': ['b', 'e'], 'c': [], 'b': ['d', 'c'], 'e': [], 'd': [], 'g': [], 'f': ['g']})\n",
      "defaultdict(<function <lambda> at 0x1057075f0>, {'a': ['b', 'e'], 'b': ['d', 'c'], 'f': ['g']})\n",
      "False\n"
     ]
    }
   ],
   "source": [
    "from collections import defaultdict\n",
    "\n",
    "class Path: \n",
    "\n",
    "    def __init__(self, G):\n",
    "        \n",
    "        self.visited = defaultdict(lambda : False)\n",
    "        self._id     = defaultdict(lambda : -1)\n",
    "        self.size    = defaultdict(lambda : 0)\n",
    "        self.count = -1\n",
    "    \n",
    "        \n",
    "        _max = -float('inf')\n",
    "        for v in G.adj.keys():\n",
    "            if not self.visited[v]:\n",
    "                self.count += 1\n",
    "                n = self.dfs(G, v)\n",
    "                \n",
    "    def dfs(self, G, v):\n",
    "        self.visited[v] = True\n",
    "        self._id[v] = self.count\n",
    "        self.size[self.count] += 1 \n",
    "        \n",
    "        for u in G.adj[v]:\n",
    "            if not self.visited[u]:\n",
    "                self.dfs(G, u) \n",
    "            \n",
    "            \n",
    "# words = ['soup','sugar','peas','rice']\n",
    "# words = ['cjz','tojiv','sgxf','awonm','fcv']\n",
    "# words = ['ljhqi','nrtxgiu','jdtphez','wosqm']\n",
    "\n",
    "class Copy():\n",
    "    \n",
    "    def __init__(self):\n",
    "        self.copied = defaultdict(lambda: False)\n",
    "        self.adj = defaultdict(lambda: [])\n",
    "    \n",
    "    def copy(self, G):\n",
    "        return self.dfs(G)\n",
    "\n",
    "    def dfs(self, G):\n",
    "        for u in G.v:\n",
    "            if not self.copied[u]:\n",
    "                self._dfs(G, u)\n",
    "                \n",
    "    \n",
    "    def _dfs(self, G, v):\n",
    "        self.copied[v] = True\n",
    "        for u in G.adj[v]:\n",
    "            if not self.copied[u]:\n",
    "                self._dfs(G, u)\n",
    "            self.adj[v].append(u)"
   ]
  },
  {
   "cell_type": "markdown",
   "metadata": {},
   "source": [
    "## CCI 18.10 Word Ladder\n",
    "\n",
    "Given two words of equal length that are in a dictionary, write a method to\n",
    "transform one word into another word by changing only one letter at a time.\n",
    "The new word you get in each step must be in the dictionary.\n",
    "\n",
    "- Input: DAMP, LIKE\n",
    "- Output: DAMP -> LAMP -> LIMP -> LIME -> LIKE\n",
    "- Strategy:\n",
    "    - Build the graph incrementally; simply compute the neighbhor by computing iterating through each word and counting the number of character that differes. \n",
    "    - Explore the graph using BFS."
   ]
  },
  {
   "cell_type": "code",
   "execution_count": 52,
   "metadata": {
    "collapsed": false
   },
   "outputs": [
    {
     "name": "stdout",
     "output_type": "stream",
     "text": [
      "['damp', 'lamp', 'limp', 'lime']\n"
     ]
    }
   ],
   "source": [
    "words = ['damp', 'lamp', 'limp', 'lime', 'like', 'lime']\n",
    "\n",
    "def getNeighbor(word1, dictionary):  \n",
    "    return [ word for word in dictionary if isNeighbor(word, word1) ]\n",
    "\n",
    "def isNeighbor(word1, word2):\n",
    "    diff = 0\n",
    "    for i in range(len(word1)):\n",
    "        diff += (1-int(word1[i] == word2[i]))\n",
    "    return diff == 1    \n",
    "\n",
    "def getPath(src, tgt, words):\n",
    "    queue = []\n",
    "    visited = set()\n",
    "    edgeTo  = {}\n",
    "    \n",
    "    queue.append(src)\n",
    "    visited.add(src)\n",
    "    \n",
    "    while len(queue) > 0:\n",
    "        \n",
    "        u = queue.pop(0)\n",
    "        \n",
    "        for v in getNeighbor(u, words):\n",
    "            \n",
    "            if v == tgt:\n",
    "                edgeTo[v] = u\n",
    "                visited.add(v)\n",
    "                \n",
    "                pathTo = []\n",
    "                while(edgeTo[tgt] != src):\n",
    "                    pathTo.append(edgeTo[tgt])\n",
    "                    tgt = edgeTo[tgt]\n",
    "                \n",
    "                pathTo.append(src)\n",
    "                pathTo.reverse()\n",
    "                return pathTo\n",
    "            \n",
    "            if v not in visited:\n",
    "                queue.append(v)\n",
    "                visited.add(v)\n",
    "                edgeTo[v] = u\n",
    "        \n",
    "src = 'damp'\n",
    "tgt = 'like'\n",
    "print getPath(src, tgt, words)\n",
    "# DAMP -> LAMP -> LIMP -> LIME -> LIKE"
   ]
  },
  {
   "cell_type": "markdown",
   "metadata": {},
   "source": [
    "## Deep copy of a graph"
   ]
  },
  {
   "cell_type": "code",
   "execution_count": 10,
   "metadata": {
    "collapsed": false
   },
   "outputs": [
    {
     "name": "stdout",
     "output_type": "stream",
     "text": [
      "defaultdict(<function <lambda> at 0x105707758>, {'a': ['b', 'e'], 'c': [], 'b': ['d', 'c'], 'e': [], 'd': [], 'g': [], 'f': ['g']})\n",
      "defaultdict(<function <lambda> at 0x10575ec80>, {'a': ['b', 'e'], 'b': ['d', 'c'], 'f': ['g']})\n"
     ]
    }
   ],
   "source": [
    "copier = Copy()\n",
    "copier.copy(G)\n",
    "print G.adj\n",
    "print copier.adj"
   ]
  },
  {
   "cell_type": "markdown",
   "metadata": {
    "collapsed": true
   },
   "source": [
    "## Cartalk puzzle"
   ]
  },
  {
   "cell_type": "code",
   "execution_count": 194,
   "metadata": {
    "collapsed": false
   },
   "outputs": [
    {
     "name": "stdout",
     "output_type": "stream",
     "text": [
      "defaultdict(<function <lambda> at 0x10857d500>, {'a': 0, 'b': 0, 'bda': 0, 'ba': 0, 'bdca': 0, 'bca': 0})\n",
      "a b\n",
      "a ba\n",
      "a bca\n",
      "a bda\n",
      "a bdca\n",
      "ba a\n",
      "ba b\n",
      "ba bca\n",
      "ba bda\n",
      "ba bdca\n",
      "bda a\n",
      "bda b\n",
      "bda ba\n",
      "bda bca\n",
      "bda bdca\n",
      "bdca a\n",
      "bdca b\n",
      "bdca ba\n",
      "bdca bca\n",
      "bdca bda\n",
      "bca a\n",
      "bca b\n",
      "bca ba\n",
      "bca bda\n",
      "bca bdca\n",
      "b a\n",
      "b ba\n",
      "b bca\n",
      "b bda\n",
      "b bdca\n",
      "defaultdict(<type 'int'>, {0: 6})\n"
     ]
    },
    {
     "data": {
      "text/plain": [
       "<__main__.DFS instance at 0x10872c830>"
      ]
     },
     "execution_count": 194,
     "metadata": {},
     "output_type": "execute_result"
    }
   ],
   "source": [
    "words = ['a', 'b', 'ba', 'bca', 'bda', 'bdca']\n",
    "\n",
    "from collections import defaultdict\n",
    "\n",
    "\n",
    "def longestChain(words):\n",
    "    print words\n",
    "    pass\n",
    "\n",
    "def isNeighbor(word1, word2):\n",
    "    if abs(len(word1) - len(word2)) != 1:\n",
    "        return False\n",
    "    \n",
    "    longestWord = word1\n",
    "    shortestWord = word2\n",
    "    \n",
    "    if len(word1) < len(word2):\n",
    "        longestWord = word2\n",
    "        shortestWord = word1\n",
    "    \n",
    "    dictionary = defaultdict(int)\n",
    "    \n",
    "    for char in longestWord:\n",
    "        dictionary[char] += 1\n",
    "        \n",
    "    for char in shortestWord:\n",
    "        if dictionary[char] == 0:\n",
    "            return False\n",
    "        else:\n",
    "            dictionary[char] -= 1\n",
    "    \n",
    "    return sum( dictionary.values() ) == 1\n",
    "   \n",
    "\n",
    "class DFS:\n",
    "\n",
    "    def __init__(self, G, order):\n",
    "        self.count = 0;\n",
    "        self.size = defaultdict(int)\n",
    "        self.marked = defaultdict(lambda: False)\n",
    "        for v in order:\n",
    "            if not self.marked[v]:\n",
    "                self.dfs(G, v)\n",
    "                self.count += 1\n",
    "        \n",
    "        print self.size\n",
    "                \n",
    "    def dfs(self, G, v):\n",
    "        self.marked[v] = True\n",
    "        self.size[self.count] += 1\n",
    "        for u in G.adj[v]:\n",
    "            if not self.marked[u]:\n",
    "                self.dfs(G, u)\n",
    "    \n",
    "class Topological:\n",
    "      \n",
    "    def __init__(self, G):\n",
    "        \n",
    "        self.pre = defaultdict(int)\n",
    "        self.post = defaultdict(int)\n",
    "        self.count = 0;\n",
    "        \n",
    "        self.components = defaultdict(lambda: None)\n",
    "        \n",
    "        self.preCounter = 0\n",
    "        self.postCounter = 0\n",
    "        \n",
    "        self.marked = defaultdict(lambda: False)\n",
    "        for v in G.v:\n",
    "            if not self.marked[v]:\n",
    "                self.dfs(G, v)\n",
    "                self.count += 1\n",
    "                \n",
    "    def dfs(self, G, v):\n",
    "        self.marked[v] = True\n",
    "        self.components[v] = self.count \n",
    "        self.pre[v] = self.preCounter\n",
    "        self.preCounter += 1 \n",
    "  \n",
    "        for u in G.adj[v]:\n",
    "            if not self.marked[u]:\n",
    "                self.dfs(G, u)\n",
    "        \n",
    "        self.post[v] = self.postCounter\n",
    "        self.postCounter += 1\n",
    "        \n",
    "    def sort(self):\n",
    "        return [ key for (key, count) in sorted(self.post.items(), key=lambda _tuple: _tuple[1], reverse=True) ]\n",
    "                \n",
    "class Graph:\n",
    "\n",
    "    def __init__(self, words=[]):\n",
    "        self.E = 0\n",
    "        self.adj = defaultdict(lambda: set())\n",
    "        self.v = set()\n",
    "        # Add vertices\n",
    "        for word in words:\n",
    "            self.v.add(word)\n",
    "        \n",
    "        for word1 in words:\n",
    "            for word2 in words:\n",
    "                if word1 != word2 and self.isNeighbor(word1, word2):\n",
    "#                     longestWord = word1\n",
    "#                     shortestWord = word2\n",
    "#                     if len(word1) < len(word2):\n",
    "#                         longestWord = word2\n",
    "#                         shortestWord = word1\n",
    "                    self.addEdges(word1, word2)\n",
    "                    self.addEdges(word2, word1)\n",
    " \n",
    "    def V(self):\n",
    "        return len(self.v)\n",
    "                        \n",
    "    def addEdges(self, u, v):\n",
    "        self.v.add(u)\n",
    "        self.v.add(v)\n",
    "        self.adj[u].add(v)\n",
    "\n",
    "    def toString(self):\n",
    "        return self.adj\n",
    "    \n",
    "    def isNeighbor(self, word1, word2):\n",
    "        if abs(len(word1) - len(word2)) != 1:\n",
    "            return False\n",
    "\n",
    "        longestWord = word1\n",
    "        shortestWord = word2\n",
    "\n",
    "        if len(word1) < len(word2):\n",
    "            longestWord = word2\n",
    "            shortestWord = word1\n",
    "\n",
    "        dictionary = defaultdict(int)\n",
    "\n",
    "        for char in longestWord:\n",
    "            dictionary[char] += 1\n",
    "\n",
    "        for char in shortestWord:\n",
    "            if dictionary[char] == 0:\n",
    "                return False\n",
    "            else:\n",
    "                dictionary[char] -= 1\n",
    "\n",
    "        return sum( dictionary.values() ) == 1\n",
    "    \n",
    "G = Graph(words)\n",
    "dfs = Topological(G)\n",
    "\n",
    "print dfs.components\n",
    "\n",
    "for word1 in dfs.sort():\n",
    "    for word2 in sortByLength(words):\n",
    "        if word1 != word2 and dfs.components[word1] == dfs.components[word2]:\n",
    "            print word1, word2\n",
    "\n",
    "DFS(G, dfs.sort())"
   ]
  },
  {
   "cell_type": "code",
   "execution_count": 189,
   "metadata": {
    "collapsed": false
   },
   "outputs": [
    {
     "data": {
      "text/plain": [
       "4"
      ]
     },
     "execution_count": 189,
     "metadata": {},
     "output_type": "execute_result"
    }
   ],
   "source": [
    "# DP solutions\n",
    "\n",
    "def isNeighbor(word1, word2):\n",
    "    if abs(len(word1) - len(word2)) != 1:\n",
    "        return False\n",
    "    \n",
    "    longestWord = word1\n",
    "    shortestWord = word2\n",
    "    \n",
    "    if len(word1) < len(word2):\n",
    "        longestWord = word2\n",
    "        shortestWord = word1\n",
    "    \n",
    "    for i in range(len(longestWord)):\n",
    "        if longestWord[:i] + longestWord[i+1:] == shortestWord:\n",
    "            return True\n",
    "    return False\n",
    "    \n",
    "def sortByLength(words):\n",
    "    return sorted(words, key=lambda word: len(word), reverse=False)\n",
    "\n",
    "def longestChain(words):\n",
    "    sortedWords = sortByLength(words)\n",
    "    \n",
    "    T = [1]*len(words)\n",
    "    \n",
    "    for i in range(0, len(sortedWords)):\n",
    "\n",
    "        _max = -float('inf')\n",
    "        for j in range(0, i):\n",
    "            \n",
    "            if isNeighbor(words[i], words[j]) and T[j] + 1 > _max:\n",
    "                T[i] = T[j] + 1\n",
    "                _max = T[i]\n",
    "    return _max\n",
    "    \n",
    "words = ['zz', 'b', 'ba', 'bca', 'bda', 'bdca']\n",
    "longestChain(words)    "
   ]
  },
  {
   "cell_type": "code",
   "execution_count": 178,
   "metadata": {
    "collapsed": false
   },
   "outputs": [
    {
     "name": "stdout",
     "output_type": "stream",
     "text": [
      "2\n"
     ]
    },
    {
     "data": {
      "text/plain": [
       "<__main__.ConnectedComponents instance at 0x1086e6680>"
      ]
     },
     "execution_count": 178,
     "metadata": {},
     "output_type": "execute_result"
    }
   ],
   "source": [
    "zombies = ['1100', '1110', '0110', '0001']\n",
    "\n",
    "class Graph:\n",
    "\n",
    "    def __init__(self, zombies=[]):\n",
    "        self.E = 0\n",
    "        self.adj = defaultdict(lambda: set())\n",
    "        self.v = set()\n",
    "        \n",
    "        # Add vertices\n",
    "        for i, zombie in enumerate(zombies):\n",
    "            self.v.add(i)\n",
    "        \n",
    "        for i, zombie in enumerate(zombies):\n",
    "            for j, val in enumerate(list(zombie)):\n",
    "                if i != j and val == '1':\n",
    "                    self.addEdges(i, j)\n",
    "                    self.addEdges(j, i)\n",
    "        \n",
    "    def V(self):\n",
    "        return len(self.v)\n",
    "\n",
    "    def addEdges(self, u, v):\n",
    "        self.v.add(u)\n",
    "        self.v.add(v)\n",
    "        self.adj[u].add(v)\n",
    "\n",
    "    def toString(self):\n",
    "        return self.adj\n",
    "    \n",
    "class ConnectedComponents:\n",
    "    def __init__(self, G):\n",
    "        count = 0;\n",
    "        self.marked = defaultdict(lambda: False)\n",
    "        for v in G.v:\n",
    "            if not self.marked[v]:\n",
    "                self.dfs(G, v)\n",
    "                count += 1\n",
    "        print count\n",
    "                \n",
    "    def dfs(self, G, v):\n",
    "        self.marked[v] = True\n",
    "        \n",
    "        for u in G.adj[v]:\n",
    "            if not self.marked[u]:\n",
    "                self.dfs(G, u)\n",
    "\n",
    "G = Graph(zombies)\n",
    "ConnectedComponents(G)"
   ]
  },
  {
   "cell_type": "code",
   "execution_count": 188,
   "metadata": {
    "collapsed": false
   },
   "outputs": [
    {
     "name": "stdout",
     "output_type": "stream",
     "text": [
      "ello\n",
      "hllo\n",
      "helo\n",
      "helo\n",
      "hell\n",
      "hello\n"
     ]
    }
   ],
   "source": [
    "st = \"hello\"\n",
    "\n",
    "    \n"
   ]
  },
  {
   "cell_type": "code",
   "execution_count": null,
   "metadata": {
    "collapsed": true
   },
   "outputs": [],
   "source": []
  }
 ],
 "metadata": {
  "kernelspec": {
   "display_name": "Python 2",
   "language": "python",
   "name": "python2"
  },
  "language_info": {
   "codemirror_mode": {
    "name": "ipython",
    "version": 2
   },
   "file_extension": ".py",
   "mimetype": "text/x-python",
   "name": "python",
   "nbconvert_exporter": "python",
   "pygments_lexer": "ipython2",
   "version": "2.7.9"
  }
 },
 "nbformat": 4,
 "nbformat_minor": 0
}
