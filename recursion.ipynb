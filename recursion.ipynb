{
 "cells": [
  {
   "cell_type": "markdown",
   "metadata": {},
   "source": [
    "## Returns\n",
    "2 type of return in reccursion \n",
    "- Initialize return type in every reccursive call: That means that we are trying to build upon the basecase solution. \n",
    "- Keep on appending"
   ]
  },
  {
   "cell_type": "markdown",
   "metadata": {},
   "source": [
    "## Compute All permutation in a string\n",
    "\n",
    "Write a function to compute all permutations of a string of unique characters."
   ]
  },
  {
   "cell_type": "code",
   "execution_count": 34,
   "metadata": {
    "collapsed": false
   },
   "outputs": [
    {
     "data": {
      "text/plain": [
       "['abc', 'acb', 'bac', 'bca', 'cab', 'cba']"
      ]
     },
     "execution_count": 34,
     "metadata": {},
     "output_type": "execute_result"
    }
   ],
   "source": [
    "def perm(s):\n",
    "    if len(s) == 0:\n",
    "        return ['']\n",
    "\n",
    "    strings = []\n",
    "    for i in range(len(s)):\n",
    "        # Compute a list of permutations of s with s[i] removed.\n",
    "        subStrings = perm(s[:i]+s[i+1:])\n",
    "        # Prepend s[i] to each string in that list.\n",
    "        for subString in subStrings:\n",
    "            strings += [s[i] + subString]\n",
    "    return strings\n",
    "perm('abc')"
   ]
  },
  {
   "cell_type": "markdown",
   "metadata": {},
   "source": [
    "## Permutations of size k. \n",
    "\n",
    "Writes all P(n, k) = n! / (n-k)! permutations that contain exactly k of the n elements.  \n",
    "perm('abc', '2') => [ ab ac ad ba bc bd ca cb cd da db dc ]"
   ]
  },
  {
   "cell_type": "code",
   "execution_count": 1,
   "metadata": {
    "collapsed": false
   },
   "outputs": [
    {
     "data": {
      "text/plain": [
       "['ab', 'ac', 'ad', 'ba', 'bc', 'bd', 'ca', 'cb', 'cd', 'da', 'db', 'dc']"
      ]
     },
     "execution_count": 1,
     "metadata": {},
     "output_type": "execute_result"
    }
   ],
   "source": [
    "def perm(s, k):\n",
    "    if len(s) == 0 or k == 0:\n",
    "        return ['']\n",
    "\n",
    "    strings = []\n",
    "    for i in range(len(s)):\n",
    "        subStrings = perm(s[:i]+s[i+1:], k-1)         # Compute a list of permutations of s with s[i] removed\n",
    "        for subString in subStrings:                  # Prepend s[i] to each string in that list.\n",
    "            strings += [s[i] + subString]\n",
    "    return strings\n",
    "\n",
    "perm('abcd', 2)"
   ]
  },
  {
   "cell_type": "markdown",
   "metadata": {},
   "source": [
    "## Powerset\n",
    "\n",
    "Write a method to compute all subsets of a set."
   ]
  },
  {
   "cell_type": "code",
   "execution_count": 65,
   "metadata": {
    "collapsed": false
   },
   "outputs": [],
   "source": [
    "def combination(s):\n",
    "    if len(s) == 0:\n",
    "        return ['']   \n",
    "    pset = combination(s[1::])\n",
    "    for i in range(len(pset)):\n",
    "        pset.append(s[0] + pset[i])\n",
    "    return pset\n",
    "\n",
    "assert set(combination('abc')) == set(['', 'a', 'b', 'c', 'ab', 'bc', 'ac', 'abc'])\n",
    "\n",
    "\n",
    "def combinations(s):\n",
    "    strings = []\n",
    "    for i in range(len(s)+1):\n",
    "        strings += choose(s, i)\n",
    "    return strings\n",
    "\n",
    "def choose(s, k):\n",
    "    if k == 0:\n",
    "        return ['']\n",
    "    strings = []\n",
    "    for i in range(len(s)):\n",
    "        subStrings = choose(s[i+1:], k-1)\n",
    "        for subString in subStrings:\n",
    "            strings += [s[i] + subString]\n",
    "    return strings\n",
    "\n",
    "assert set(combinations('abc')) == set(['', 'a', 'b', 'c', 'ab', 'bc', 'ac', 'abc'])"
   ]
  },
  {
   "cell_type": "markdown",
   "metadata": {},
   "source": [
    "## Combinations of size k.\n",
    "\n",
    "Prints out all C(n, k) = n! / (k! * (n-k)!) combinations of size k. \n",
    "\n",
    "combinations('abcd', 5) = abc abd abe acd ace ade bcd bce bde cde "
   ]
  },
  {
   "cell_type": "code",
   "execution_count": 66,
   "metadata": {
    "collapsed": false
   },
   "outputs": [],
   "source": [
    "assert choose('abcde', 3) == ['abc', 'abd', 'abe', 'acd', 'ace', 'ade', 'bcd', 'bce', 'bde', 'cde']"
   ]
  },
  {
   "cell_type": "markdown",
   "metadata": {},
   "source": [
    "## CCI 9.6 Print all valid parentheses.\n",
    "\n",
    "- Input: 3 \n",
    "- Output: ((())), (()()), (())(), ()(()), ()()()\n",
    "- Strategy: Build parenthesis recursively\n",
    "    - Base Case ['']\n",
    "    - Recurrence\n",
    "        - ( + paren + )\n",
    "        - () + paren \n",
    "        - paren + ()"
   ]
  },
  {
   "cell_type": "code",
   "execution_count": 1,
   "metadata": {
    "collapsed": false
   },
   "outputs": [
    {
     "data": {
      "text/plain": [
       "{'((()))', '(()())', '(())()', '()(())', '()()()'}"
      ]
     },
     "execution_count": 1,
     "metadata": {},
     "output_type": "execute_result"
    }
   ],
   "source": [
    "def generateParenth(n):\n",
    "    if n == 0:\n",
    "        return ['']\n",
    "    \n",
    "    parens = generateParenth(n-1)\n",
    "    nparens = set()\n",
    "    \n",
    "    for paren in parens:\n",
    "        nparens.add('(' + paren + ')')\n",
    "        nparens.add('()' + paren )\n",
    "        nparens.add(paren + '()')    \n",
    "    return nparens\n",
    "\n",
    "generateParenth(3)"
   ]
  },
  {
   "cell_type": "code",
   "execution_count": 2,
   "metadata": {
    "collapsed": false
   },
   "outputs": [
    {
     "data": {
      "text/html": [
       "\n",
       "<script>\n",
       "code_show=false; \n",
       "function code_toggle() {\n",
       "    if (code_show){\n",
       "        $('div.input').show();\n",
       "    } else {\n",
       "        $('div.input').hide();\n",
       "    }\n",
       "    code_show = !code_show\n",
       "} \n",
       "$( document ).ready(code_toggle);\n",
       "</script>\n",
       "<form action=\"javascript:code_toggle()\"><input type=\"submit\" value=\"Click here to toggle on/off the raw code\"></form>"
      ],
      "text/plain": [
       "<IPython.core.display.HTML object>"
      ]
     },
     "execution_count": 2,
     "metadata": {},
     "output_type": "execute_result"
    }
   ],
   "source": [
    "from IPython.display import HTML\n",
    "\n",
    "HTML('''\n",
    "<script>\n",
    "code_show=false; \n",
    "function code_toggle() {\n",
    "    if (code_show){\n",
    "        $('div.input').show();\n",
    "    } else {\n",
    "        $('div.input').hide();\n",
    "    }\n",
    "    code_show = !code_show\n",
    "} \n",
    "$( document ).ready(code_toggle);\n",
    "</script>\n",
    "<form action=\"javascript:code_toggle()\"><input type=\"submit\" value=\"Click here to toggle on/off the raw code\"></form>''')"
   ]
  },
  {
   "cell_type": "code",
   "execution_count": null,
   "metadata": {
    "collapsed": true
   },
   "outputs": [],
   "source": []
  }
 ],
 "metadata": {
  "kernelspec": {
   "display_name": "Python 2",
   "language": "python",
   "name": "python2"
  },
  "language_info": {
   "codemirror_mode": {
    "name": "ipython",
    "version": 2
   },
   "file_extension": ".py",
   "mimetype": "text/x-python",
   "name": "python",
   "nbconvert_exporter": "python",
   "pygments_lexer": "ipython2",
   "version": "2.7.9"
  }
 },
 "nbformat": 4,
 "nbformat_minor": 0
}
