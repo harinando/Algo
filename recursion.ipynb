{
 "cells": [
  {
   "cell_type": "markdown",
   "metadata": {},
   "source": [
    "## Returns\n",
    "2 type of return in reccursion \n",
    "- Initialize return type in every reccursive call: That means that we are trying to build upon the basecase solution. \n",
    "- Keep on appending"
   ]
  },
  {
   "cell_type": "markdown",
   "metadata": {},
   "source": [
    "## Compute All permutation in a string\n",
    "\n",
    "Write a function to compute all permutations of a string of unique characters.\n",
    "\n",
    "- Input: list a\n",
    "- Output: permutation of a\n",
    "- Strategy for eg: [1, 2, 3] \n",
    "    - P(0) = {\"\"}\n",
    "    - P(1) = {1}\n",
    "    - P(2) = {1, 2} & {2, 1} ---- 2 + P(1) & P(1) + 2\n",
    "    - P(3) = {1, 2, 3}, {3, 1, 2}, {1, 3, 2}, {2, 1, 3}, {3, 2, 1}, {2, 3, 1} --- 3 + P(2) & P(2) + 3 & also in between"
   ]
  },
  {
   "cell_type": "code",
   "execution_count": 73,
   "metadata": {
    "collapsed": false
   },
   "outputs": [
    {
     "name": "stdout",
     "output_type": "stream",
     "text": [
      "120\n"
     ]
    }
   ],
   "source": [
    "def perm(s):\n",
    "    if len(s) == 0:\n",
    "        return [\" \"]\n",
    "    first = s[0]\n",
    "    permutations = []\n",
    "    words = perm(s[1:])\n",
    "    for word in words:\n",
    "        for i in range(len(word)):\n",
    "            permutations.append(word[:i]+first+word[i:])\n",
    "            \n",
    "    return permutations\n",
    "\n",
    "print len(perm('abcde'))"
   ]
  },
  {
   "cell_type": "markdown",
   "metadata": {},
   "source": [
    "## Combinations of size k.\n",
    "\n",
    "Prints out all C(n, k) = n! / (k! * (n-k)!) combinations of size k. \n",
    "\n",
    "combinations('abcd', 3) = abc abd abe acd ace ade bcd bce bde cde \n",
    "\n",
    "\n",
    "- j=0, {''}\n",
    "- j=1, {'', a}\n",
    "- j=2, {'', a, b, ab} "
   ]
  },
  {
   "cell_type": "code",
   "execution_count": 86,
   "metadata": {
    "collapsed": false
   },
   "outputs": [
    {
     "name": "stdout",
     "output_type": "stream",
     "text": [
      "120\n",
      "['abcde ', 'bacde ', 'bcade ', 'bcdae ', 'bcdea ', 'acbde ', 'cabde ', 'cbade ', 'cbdae ', 'cbdea ', 'acdbe ', 'cadbe ', 'cdabe ', 'cdbae ', 'cdbea ', 'acdeb ', 'cadeb ', 'cdaeb ', 'cdeab ', 'cdeba ', 'abdce ', 'badce ', 'bdace ', 'bdcae ', 'bdcea ', 'adbce ', 'dabce ', 'dbace ', 'dbcae ', 'dbcea ', 'adcbe ', 'dacbe ', 'dcabe ', 'dcbae ', 'dcbea ', 'adceb ', 'daceb ', 'dcaeb ', 'dceab ', 'dceba ', 'abdec ', 'badec ', 'bdaec ', 'bdeac ', 'bdeca ', 'adbec ', 'dabec ', 'dbaec ', 'dbeac ', 'dbeca ', 'adebc ', 'daebc ', 'deabc ', 'debac ', 'debca ', 'adecb ', 'daecb ', 'deacb ', 'decab ', 'decba ', 'abced ', 'baced ', 'bcaed ', 'bcead ', 'bceda ', 'acbed ', 'cabed ', 'cbaed ', 'cbead ', 'cbeda ', 'acebd ', 'caebd ', 'ceabd ', 'cebad ', 'cebda ', 'acedb ', 'caedb ', 'ceadb ', 'cedab ', 'cedba ', 'abecd ', 'baecd ', 'beacd ', 'becad ', 'becda ', 'aebcd ', 'eabcd ', 'ebacd ', 'ebcad ', 'ebcda ', 'aecbd ', 'eacbd ', 'ecabd ', 'ecbad ', 'ecbda ', 'aecdb ', 'eacdb ', 'ecadb ', 'ecdab ', 'ecdba ', 'abedc ', 'baedc ', 'beadc ', 'bedac ', 'bedca ', 'aebdc ', 'eabdc ', 'ebadc ', 'ebdac ', 'ebdca ', 'aedbc ', 'eadbc ', 'edabc ', 'edbac ', 'edbca ', 'aedcb ', 'eadcb ', 'edacb ', 'edcab ', 'edcba ']\n"
     ]
    }
   ],
   "source": [
    "def choose(s, k):\n",
    "    if len(s) == 0:\n",
    "        return [\"\"]\n",
    "    \n",
    "    if len\n",
    "    \n",
    "    first = s[0]\n",
    "    permutations = []\n",
    "    words = choose(s[1:], k)\n",
    "    for word in words:\n",
    "        for i in range(len(word)):\n",
    "            permutations.append(word[:i]+first+word[i:])\n",
    "            \n",
    "    return permutations\n",
    "    \n",
    "\n",
    "p = choose('abcde', 5)\n",
    "print len(p)\n",
    "print p\n",
    "# assert choose('abcde', 3) == ['abc', 'abd', 'abe', 'acd', 'ace', 'ade', 'bcd', 'bce', 'bde', 'cde']"
   ]
  },
  {
   "cell_type": "markdown",
   "metadata": {},
   "source": [
    "## CCI 9.4 Powerset\n",
    "\n",
    "Write a method to compute all subsets of a set.\n",
    "\n",
    "- Input: Integer n\n",
    "- Output: Powerset\n",
    "- Strategy:\n",
    "    - P(0) = {''}\n",
    "    - P(1) = {{''}, {1} } --- P(0), P(0) + {1}\n",
    "    - P(2) = {{''}, {1}, {2}, {1, 2}} --- P(1), P(1) + {2}\n",
    "    - P(3) = {{''}, {1}, {2}, {1, 2},  {3}, {1, 3}, {2, 3}, {1, 2, 3}}  --- P(2), P(2) + {3}"
   ]
  },
  {
   "cell_type": "code",
   "execution_count": 7,
   "metadata": {
    "collapsed": false
   },
   "outputs": [],
   "source": [
    "def powerset(s):\n",
    "    if len(s) == 0:\n",
    "        return ['']   \n",
    "    pset = powerset(s[1::])\n",
    "    for i in range(len(pset)):\n",
    "        pset.append(s[0] + pset[i])\n",
    "    return pset\n",
    "\n",
    "assert set(powerset('abc')) == set(['', 'a', 'b', 'c', 'ab', 'bc', 'ac', 'abc'])"
   ]
  },
  {
   "cell_type": "markdown",
   "metadata": {},
   "source": [
    "## CCI 9.6 Print all valid parentheses.\n",
    "\n",
    "- Input: 3 \n",
    "- Output: ((())), (()()), (())(), ()(()), ()()()\n",
    "- Strategy: Build parenthesis recursively\n",
    "    - Base Case ['']\n",
    "    - Recurrence\n",
    "        - ( + paren + )\n",
    "        - () + paren \n",
    "        - paren + ()"
   ]
  },
  {
   "cell_type": "code",
   "execution_count": 1,
   "metadata": {
    "collapsed": false
   },
   "outputs": [
    {
     "data": {
      "text/plain": [
       "{'((()))', '(()())', '(())()', '()(())', '()()()'}"
      ]
     },
     "execution_count": 1,
     "metadata": {},
     "output_type": "execute_result"
    }
   ],
   "source": [
    "def generateParenth(n):\n",
    "    if n == 0:\n",
    "        return ['']\n",
    "    \n",
    "    parens = generateParenth(n-1)\n",
    "    nparens = set()\n",
    "    \n",
    "    for paren in parens:\n",
    "        nparens.add('(' + paren + ')')\n",
    "        nparens.add('()' + paren )\n",
    "        nparens.add(paren + '()')    \n",
    "    return nparens\n",
    "\n",
    "generateParenth(3)"
   ]
  },
  {
   "cell_type": "markdown",
   "metadata": {},
   "source": [
    "## CCI 9.8 Coin change variant #1\n",
    "\n",
    "Given an infinite number of quartes (25 centts), dimes(10 cents), nickels(5 cents) and pennies(1 cent), write code to calculate the number of ways of representing n cents."
   ]
  },
  {
   "cell_type": "markdown",
   "metadata": {},
   "source": [
    "## Staircase\n",
    "\n",
    "https://www.hackerrank.com/challenges/staircase"
   ]
  },
  {
   "cell_type": "markdown",
   "metadata": {},
   "source": [
    "def staircase(n):\n",
    "   \n",
    "    for i in range(1, n+1):\n",
    "        spaceLen = n - i\n",
    "        print ' ' * spaceLen + '#'*i\n",
    "\n",
    "staircase(6)"
   ]
  },
  {
   "cell_type": "code",
   "execution_count": 2,
   "metadata": {
    "collapsed": false
   },
   "outputs": [
    {
     "data": {
      "text/html": [
       "\n",
       "<script>\n",
       "code_show=false; \n",
       "function code_toggle() {\n",
       "    if (code_show){\n",
       "        $('div.input').show();\n",
       "    } else {\n",
       "        $('div.input').hide();\n",
       "    }\n",
       "    code_show = !code_show\n",
       "} \n",
       "$( document ).ready(code_toggle);\n",
       "</script>\n",
       "<form action=\"javascript:code_toggle()\"><input type=\"submit\" value=\"Click here to toggle on/off the raw code\"></form>"
      ],
      "text/plain": [
       "<IPython.core.display.HTML object>"
      ]
     },
     "execution_count": 2,
     "metadata": {},
     "output_type": "execute_result"
    }
   ],
   "source": [
    "from IPython.display import HTML\n",
    "\n",
    "HTML('''\n",
    "<script>\n",
    "code_show=false; \n",
    "function code_toggle() {\n",
    "    if (code_show){\n",
    "        $('div.input').show();\n",
    "    } else {\n",
    "        $('div.input').hide();\n",
    "    }\n",
    "    code_show = !code_show\n",
    "} \n",
    "$( document ).ready(code_toggle);\n",
    "</script>\n",
    "<form action=\"javascript:code_toggle()\"><input type=\"submit\" value=\"Click here to toggle on/off the raw code\"></form>''')"
   ]
  },
  {
   "cell_type": "code",
   "execution_count": null,
   "metadata": {
    "collapsed": true
   },
   "outputs": [],
   "source": []
  }
 ],
 "metadata": {
  "kernelspec": {
   "display_name": "Python 2",
   "language": "python",
   "name": "python2"
  },
  "language_info": {
   "codemirror_mode": {
    "name": "ipython",
    "version": 2
   },
   "file_extension": ".py",
   "mimetype": "text/x-python",
   "name": "python",
   "nbconvert_exporter": "python",
   "pygments_lexer": "ipython2",
   "version": "2.7.9"
  }
 },
 "nbformat": 4,
 "nbformat_minor": 0
}
