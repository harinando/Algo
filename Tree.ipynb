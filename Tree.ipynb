{
 "cells": [
  {
   "cell_type": "code",
   "execution_count": 2,
   "metadata": {
    "collapsed": false
   },
   "outputs": [
    {
     "name": "stdout",
     "output_type": "stream",
     "text": [
      "\n"
     ]
    }
   ],
   "source": [
    "from lib.trees import BST\n",
    "\"\"\"\n",
    "                20\n",
    "       8                  22\n",
    "    2       14         None     25\n",
    "1       10     16\n",
    "\n",
    "\"\"\"\n",
    "tree = BST()\n",
    "tree.put(20)\n",
    "tree.put(8)\n",
    "tree.put(2)\n",
    "tree.put(1)\n",
    "tree.put(14)\n",
    "tree.put(10)\n",
    "tree.put(16)\n",
    "tree.put(22)\n",
    "tree.put(25)\n",
    "\n",
    "assert tree.depth(tree.root)  == 4\n",
    "assert tree.height(tree.root) == 4"
   ]
  },
  {
   "cell_type": "markdown",
   "metadata": {},
   "source": [
    "## Level Order tree traversal\n"
   ]
  },
  {
   "cell_type": "code",
   "execution_count": 54,
   "metadata": {
    "collapsed": false
   },
   "outputs": [
    {
     "name": "stdout",
     "output_type": "stream",
     "text": [
      "Level Order Traversal [20, 8, 22, 2, 12, 25, 1, 10, 14]\n"
     ]
    }
   ],
   "source": [
    "print 'Level Order Traversal', tree.levelOrder()"
   ]
  },
  {
   "cell_type": "markdown",
   "metadata": {},
   "source": [
    "## Rank  \n",
    "- Input : Key\n",
    "- Output: Element such that  K other elements in the BST is smaller \n",
    "- Strategy: Find the given key recursively first, then output the number of keys in the left element\n",
    "    - If the given key is equal to the key at the root, we return the number of keys t in the left subtree;\n",
    "    - If the given key is less than the key at the root, we return the rank of the key in the left subtree; \n",
    "    - If the given key is larger than the key at the root, we return (to count the key at the root) plus the rank of the key in the right subtree.\n",
    "\n",
    "## Select\n",
    "- Input: Integer k.\n",
    "- Output: Node that has k elements smaller in the BST.\n",
    "- Algorithm:\n",
    "    - If the number of keys t in the left subtree is larger than k, we look (recursively) for the key of rank k in the left subtree\n",
    "    - If t is equal to k, we return the key at the root;\n",
    "    - If t is smaller than k, we look (recursively) for the key of rank k - t - 1 in the right subtree. I look for rank k-t-1 because my base case if the size of the left subtree. \n",
    "\n",
    "## Floor \n",
    "- Input: Key \n",
    "- Value: the largest key in the BST less than or equal to key --- floor(2.31) = 2\n",
    "- Algorithm:\n",
    "    -  If a given key key is less than the key at the root of a BST, then the floor of key must be in the left subtree. \n",
    "    - If key is greater than the key at the root, then the floor of key could be in the right subtree\n",
    "        - if there is a key smaller than or equal to key in the right subtree.\n",
    "        - if not then the key at the root is the floor of key. \n",
    "- Implementation: The base-case is very important here. If the right subtree doesn't have a key smaller than or equal to the key, then it must return null. We don't return immediately, but check wether it's null or not. If it is null then we return the node at the root.\n",
    "\n",
    "## Ceiling\n",
    "- Input: Key \n",
    "- Value: the largest key in the BST greater than or equal to key.\n",
    "- Algorithm: \n",
    "    -  If a given key key is less than the key at the root of a BST, then the floor of key must be in the right subtree. \n",
    "    - If key is greater than the key at the root, then the floor of key could be in the left subtree\n",
    "        - if there is a key smaller than or equal to key in the left subtree.\n",
    "        - if not then the key at the root is the floor of key. \n",
    "        \n",
    "## Depth of the tree\n",
    "\n",
    "- Input  : Tree Node\n",
    "- Output : Depth of the tree \n",
    "- Strategy: Recursively compute the deph.\n",
    "    - Base case: If node is null, then the depth is 0.\n",
    "    - Recurrence: Depth is the maximum of the left and right subtree."
   ]
  },
  {
   "cell_type": "markdown",
   "metadata": {},
   "source": [
    "## Inorder printing"
   ]
  },
  {
   "cell_type": "code",
   "execution_count": 62,
   "metadata": {
    "collapsed": false
   },
   "outputs": [
    {
     "name": "stdout",
     "output_type": "stream",
     "text": [
      "Non-Recursive In-Order Traversal:  [1, 2, 8, 10, 12, 14, 20, 22, 25]\n",
      "Recursive In-Order Traversal:  [1, 2, 8, 10, 12, 14, 20, 22, 25]\n"
     ]
    }
   ],
   "source": [
    "print 'Non-Recursive In-Order Traversal: ', tree.nrinorder()\n",
    "print 'Recursive In-Order Traversal: ', tree.inorder()"
   ]
  },
  {
   "cell_type": "markdown",
   "metadata": {},
   "source": [
    "## Boundary Element\n",
    "- Input: A binary tree\n",
    "- Output: Print the boundary elements of the given tree.\n",
    "- Strategy: Recursively look for:\n",
    "    - Left boundary nodes\n",
    "    - Right boundary nodes\n",
    "    - Leaf boundary nodes"
   ]
  },
  {
   "cell_type": "code",
   "execution_count": 61,
   "metadata": {
    "collapsed": false
   },
   "outputs": [],
   "source": [
    "assert set(tree.boundary()) == set([20, 8, 2, 1, 10, 14, 25, 22])"
   ]
  },
  {
   "cell_type": "markdown",
   "metadata": {},
   "source": [
    "## Zig-Zag Level Order Printing\n",
    "- Input: A tree\n",
    "- Output: Print the tree in zig-zag level order printing\n",
    "- Strategy: Modified BFS\n",
    "    - Keep 2 stacks that reads each level from left2right and right2left\n",
    "    - add root to l2r\n",
    "    - While l2r or r2l is not empty\n",
    "        - while l2r\n",
    "            - x = Pop l2r \n",
    "            - Check if x is None and print x.key \n",
    "            - Enqueue x's children into r2l\n",
    "            \n",
    "        - while r2l\n",
    "            - x = Pop r2l\n",
    "            - Check if x is None and print x.key\n",
    "            - Enqueue x's children into l2r"
   ]
  },
  {
   "cell_type": "code",
   "execution_count": 3,
   "metadata": {
    "collapsed": false
   },
   "outputs": [
    {
     "name": "stdout",
     "output_type": "stream",
     "text": [
      "ZigZag Level Order Traversal:  [20, 22, 8, 2, 14, 25, 16, 10, 1]\n",
      "[20, 8, 22, 2, 14, 25, 1, 10, 16]\n"
     ]
    }
   ],
   "source": [
    "print 'ZigZag Level Order Traversal: ', tree.zigzagOrder()\n",
    "print tree.levelOrder()"
   ]
  },
  {
   "cell_type": "markdown",
   "metadata": {},
   "source": [
    "## Invert a binary tree\n",
    "- Idea: Modify the tree by reference. \n",
    "    - Save a copy of the left subtree\n",
    "    - Swap left and right subtree\n",
    "    - Recursively invert left, and right subtree."
   ]
  },
  {
   "cell_type": "markdown",
   "metadata": {},
   "source": [
    "## Tree traversal with constant extra memory.\n",
    "Describe how to perform an inorder tree traversal with constant extra memory (e.g., no function call stack). Hint: on the way down the tree, make the child node point back to the parent (and reverse it on the way up the tree)."
   ]
  },
  {
   "cell_type": "markdown",
   "metadata": {},
   "source": [
    "## Root to any node path sum equal to a given number\n",
    "\n",
    "- Input   : Binary tree, number N\n",
    "- Output  : Tree if there exist a path from root to any node that equals to N\n",
    "- Idea: The given node has a path of sum N if one of the 2 conditions are met:\n",
    "    - if node.left has a path of sum N-node.left.key\n",
    "    - if node.right has a path of sum N-Node.right.key"
   ]
  },
  {
   "cell_type": "code",
   "execution_count": 25,
   "metadata": {
    "collapsed": false
   },
   "outputs": [],
   "source": [
    "assert tree.hasPathSum(30) \n",
    "assert tree.hasPathSum(28)\n",
    "assert tree.hasPathSum(42)\n",
    "assert not tree.hasPathSum(2)\n",
    "assert not tree.hasPathSum(100)"
   ]
  },
  {
   "cell_type": "markdown",
   "metadata": {},
   "source": [
    "## 4.9 Path that sums to N\n",
    "You are given a binary tree in which each node contains an integer value (which might be positive or negative). Design an algorithm that print all paths which sum to a given value. The path does not need to start or end at the root or a leaf, but it must go in a straight line down.\n",
    "\n",
    "- Input: N\n",
    "- Output: All path that sums to N in the binary tree.\n",
    "- Idea:\n",
    "    - Keep an array to store the value of each node at each level. Note, that you don't have to worry about left and right children because the preorder transversal is going to take care of the book-keeping.\n",
    "    - Traverse the whole graph { Pre-order transversal } and at each level check whether previously visited nodes sums to N.\n"
   ]
  },
  {
   "cell_type": "code",
   "execution_count": 97,
   "metadata": {
    "collapsed": false
   },
   "outputs": [
    {
     "name": "stdout",
     "output_type": "stream",
     "text": [
      "[20, 8, 14]\n",
      "[20, 22]\n"
     ]
    }
   ],
   "source": [
    "tree.findSum(42)"
   ]
  },
  {
   "cell_type": "markdown",
   "metadata": {},
   "source": [
    "## CCI 4.8 Subtree\n",
    "\n",
    "You have two very large binary trees: Tl, with millions of nodes, and T2, with hundreds of nodes. Create an algorithm to decide if T2 is a subtree of Tl.\n",
    "\n",
    "A tree T2 is a subtree of Tl if there exists a node n in Tl such that the subtree of n is identical to T2. That is, if you cut off the tree at node n, the two trees would be identical.\n",
    "\n",
    "- Idea: Search through the larger tree T1 and each time a node in T1 matches the root of T2, compare the two subtrees recursively and check wether they are identical or not.\n",
    "- Alternatively, I can compute the pre-order and post-order to compare wether 2 trees are identical or not."
   ]
  },
  {
   "cell_type": "code",
   "execution_count": 96,
   "metadata": {
    "collapsed": false
   },
   "outputs": [],
   "source": [
    "def containsTree(root1, root2):\n",
    "    if root2 is None:\n",
    "        return True\n",
    "    return traverse(root1, root2)\n",
    "\n",
    "def traverse(root1, root2):\n",
    "\n",
    "    if root1 is None:\n",
    "        return False\n",
    "    \n",
    "    if root1.key == root2.key and subTree(root1, root2):\n",
    "        return True\n",
    "    \n",
    "    return traverse(root1.left, root2) or traverse(root1.right, root2)\n",
    "\n",
    "def subTree(root1, root2):\n",
    "    if root1 is None and root2 is None: # both trees are empty\n",
    "        return True\n",
    "    \n",
    "    if root1 is None or root2 is None:  # One of the trees are empty\n",
    "        return False\n",
    "    \n",
    "    if root1.key != root2.key:\n",
    "        return False                    # data doesn't match\n",
    "    return subTree(root1.left, root2.left) & subTree(root1.right, root2.right)\n",
    "\n",
    "\"\"\"\n",
    "                20\n",
    "       8                  22\n",
    "    2       14         None     25\n",
    "1       10     16\n",
    "\n",
    "\"\"\"\n",
    "assert containsTree(tree.root, None) == True\n",
    "assert containsTree(tree.root, tree.root) == True\n",
    "assert containsTree(None, tree) == False\n",
    "assert containsTree(tree.root, tree.root.left.right) == True\n",
    "assert containsTree(tree.root, tree.root.right) == True"
   ]
  },
  {
   "cell_type": "markdown",
   "metadata": {},
   "source": [
    "## CCI 4.7 Common parent\n",
    "\n",
    "Design an algorithm and write code to find the first common ancestor of two nodes\n",
    "in a binary tree. **Avoid storing additional nodes in a data structure.** NOTE: This is not\n",
    "necessarily a binary search tree\n",
    "\n",
    "- Input: key1 & key2\n",
    "- Output: Common parent key\n",
    "- Notes: \n",
    "    - This is not a BST, thus I have to search through the array.\n",
    "- Solution #1: Use an additional data structure.\n",
    "    - \n",
    "- Solution #2: \n",
    "    - Case #1: p & q are on different side.\n",
    "    - Case #2: p & q are on the same side."
   ]
  },
  {
   "cell_type": "code",
   "execution_count": null,
   "metadata": {
    "collapsed": false
   },
   "outputs": [],
   "source": [
    "def cover(root, p):\n",
    "    if root is None:\n",
    "        return False\n",
    "    if root.key == p:\n",
    "        return True\n",
    "    return cover(root.left, p) or cover(root.right, p)\n",
    "    \n",
    "\n",
    "def commonAncestor(root, p, q):\n",
    "    if root is None:\n",
    "        return None\n",
    "    if root.key == p or root.key == q:\n",
    "        return root\n",
    "    isPonLeft = cover(root.left, p) \n",
    "    isQonLeft = cover(root.left, q)\n",
    "    if isPonLeft != isQonLeft:\n",
    "        return root\n",
    "    \n",
    "    child = root.left if isPonLeft else root.right\n",
    "    return commonAncestor(child, p, q)\n",
    "\n",
    "\"\"\"\n",
    "                20\n",
    "       8                  22\n",
    "    2       14         None     25\n",
    "1       10     16\n",
    "\n",
    "\"\"\"\n",
    "# assert commonAncestor(tree.root, 25, 16).key == 20\n",
    "# assert commonAncestor(tree.root, 10, 16).key == 14\n",
    "# assert commonAncestor(tree.root, 2, 10).key == 8\n",
    "# assert commonAncestor(tree.root, 25, 22).key == 22"
   ]
  },
  {
   "cell_type": "markdown",
   "metadata": {},
   "source": [
    "##\n",
    "https://www.hackerrank.com/challenges/queries-with-fixed-length"
   ]
  },
  {
   "cell_type": "code",
   "execution_count": 154,
   "metadata": {
    "collapsed": false
   },
   "outputs": [
    {
     "name": "stdout",
     "output_type": "stream",
     "text": [
      "[2, 5, 1, 4, 9, 3]\n",
      "9\n"
     ]
    }
   ],
   "source": [
    "def getMax(seq, i, j):\n",
    "    return max(seq[i:j])\n",
    "\n",
    "seq = [2, 5, 1, 4, 9, 3]\n",
    "d = 2\n",
    "N = len(seq)\n",
    "\n",
    "from math import log, ceil\n",
    "class SegmentTree():\n",
    "    \n",
    "    def __init__(self, seq):\n",
    "        self.N = len(seq)\n",
    "        x = int(ceil(log(N, 2))) # height of the tree \n",
    "        self.st = [None]* ((2*2**x)-1)\n",
    "        self.buildTree(seq, 0, self.N-1, 0)\n",
    "    \n",
    "    def buildTree(self, seq, lo, hi, idx):\n",
    "        if lo == hi:\n",
    "            self.st[idx]=seq[lo]\n",
    "            return seq[lo]\n",
    "        mid = lo + (hi-lo)/2\n",
    "        lmin = self.buildTree(seq, lo, mid, 2*idx+1)\n",
    "        rmin = self.buildTree(seq, mid+1, hi, 2*idx+2)\n",
    "        self.st[idx] = max(lmin, rmin)\n",
    "        return self.st[idx]\n",
    "    \n",
    "    def getMin(self, qs, qe):\n",
    "        if qs < 0 or qs > qe or qe > self.N-1:\n",
    "            raise 'Invalida input'\n",
    "        return self._getMin(0, self.N-1, qs, qe, 0)\n",
    "        \n",
    "    def _getMin(self, ss, se, qs, qe, idx):\n",
    "#       If segment of this node is a part of given range, then\n",
    "#       return the min of the segment\n",
    "        if qs <= ss and qe >= se:\n",
    "            return self.st[idx]\n",
    "        \n",
    "#      If segment of this node is outside the given range\n",
    "        if se < qs or ss > qe:\n",
    "            return -float('inf')\n",
    "        \n",
    "#      If a part of this segment overlaps with the given range\n",
    "        mid = ss + (se-ss)/2\n",
    "        return max(self._getMin(ss, mid, qs, qe, 2*idx+1), self._getMin(mid+1, se, qs, qe, 2*idx+2))\n",
    "            \n",
    "def getMin(seq, d):\n",
    "    st = SegmentTree(seq)\n",
    "    if d == len(seq):\n",
    "        return st.st[0]\n",
    "    return min([ st.getMin(i, i+d-1) for i in range(0, N-d, 1) ])\n",
    "#     return min([ getMax(seq, i, i+d) for i in range(0, N-1-(d), 1) ])\n",
    ".def _getMin(seq, d):\n",
    "    return min([ getMax(seq, i, i+d) for i in range(0, N-1-(d), 1) ])\n",
    "\n",
    "print seq\n",
    "print getMin(seq, 5)"
   ]
  },
  {
   "cell_type": "code",
   "execution_count": 6,
   "metadata": {
    "collapsed": false
   },
   "outputs": [
    {
     "data": {
      "text/html": [
       "\n",
       "<script>\n",
       "code_show=false; \n",
       "function code_toggle() {\n",
       "    if (code_show){\n",
       "        $('div.input').show();\n",
       "    } else {\n",
       "        $('div.input').hide();\n",
       "    }\n",
       "    code_show = !code_show\n",
       "} \n",
       "$( document ).ready(code_toggle);\n",
       "</script>\n",
       "<form action=\"javascript:code_toggle()\"><input type=\"submit\" value=\"Click here to toggle on/off the raw code\"></form>"
      ],
      "text/plain": [
       "<IPython.core.display.HTML object>"
      ]
     },
     "execution_count": 6,
     "metadata": {},
     "output_type": "execute_result"
    }
   ],
   "source": [
    "from IPython.display import HTML\n",
    "\n",
    "HTML('''\n",
    "<script>\n",
    "code_show=false; \n",
    "function code_toggle() {\n",
    "    if (code_show){\n",
    "        $('div.input').show();\n",
    "    } else {\n",
    "        $('div.input').hide();\n",
    "    }\n",
    "    code_show = !code_show\n",
    "} \n",
    "$( document ).ready(code_toggle);\n",
    "</script>\n",
    "<form action=\"javascript:code_toggle()\"><input type=\"submit\" value=\"Click here to toggle on/off the raw code\"></form>''')"
   ]
  },
  {
   "cell_type": "code",
   "execution_count": null,
   "metadata": {
    "collapsed": true
   },
   "outputs": [],
   "source": []
  }
 ],
 "metadata": {
  "kernelspec": {
   "display_name": "Python 2",
   "language": "python",
   "name": "python2"
  },
  "language_info": {
   "codemirror_mode": {
    "name": "ipython",
    "version": 2
   },
   "file_extension": ".py",
   "mimetype": "text/x-python",
   "name": "python",
   "nbconvert_exporter": "python",
   "pygments_lexer": "ipython2",
   "version": "2.7.9"
  }
 },
 "nbformat": 4,
 "nbformat_minor": 0
}
