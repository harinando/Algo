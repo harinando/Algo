{
 "cells": [
  {
   "cell_type": "code",
   "execution_count": 79,
   "metadata": {
    "collapsed": false
   },
   "outputs": [],
   "source": [
    "class Node(object):\n",
    "    def __init__(self, x, n=0):\n",
    "        self.key   = x\n",
    "        self.left  = None\n",
    "        self.right = None \n",
    "        self.N = n\n",
    "    \n",
    "class BST:    \n",
    "    def __init__(self):\n",
    "        self.root = None\n",
    "        \n",
    "    def size(self, root):\n",
    "        if root is None:\n",
    "            return 0\n",
    "        return root.N\n",
    "    \n",
    "    def put(self, key):\n",
    "        if key is None:\n",
    "            raise \"Key can't be None\"\n",
    "        self.root = self._put(self.root, key)\n",
    "    \n",
    "    # return node\n",
    "    def _put(self, root, key):\n",
    "        if root is None:\n",
    "            return Node(key, 1)\n",
    "        if key < root.key:\n",
    "            root.left = self._put(root.left, key)\n",
    "        elif key > root.key:\n",
    "            root.right = self._put(root.right, key)\n",
    "        \n",
    "        root.N = 1 + self.size(root.left) + self.size(root.right)\n",
    "        return root\n",
    "    \n",
    "    def floor(self, key):\n",
    "        if key is None: \n",
    "            return None\n",
    "        node = self._floor(self.root, key)\n",
    "        return node.key if node is not None else None\n",
    "    \n",
    "    def _floor(self, root, key):\n",
    "        if root is None:\n",
    "            return None\n",
    "        \n",
    "        if root.key == key:\n",
    "            return root\n",
    "        \n",
    "        if root.key > key:\n",
    "            return self._floor(root.left, key)\n",
    "        \n",
    "        temp = self._floor(root.right, key)\n",
    "        return root if temp is None else temp \n",
    "    \n",
    "    \n",
    "    def levelOrder(self):\n",
    "        keys  = []\n",
    "        queue = []\n",
    "        queue.append(self.root)\n",
    "        while(queue):\n",
    "            x = queue.pop(0)\n",
    "            if x is None:\n",
    "                continue\n",
    "            keys.append(x.key)\n",
    "            queue.append(x.left)\n",
    "            queue.append(x.right)\n",
    "        return keys\n",
    "    \n",
    "    def zigzagOrder(self):\n",
    "        keys = []\n",
    "        l2r = []\n",
    "        r2l = []\n",
    "        r2l.append(self.root)\n",
    "        while(l2r or r2l):\n",
    "            while(l2r):\n",
    "                x = l2r.pop(-1)\n",
    "                if x is None:\n",
    "                    continue\n",
    "                keys.append(x.key)\n",
    "                r2l.append(x.right)\n",
    "                r2l.append(x.left)\n",
    "                \n",
    "            while(r2l):\n",
    "                x = r2l.pop(-1)\n",
    "                if x is None:\n",
    "                    continue\n",
    "                keys.append(x.key)\n",
    "                l2r.append(x.left)\n",
    "                l2r.append(x.right)\n",
    "        return keys\n",
    "    \n",
    "    # Stack implementation\n",
    "    def nrinorder(self):\n",
    "        keys = []\n",
    "        stack = []\n",
    "        x = self.root\n",
    "        while(x or stack):\n",
    "            if x is not None:\n",
    "                stack.append(x)\n",
    "                x = x.left\n",
    "            else:\n",
    "                x = stack.pop()\n",
    "                keys.append(x.key)\n",
    "                x = x.right\n",
    "        return keys\n",
    "    \n",
    "    # Inorder transversal.\n",
    "    def inorder(self, node=None):\n",
    "        keys= []\n",
    "        node = self.root if node is None else node\n",
    "        self._inorder(self.root, keys)\n",
    "        return keys\n",
    "    \n",
    "    def _inorder(self, root, keys=[]):\n",
    "        if root is not None:        \n",
    "            self._inorder(root.left, keys)\n",
    "            keys.append(root.key)\n",
    "            self._inorder(root.right, keys)\n",
    "    \n",
    "    # Return boundary nodes.\n",
    "    def boundary(self):\n",
    "        keys = []\n",
    "        self.left_boundary(self.root, keys)\n",
    "        self.leaf_boundary(self.root, keys)\n",
    "        self.right_boundary(self.root, keys)\n",
    "        return keys\n",
    "        \n",
    "    def left_boundary(self, root, keys):\n",
    "        if root is not None:\n",
    "            if root.key not in keys:\n",
    "                keys.append(root.key)\n",
    "            self.left_boundary(root.left, keys)\n",
    "        \n",
    "    def leaf_boundary(self, root, keys):\n",
    "        if root is not None:\n",
    "            if root.left is None and root.right is None and root.key not in keys:\n",
    "                keys.append(root.key)\n",
    "            self.leaf_boundary(root.left, keys)\n",
    "            self.leaf_boundary(root.right, keys)\n",
    "            \n",
    "    def right_boundary(self, root, keys):\n",
    "        if root is not None:\n",
    "            if root.key not in keys:\n",
    "                keys.append(root.key)\n",
    "            self.right_boundary(root.right, keys)\n",
    "            \n",
    "    \n",
    "    # Check wether it is a BST or not\n",
    "    def isBST(self):\n",
    "        return _isBST(self.root, None, None)\n",
    "    \n",
    "    def _isBST(self, root, _min, _max):\n",
    "        \n",
    "        if root is None:\n",
    "            return True\n",
    "        \n",
    "        if _min is not None and root.key < _min:\n",
    "            return False\n",
    "        \n",
    "        if _max is not None and root.key > _max:\n",
    "            return False\n",
    "        \n",
    "        return _isBST(root.left, _min, root) and _isBST(root.right, root, _max)\n",
    "    \n",
    "    # Has path that sum to given number from the root to any node.\n",
    "    def hasPathSum(self, num):\n",
    "        return self._hasPathSum(self.root, num)\n",
    "    \n",
    "    def _hasPathSum(self, root, num):\n",
    "        if root is None:\n",
    "            return False\n",
    "        if num == root.key:\n",
    "            return True\n",
    "        return self._hasPathSum(root.left, num - root.key) or self._hasPathSum(root.right, num - root.key)\n",
    "    \n",
    "    # Find the sum of all paths\n",
    "    def findSum(self, num):\n",
    "        somme = [float('inf')] * self.depth(self.root)\n",
    "        self._findSum(self.root, num, somme, 0)\n",
    "        \n",
    "    def _findSum(self, node, num, paths=[], level=0):\n",
    "        if node is None:\n",
    "            return None\n",
    "        paths[level] = node.key\n",
    "        somme = 0\n",
    "        for i in range(level, -1, -1):\n",
    "            somme += paths[i]\n",
    "            if somme == num:\n",
    "                print paths[i:level+1]\n",
    "        self._findSum(node.left, num, paths, level+1)\n",
    "        self._findSum(node.right, num, paths, level+1)\n",
    "        paths[level] = float('inf')\n",
    "        \n",
    "    def rank(self, key):\n",
    "        return self._rank(key, self.root)\n",
    "         \n",
    "    def _rank(self, key, root):\n",
    "        if key == root.key:\n",
    "            return self.size(root.left)\n",
    "        elif key < root.key:\n",
    "            return self._rank(key, root.left)\n",
    "        else:\n",
    "            return self._rank(key, root.right) + self.size(root.left) + 1\n",
    "        \n",
    "    def select(self, k):\n",
    "        return _select(self.root, k)\n",
    "    \n",
    "    def _select(self, x, k):\n",
    "        if x is None:\n",
    "            return\n",
    "        t = size(x.left)\n",
    "        if t > x:\n",
    "            return _select(x.left, k)\n",
    "        elif t < x:\n",
    "            return _select(x.right, k-t-1)\n",
    "        else:\n",
    "            return x\n",
    "        \n",
    "    def depth(self, root):\n",
    "        if root is None:\n",
    "            return 0\n",
    "        return 1 + max(self.depth(root.left), self.depth(root.right))\n",
    "    \n",
    "    # Non-Recursive depth\n",
    "    def height(self, root):\n",
    "        q = []\n",
    "        height = 0\n",
    "        \n",
    "        if root is None:\n",
    "            return 0\n",
    "        \n",
    "        q.append(root)\n",
    "        while(True):\n",
    "            # NodeCount indicates the number of nodes\n",
    "            # at the current level...\n",
    "            nodeCount = len(q)\n",
    "            \n",
    "            if nodeCount == 0:\n",
    "                return height\n",
    "            \n",
    "            height += 1\n",
    "            \n",
    "            # Dequeue all nodes at the current level\n",
    "            # and enqueue\n",
    "            while(nodeCount > 0):\n",
    "                node = q.pop(0)\n",
    "                if node.left is not None:\n",
    "                    q.append(node.left)\n",
    "                if node.right is not None:\n",
    "                    q.append(node.right)    \n",
    "                nodeCount -= 1\n",
    "            \n",
    "    \n",
    "    def invert(self):\n",
    "        self._invert(self.root)\n",
    "    \n",
    "    def _invert(self, node):\n",
    "        if node is None:\n",
    "            return\n",
    "        temp = node.left\n",
    "        node.left = node.right\n",
    "        node.right = temp\n",
    "        self._invert(node.left)\n",
    "        self._invert(node.right)\n",
    "        \n",
    "        \n",
    "\"\"\"\n",
    "                20\n",
    "       8                  22\n",
    "    2       14         None     25\n",
    "1       10     16\n",
    "\n",
    "\"\"\"\n",
    "tree = BST()\n",
    "tree.put(20)\n",
    "tree.put(8)\n",
    "tree.put(2)\n",
    "tree.put(1)\n",
    "tree.put(14)\n",
    "tree.put(10)\n",
    "tree.put(16)\n",
    "tree.put(22)\n",
    "tree.put(25)\n",
    "\n",
    "assert tree.depth(tree.root)  == 4\n",
    "assert tree.height(tree.root) == 4"
   ]
  },
  {
   "cell_type": "markdown",
   "metadata": {},
   "source": [
    "## Level Order tree traversal\n"
   ]
  },
  {
   "cell_type": "code",
   "execution_count": 54,
   "metadata": {
    "collapsed": false
   },
   "outputs": [
    {
     "name": "stdout",
     "output_type": "stream",
     "text": [
      "Level Order Traversal [20, 8, 22, 2, 12, 25, 1, 10, 14]\n"
     ]
    }
   ],
   "source": [
    "print 'Level Order Traversal', tree.levelOrder()"
   ]
  },
  {
   "cell_type": "markdown",
   "metadata": {},
   "source": [
    "## Rank  \n",
    "- Input : Key\n",
    "- Output: Element such that  K other elements in the BST is smaller \n",
    "- Strategy: Find the given key recursively first, then output the number of keys in the left element\n",
    "    - If the given key is equal to the key at the root, we return the number of keys t in the left subtree;\n",
    "    - If the given key is less than the key at the root, we return the rank of the key in the left subtree; \n",
    "    - If the given key is larger than the key at the root, we return (to count the key at the root) plus the rank of the key in the right subtree.\n",
    "\n",
    "## Select\n",
    "- Input: Integer k.\n",
    "- Output: Node that has k elements smaller in the BST.\n",
    "- Algorithm:\n",
    "    - If the number of keys t in the left subtree is larger than k, we look (recursively) for the key of rank k in the left subtree\n",
    "    - If t is equal to k, we return the key at the root;\n",
    "    - If t is smaller than k, we look (recursively) for the key of rank k - t - 1 in the right subtree. I look for rank k-t-1 because my base case if the size of the left subtree. \n",
    "\n",
    "## Floor \n",
    "- Input: Key \n",
    "- Value: the largest key in the BST less than or equal to key.\n",
    "- Algorithm:\n",
    "    -  If a given key key is less than the key at the root of a BST, then the floor of key must be in the left subtree. \n",
    "    - If key is greater than the key at the root, then the floor of key could be in the right subtree\n",
    "        - if there is a key smaller than or equal to key in the right subtree.\n",
    "        - if not then the key at the root is the floor of key. \n",
    "- Implementation: The base-case is very important here. If the right subtree doesn't have a key smaller than or equal to the key, then it must return null. We don't return immediately, but check wether it's null or not. If it is null then we return the node at the root.\n",
    "\n",
    "## Ceiling\n",
    "- Input: Key \n",
    "- Value: the largest key in the BST greater than or equal to key.\n",
    "- Algorithm: \n",
    "    -  If a given key key is less than the key at the root of a BST, then the floor of key must be in the right subtree. \n",
    "    - If key is greater than the key at the root, then the floor of key could be in the left subtree\n",
    "        - if there is a key smaller than or equal to key in the left subtree.\n",
    "        - if not then the key at the root is the floor of key. \n",
    "        \n",
    "## Depth of the tree\n",
    "\n",
    "- Input  : Tree Node\n",
    "- Output : Depth of the tree \n",
    "- Strategy: Recursively compute the deph.\n",
    "    - Base case: If node is null, then the depth is 0.\n",
    "    - Recurrence: Depth is the maximum of the left and right subtree."
   ]
  },
  {
   "cell_type": "markdown",
   "metadata": {},
   "source": [
    "## Inorder printing"
   ]
  },
  {
   "cell_type": "code",
   "execution_count": 62,
   "metadata": {
    "collapsed": false
   },
   "outputs": [
    {
     "name": "stdout",
     "output_type": "stream",
     "text": [
      "Non-Recursive In-Order Traversal:  [1, 2, 8, 10, 12, 14, 20, 22, 25]\n",
      "Recursive In-Order Traversal:  [1, 2, 8, 10, 12, 14, 20, 22, 25]\n"
     ]
    }
   ],
   "source": [
    "print 'Non-Recursive In-Order Traversal: ', tree.nrinorder()\n",
    "print 'Recursive In-Order Traversal: ', tree.inorder()"
   ]
  },
  {
   "cell_type": "markdown",
   "metadata": {},
   "source": [
    "## Boundary Element\n",
    "- Input: A binary tree\n",
    "- Output: Print the boundary elements of the given tree.\n",
    "- Strategy: Recursively look for:\n",
    "    - Left boundary nodes\n",
    "    - Right boundary nodes\n",
    "    - Leaf boundary nodes"
   ]
  },
  {
   "cell_type": "code",
   "execution_count": 61,
   "metadata": {
    "collapsed": false
   },
   "outputs": [],
   "source": [
    "assert set(tree.boundary()) == set([20, 8, 2, 1, 10, 14, 25, 22])"
   ]
  },
  {
   "cell_type": "markdown",
   "metadata": {},
   "source": [
    "## Zig-Zag Level Order Printing\n",
    "- Input: A tree\n",
    "- Output: Print the tree in zig-zag level order printing\n",
    "- Strategy: Modified BFS\n",
    "    - Keep 2 queues that reads each level from left2right and right2left\n",
    "    - add root to l2r\n",
    "    - While l2r or r2l is not empty\n",
    "        - while l2r\n",
    "            - x = Dequeue l2r \n",
    "            - Check if x is None and print x.key \n",
    "            - Enqueue x's children into r2l\n",
    "            \n",
    "        - while r2l\n",
    "            - x = Dequue r2l\n",
    "            - Check if x is None and print x.key\n",
    "            - Enqueue x's children into l2r"
   ]
  },
  {
   "cell_type": "code",
   "execution_count": 64,
   "metadata": {
    "collapsed": false
   },
   "outputs": [
    {
     "name": "stdout",
     "output_type": "stream",
     "text": [
      "ZigZag Level Order Traversal:  [20, 22, 8, 2, 14, 25, 16, 10, 1]\n",
      "[20, 8, 22, 2, 14, 25, 1, 10, 16]\n"
     ]
    }
   ],
   "source": [
    "print 'ZigZag Level Order Traversal: ', tree.zigzagOrder()\n",
    "print tree.levelOrder()"
   ]
  },
  {
   "cell_type": "markdown",
   "metadata": {},
   "source": [
    "## Invert a binary tree\n",
    "- Idea: Modify the tree by reference. \n",
    "    - Save a copy of the left subtree\n",
    "    - Swap left and right subtree\n",
    "    - Recursively invert left, and right subtree."
   ]
  },
  {
   "cell_type": "markdown",
   "metadata": {},
   "source": [
    "## Tree traversal with constant extra memory.\n",
    "Describe how to perform an inorder tree traversal with constant extra memory (e.g., no function call stack). Hint: on the way down the tree, make the child node point back to the parent (and reverse it on the way up the tree)."
   ]
  },
  {
   "cell_type": "markdown",
   "metadata": {},
   "source": [
    "## Root to any node path sum equal to a given number\n",
    "\n",
    "- Input   : Binary tree, number N\n",
    "- Output  : Tree if there exist a path from root to any node that equals to N\n",
    "- Idea: The given node has a path of sum N if one of the 2 conditions are met:\n",
    "    - if node.left has a path of sum N-node.left.key\n",
    "    - if node.right has a path of sum N-Node.right.key"
   ]
  },
  {
   "cell_type": "code",
   "execution_count": 25,
   "metadata": {
    "collapsed": false
   },
   "outputs": [],
   "source": [
    "assert tree.hasPathSum(30) \n",
    "assert tree.hasPathSum(28)\n",
    "assert tree.hasPathSum(42)\n",
    "assert not tree.hasPathSum(2)\n",
    "assert not tree.hasPathSum(100)"
   ]
  },
  {
   "cell_type": "markdown",
   "metadata": {},
   "source": [
    "## Path that sums to N\n",
    "You are given a binary tree in which each node contains an integer value (which might be positive or negative). Design an algorithm that print all paths which sum to a given value. The path does not need to start or end at the root or a leaf, but it must go in a straight line down.\n",
    "\n",
    "- Input: N\n",
    "- Output: All path that sums to N in the binary tree.\n",
    "- Idea:\n",
    "    - Keep an array to store the value of each node at each level. Note, that you don't have to worry about left and right children because the preorder transversal is going to take care of the book-keeping.\n",
    "    - Traverse the whole graph { Pre-order transversal } and at each level check whether previously visited nodes sums to N.\n"
   ]
  },
  {
   "cell_type": "code",
   "execution_count": 27,
   "metadata": {
    "collapsed": false
   },
   "outputs": [
    {
     "name": "stdout",
     "output_type": "stream",
     "text": [
      "[20, 8, 14]\n",
      "[20, 22]\n"
     ]
    }
   ],
   "source": [
    "tree.findSum(42)"
   ]
  },
  {
   "cell_type": "markdown",
   "metadata": {},
   "source": [
    "## Subtree\n",
    "\n",
    "You have two very large binary trees: Tl, with millions of nodes, and T2, with hundreds of nodes. Create an algorithm to decide if T2 is a subtree of Tl.\n",
    "\n",
    "A tree T2 is a subtree of Tl if there exists a node n in Tl such that the subtree of n is identical to T2. That is, if you cut off the tree at node n, the two trees would be identical."
   ]
  },
  {
   "cell_type": "markdown",
   "metadata": {},
   "source": [
    "## Common parent\n",
    "\n",
    "Design an algorithm and write code to find the first common ancestor of two nodes\n",
    "in a binary tree. **Avoid storing additional nodes in a data structure.** NOTE: This is not\n",
    "necessarily a binary search tree\n",
    "\n",
    "- Input: key1 & key2\n",
    "- Output: Common parent key\n",
    "- Notes: \n",
    "    - This is not a BST, thus I have to search through the array.\n",
    "- Solution #1: Use an additional data structure.\n",
    "    - \n",
    "- Solution #2: \n",
    "    - Case #1: p & q are on different side.\n",
    "    - Case #2: p & q are on the same side."
   ]
  },
  {
   "cell_type": "code",
   "execution_count": 73,
   "metadata": {
    "collapsed": false
   },
   "outputs": [
    {
     "name": "stdout",
     "output_type": "stream",
     "text": [
      "10\n",
      "14\n",
      "8\n",
      "16\n",
      "14\n",
      "8\n",
      "<listreverseiterator object at 0x10d181610>\n",
      "\n",
      "<listreverseiterator object at 0x10d1e0050>\n"
     ]
    }
   ],
   "source": [
    "def dfs(node, parent=None, visited={}):\n",
    "    if node is None:\n",
    "        return \n",
    "    \n",
    "    visited[node.key] = parent\n",
    "    \n",
    "    if not visited.get(node.left,False):\n",
    "        dfs(node.left, node.key, visited)\n",
    "    \n",
    "    if not visited.get(node.right,False):\n",
    "        dfs(node.right, node.key, visited)\n",
    "        \n",
    "# Return an iterator\n",
    "def pathTo(t, visited):\n",
    "    stack = []\n",
    "    while(visited[t] is not None):\n",
    "        print t\n",
    "        stack.append(visited[t])\n",
    "        t = visited[t]\n",
    "    return reversed(stack)\n",
    "\n",
    "def commonParent(tree, key1, key2):\n",
    "    visited = {}\n",
    "    dfs(tree.root, None, visited)\n",
    "    path1 = pathTo(key1, visited)\n",
    "    path2 = pathTo(key2, visited)\n",
    "    \n",
    "    print path1\n",
    "    print\n",
    "    print path2\n",
    "    \n",
    "commonParent(tree, 10, 16)\n",
    "\n",
    "# assert commonParent(tree, 10, 16) == 20\n",
    "# assert commonParent(tree, 4, 10) == 8\n",
    "# assert commonParent(tree, 4, 8) == 20"
   ]
  },
  {
   "cell_type": "code",
   "execution_count": 6,
   "metadata": {
    "collapsed": false
   },
   "outputs": [
    {
     "data": {
      "text/html": [
       "\n",
       "<script>\n",
       "code_show=false; \n",
       "function code_toggle() {\n",
       "    if (code_show){\n",
       "        $('div.input').show();\n",
       "    } else {\n",
       "        $('div.input').hide();\n",
       "    }\n",
       "    code_show = !code_show\n",
       "} \n",
       "$( document ).ready(code_toggle);\n",
       "</script>\n",
       "<form action=\"javascript:code_toggle()\"><input type=\"submit\" value=\"Click here to toggle on/off the raw code\"></form>"
      ],
      "text/plain": [
       "<IPython.core.display.HTML object>"
      ]
     },
     "execution_count": 6,
     "metadata": {},
     "output_type": "execute_result"
    }
   ],
   "source": [
    "from IPython.display import HTML\n",
    "\n",
    "HTML('''\n",
    "<script>\n",
    "code_show=false; \n",
    "function code_toggle() {\n",
    "    if (code_show){\n",
    "        $('div.input').show();\n",
    "    } else {\n",
    "        $('div.input').hide();\n",
    "    }\n",
    "    code_show = !code_show\n",
    "} \n",
    "$( document ).ready(code_toggle);\n",
    "</script>\n",
    "<form action=\"javascript:code_toggle()\"><input type=\"submit\" value=\"Click here to toggle on/off the raw code\"></form>''')"
   ]
  },
  {
   "cell_type": "code",
   "execution_count": null,
   "metadata": {
    "collapsed": false
   },
   "outputs": [],
   "source": []
  },
  {
   "cell_type": "code",
   "execution_count": null,
   "metadata": {
    "collapsed": true
   },
   "outputs": [],
   "source": []
  }
 ],
 "metadata": {
  "kernelspec": {
   "display_name": "Python 2",
   "language": "python",
   "name": "python2"
  },
  "language_info": {
   "codemirror_mode": {
    "name": "ipython",
    "version": 2
   },
   "file_extension": ".py",
   "mimetype": "text/x-python",
   "name": "python",
   "nbconvert_exporter": "python",
   "pygments_lexer": "ipython2",
   "version": "2.7.9"
  }
 },
 "nbformat": 4,
 "nbformat_minor": 0
}
