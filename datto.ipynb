{
 "cells": [
  {
   "cell_type": "code",
   "execution_count": 4,
   "metadata": {
    "collapsed": false
   },
   "outputs": [
    {
     "name": "stdout",
     "output_type": "stream",
     "text": [
      "--------\n"
     ]
    }
   ],
   "source": [
    "from collections import defaultdict\n",
    "\n",
    "\n",
    "\"\"\"\n",
    "The lineIterator incrementally reads the files.\n",
    "This is a good idea if you have huge data that won't fit in memory, \n",
    "but the file I/O involves some overhead.\n",
    "\"\"\"\n",
    "def lineIterator(fname):\n",
    "    with open(fname,'r') as f:\n",
    "        for line in f:\n",
    "            yield line\n",
    "\n",
    "\"\"\"\n",
    "Later, you can use more complex logic or abstract to a class\n",
    "\"\"\"\n",
    "def preprocess(word):\n",
    "    return word.lower()\n",
    "\n",
    "\"\"\"\n",
    "Later, you can use more complex logic or abstract to a class\n",
    "\"\"\"\n",
    "def tokenize(sentence):    \n",
    "    return [ preprocess(word) for word in sentence.split() ]\n",
    "\n",
    "\"\"\"\n",
    "INPUT  : String\n",
    "OUTPUT : max character count in the string\n",
    "\"\"\"\n",
    "def countMaxCharacter(word):\n",
    "    counter = defaultdict(int)\n",
    "    lmax = -float('inf')  # local max char count\n",
    "    for char in list(word):\n",
    "        counter[char] += 1\n",
    "        if counter[char] > lmax:\n",
    "            lmax = counter[char]\n",
    "    return lmax\n",
    "\n",
    "\"\"\"\n",
    "INPUT: Python iterator\n",
    "OUTPUT: Word with most repeating character\n",
    "\"\"\"\n",
    "def chooseWord(dataiter):\n",
    "    gmax = -float('inf')  # global max char count\n",
    "    result = None         # return the results at the end\n",
    "    for line in dataiter:\n",
    "        for word in tokenize(line):  \n",
    "            lmax = countMaxCharacter(word)\n",
    "            if lmax > gmax:\n",
    "                result = word\n",
    "                gmax = lmax\n",
    "    return result\n",
    "\n",
    "\"\"\"\n",
    "\n",
    "\"\"\"\n",
    "def solveProblem(fname):\n",
    "    dataiter = dataIterator(fname)\n",
    "    return chooseWord(dataiter)\n",
    "\n",
    "    \n",
    "\n",
    "assert chooseWord(lineIterator('datto.data')) == 'andrianarimanana.'\n",
    "assert chooseWord([ 'O Romeo, Romeo, wherefore art thou Romeo?' ]) == 'wherefore'\n",
    "assert chooseWord([ 'Some people feel the rain, while others just get wet.' ]) == 'people'   # Ties\n",
    "assert chooseWord([ 'Some pEople feel the rain, while others just get wet.' ]) == 'people'   # Case insensitive\n",
    "assert chooseWord([ \"Don't play with other people's feeling\" ]) == \"people's\"   # punctuation\n",
    "\n",
    "print chooseWord(['-------- as'])"
   ]
  },
  {
   "cell_type": "code",
   "execution_count": null,
   "metadata": {
    "collapsed": true
   },
   "outputs": [],
   "source": [
    "def preprocess(word):\n",
    "    removeSpecialCharacter(word)\n",
    "    return word.lower()"
   ]
  }
 ],
 "metadata": {
  "kernelspec": {
   "display_name": "Python 2",
   "language": "python",
   "name": "python2"
  },
  "language_info": {
   "codemirror_mode": {
    "name": "ipython",
    "version": 2
   },
   "file_extension": ".py",
   "mimetype": "text/x-python",
   "name": "python",
   "nbconvert_exporter": "python",
   "pygments_lexer": "ipython2",
   "version": "2.7.9"
  }
 },
 "nbformat": 4,
 "nbformat_minor": 0
}
