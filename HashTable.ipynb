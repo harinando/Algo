{
 "cells": [
  {
   "cell_type": "markdown",
   "metadata": {},
   "source": [
    "## HashTable \n",
    "\n",
    "- Insert\n",
    "- Delete\n",
    "- Lookup\n",
    "\n",
    "## Setup\n",
    "- Universe U such as all IP addresses, all chess board configurations\n",
    "- Goal: Want to maintain evolving set \\begin{equation*} S \\subseteq U \\end{equation*}\n",
    "\n",
    "|U| is huge, but |S| is reasonable\n",
    "\n",
    "## Implementation\n",
    "### Naive Solution\n",
    "- Array indexed by U\n",
    "    - O(1) operations\n",
    "    - O(|U|) space\n",
    "- LinkedList\n",
    "    - O(|S|) space\n",
    "    - But O(|S|) lookup\n",
    "\n",
    "### Smarter Solution\n",
    "- Pick n bucket\n",
    "- Choose a hash function H: U -> {0, 1, 2, ..., n-1 }. \n",
    "    - Property:\n",
    "        - Choose hash function that's going to spread data out (uniformly).\n",
    "        - Should be easy to store / very fast to evaluate.\n",
    "    - With chaining\n",
    "        - Insertion: O(1) \n",
    "        - Deletion: O(n) - n being the size of the linkedlist.\n",
    "        - Lookup: O(n) - n being the size of the linkedlist.\n",
    "    - With Linear Probing\n",
    "- Use array of length n, and store x in A[h(x)]\n",
    "    \n",
    "## 2 sum to t\n",
    "- Input: Unsorted Array A\n",
    "- Output: 2 elements in the array that sum to t\n",
    "- Idea #1\n",
    "    - Sort in O(nlog(n))\n",
    "    - Binary search t - x for all x in the array\n",
    "- Idea #2\n",
    "    - Use a hash-table to store all seen elements\n",
    "    - For every new element x, lookup t-x in the hash \n",
    "        - If it's there then x, and t-x sums to t.\n",
    "        - Else go to next elements\n",
    "        \n",
    "## Bloom-Filters (Hash Set)\n",
    "- Pro  : Space efficient\n",
    "- Cons :\n",
    "    - Can't store an associated object\n",
    "    - Can't delete\n",
    "    - Small False Positive Rate \n",
    "- Trade-off: Space VS correctness. More space, less error\n",
    "- Under the hood \n",
    "    - Array of n bits\n",
    "    - k hash functions\n",
    "    - Insertions: for i = 1..k Set Ai[h[x]] = k\n",
    "    - Lookups: return True iff Ai[h[x]] == 1\n",
    "    \n",
    "- Hash functions:\n",
    "    - Deterministic\n",
    "    - Efficient computationally\n",
    "    - Uniformy distribute the keys"
   ]
  },
  {
   "cell_type": "code",
   "execution_count": null,
   "metadata": {
    "collapsed": true
   },
   "outputs": [],
   "source": []
  }
 ],
 "metadata": {
  "kernelspec": {
   "display_name": "Python 2",
   "language": "python",
   "name": "python2"
  },
  "language_info": {
   "codemirror_mode": {
    "name": "ipython",
    "version": 2
   },
   "file_extension": ".py",
   "mimetype": "text/x-python",
   "name": "python",
   "nbconvert_exporter": "python",
   "pygments_lexer": "ipython2",
   "version": "2.7.9"
  }
 },
 "nbformat": 4,
 "nbformat_minor": 0
}
