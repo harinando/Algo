{
 "cells": [
  {
   "cell_type": "code",
   "execution_count": 27,
   "metadata": {
    "collapsed": false
   },
   "outputs": [],
   "source": [
    "import sys\n",
    "class Node(object):\n",
    " \n",
    "   def __init__(self, data=None, next_node=None):\n",
    "       self.data = data\n",
    "       self.next = next_node\n",
    "        \n",
    "def insert(head, data):\n",
    "    if head is None:\n",
    "        return Node(data, None)\n",
    "    ptr =  head\n",
    "    while ptr.next is not None:\n",
    "        ptr = ptr.next\n",
    "\n",
    "    ptr.next = Node(data, None)\n",
    "    return head\n",
    "\n",
    "def size(head):\n",
    "    c = 0\n",
    "    ptr = head\n",
    "    while ptr is not None:\n",
    "        c += 1\n",
    "        ptr = ptr.next\n",
    "    return c\n",
    "\n",
    "def printNode(head):\n",
    "    ptr = head\n",
    "    while(ptr is not None):\n",
    "        sys.stdout.write('{} {}'.format(ptr.data, '->' if ptr.next is not None else ''))\n",
    "        ptr = ptr.next\n",
    "    print"
   ]
  },
  {
   "cell_type": "markdown",
   "metadata": {},
   "source": [
    "##  Find the intersection of two nodes in a linkedlist.\n"
   ]
  },
  {
   "cell_type": "code",
   "execution_count": 29,
   "metadata": {
    "collapsed": false
   },
   "outputs": [
    {
     "name": "stdout",
     "output_type": "stream",
     "text": [
      "3 ->6 ->9 ->15 ->30 \n",
      "10 ->15 ->30 \n"
     ]
    },
    {
     "data": {
      "text/plain": [
       "15"
      ]
     },
     "execution_count": 29,
     "metadata": {},
     "output_type": "execute_result"
    }
   ],
   "source": [
    "def find(headA, headB, d):\n",
    "    ptrA = headA\n",
    "    ptrB = headB\n",
    "    for i in range(d):\n",
    "        ptrA = ptrA.next\n",
    "    \n",
    "    while(ptrB is not None and ptrA is not None):\n",
    "        if ptrA == ptrB:\n",
    "            return ptrA.data\n",
    "        ptrA = ptrA.next\n",
    "        ptrB = ptrB.next\n",
    "    return -1\n",
    "\n",
    "    \n",
    "def FindMergeNode(headA, headB):\n",
    "    c1 = size(headA)\n",
    "    c2 = size(headB)\n",
    "    if c1 > c2:\n",
    "        return find(headA, headB, c1-c2)\n",
    "    else:\n",
    "        return find(headB, headB, c2-c1)\n",
    "    \n",
    "a = Node(3)\n",
    "b = Node (6)\n",
    "c = Node(9)\n",
    "d = Node(10)\n",
    "x = Node(15)\n",
    "e = Node(30)\n",
    "a.next = b\n",
    "b.next = c\n",
    "c.next = x\n",
    "x.next = e\n",
    "\n",
    "d.next = x\n",
    "printNode(a)\n",
    "printNode(d)\n",
    "FindMergeNode(a, d)"
   ]
  },
  {
   "cell_type": "markdown",
   "metadata": {},
   "source": [
    "## Reverse a linked list\n",
    "\n",
    "While cur is Not None\n",
    "- set tmp to cur.next\n",
    "- Set next to prev\n",
    "- Set prev to cur\n",
    "- Set cur to tmp"
   ]
  },
  {
   "cell_type": "code",
   "execution_count": 37,
   "metadata": {
    "collapsed": false
   },
   "outputs": [
    {
     "name": "stdout",
     "output_type": "stream",
     "text": [
      "0 ->1 ->2 ->3 ->4 ->5 ->6 ->7 ->8 ->9 \n",
      "9 ->8 ->7 ->6 ->5 ->4 ->3 ->2 ->1 ->0 \n"
     ]
    }
   ],
   "source": [
    "head = Node(0, None)\n",
    "for i in range(1, 10):\n",
    "    head = insert(head, i)\n",
    "\n",
    "def reverse(head):\n",
    "    prev = None\n",
    "    cur = head\n",
    "    while cur is not None:\n",
    "        tmp = cur.next\n",
    "        cur.next = prev\n",
    "        prev = cur        \n",
    "        cur = tmp\n",
    "    return prev\n",
    "\n",
    "printNode(head)\n",
    "printNode(reverse(head))"
   ]
  },
  {
   "cell_type": "markdown",
   "metadata": {},
   "source": [
    "## Find the kth to last element in a linkedlist\n",
    "The idea is to use 2 pointers and advance the pointers to the kth node. \n",
    "Run both runner at the same pace."
   ]
  },
  {
   "cell_type": "code",
   "execution_count": 59,
   "metadata": {
    "collapsed": false
   },
   "outputs": [
    {
     "name": "stdout",
     "output_type": "stream",
     "text": [
      "0 ->1 ->2 ->3 ->4 ->5 ->6 ->7 ->8 ->9 \n"
     ]
    },
    {
     "data": {
      "text/plain": [
       "5"
      ]
     },
     "execution_count": 59,
     "metadata": {},
     "output_type": "execute_result"
    }
   ],
   "source": [
    "def kth2last(head, k=1):\n",
    "    ptr = head\n",
    "    kth = head\n",
    "    for _ in range(k):\n",
    "        ptr = ptr.next\n",
    "    while ptr is not None:\n",
    "        ptr = ptr.next\n",
    "        kth = kth.next\n",
    "    return kth\n",
    "\n",
    "head = Node(0, None)\n",
    "for i in range(1, 10):\n",
    "    head = insert(head, i)\n",
    "    \n",
    "printNode(head)\n",
    "kth2last(head, 5).data"
   ]
  },
  {
   "cell_type": "code",
   "execution_count": 48,
   "metadata": {
    "collapsed": false
   },
   "outputs": [
    {
     "data": {
      "text/html": [
       "\n",
       "<script>\n",
       "code_show=false; \n",
       "function code_toggle() {\n",
       "    if (code_show){\n",
       "        $('div.input').show();\n",
       "    } else {\n",
       "        $('div.input').hide();\n",
       "    }\n",
       "    code_show = !code_show\n",
       "} \n",
       "$( document ).ready(code_toggle);\n",
       "</script>\n",
       "<form action=\"javascript:code_toggle()\"><input type=\"submit\" value=\"Click here to toggle on/off the raw code\"></form>"
      ],
      "text/plain": [
       "<IPython.core.display.HTML object>"
      ]
     },
     "execution_count": 48,
     "metadata": {},
     "output_type": "execute_result"
    }
   ],
   "source": [
    "from IPython.display import HTML\n",
    "\n",
    "HTML('''\n",
    "<script>\n",
    "code_show=false; \n",
    "function code_toggle() {\n",
    "    if (code_show){\n",
    "        $('div.input').show();\n",
    "    } else {\n",
    "        $('div.input').hide();\n",
    "    }\n",
    "    code_show = !code_show\n",
    "} \n",
    "$( document ).ready(code_toggle);\n",
    "</script>\n",
    "<form action=\"javascript:code_toggle()\"><input type=\"submit\" value=\"Click here to toggle on/off the raw code\"></form>''')"
   ]
  },
  {
   "cell_type": "code",
   "execution_count": null,
   "metadata": {
    "collapsed": true
   },
   "outputs": [],
   "source": []
  }
 ],
 "metadata": {
  "kernelspec": {
   "display_name": "Python 2",
   "language": "python",
   "name": "python2"
  },
  "language_info": {
   "codemirror_mode": {
    "name": "ipython",
    "version": 2
   },
   "file_extension": ".py",
   "mimetype": "text/x-python",
   "name": "python",
   "nbconvert_exporter": "python",
   "pygments_lexer": "ipython2",
   "version": "2.7.9"
  }
 },
 "nbformat": 4,
 "nbformat_minor": 0
}
