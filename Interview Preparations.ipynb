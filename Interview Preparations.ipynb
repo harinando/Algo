{
 "cells": [
  {
   "cell_type": "code",
   "execution_count": 73,
   "metadata": {
    "collapsed": true
   },
   "outputs": [],
   "source": [
    "import math"
   ]
  },
  {
   "cell_type": "markdown",
   "metadata": {},
   "source": [
    "## CCI 11.1\n",
    "You are given two sorted arrays, A and B where A has a large enough buffer at the end to hold B. Write a method to merge B into A."
   ]
  },
  {
   "cell_type": "code",
   "execution_count": 7,
   "metadata": {
    "collapsed": false
   },
   "outputs": [
    {
     "name": "stdout",
     "output_type": "stream",
     "text": [
      "[10, 11, 14, 14, 15, 20, 25, 30, 35, 40, 50, 75]\n"
     ]
    }
   ],
   "source": [
    "def merge(A, B):\n",
    "    for i, ele in enumerate(A):\n",
    "        if ele is None:\n",
    "            break\n",
    "    Aidx = i - 1\n",
    "    Bidx = len(B) - 1\n",
    "    idx = Aidx + Bidx + 1\n",
    "    \n",
    "    while Bidx >= 0:\n",
    "        if A[Aidx] > B[Bidx]:\n",
    "            A[idx] = A[Aidx]\n",
    "            Aidx -= 1\n",
    "        else:\n",
    "            A[idx] = B[Bidx]\n",
    "            Bidx -= 1\n",
    "        \n",
    "        idx -= 1\n",
    "\n",
    "A = [ 10, 11, 14,15, 20, 30, 40, 50, None, None, None, None ]\n",
    "B = [14, 25, 35, 75]\n",
    "\n",
    "merge(A,B)\n",
    "\n",
    "print A"
   ]
  },
  {
   "cell_type": "markdown",
   "metadata": {},
   "source": [
    "## Finding the median of two sorted arrays of same size:\n",
    "\n",
    "- Approach #1:\n",
    "    - Time complexity: O(n log n)\n",
    "    - Strategy: Sort the array using merge sort, and then return the middle elements.\n",
    "- Approach #2:\n",
    "    - Time Complexity: O(log n)\n",
    "    - Strategy: Use divide and conquer by comparing the median in the 2 arrays. Note that we need to handle median differently for odd/even length array.\n",
    "         - Case #1:  M1 == M2\n",
    "             - return M1\n",
    "         - Case #2:  M1 < M2\n",
    "             - 1 3 4 5 6 9 10 & 12 15 16 20 22 25 40 ( 5 & 20 | 11 )\n",
    "             - Median is in A1[n/2:n] & A2[0:n/2]\n",
    "         - Case #3: M1 > M2\n",
    "             - 12 15 16 20 22 25 40 & 1 3 4 5 6 9 10  ( 20 & 5 | 11 )\n",
    "             - Median is in A2[n/2:n] & A1[0:n/2]"
   ]
  },
  {
   "cell_type": "code",
   "execution_count": 22,
   "metadata": {
    "collapsed": false
   },
   "outputs": [],
   "source": [
    "def get_median(ar1, ar2):\n",
    "    n = len(ar1)\n",
    "    if n == 0:\n",
    "        return -1\n",
    "    \n",
    "    if n == 1:\n",
    "        return (ar1[0] + ar2[0])/2\n",
    "    \n",
    "    if n == 2:\n",
    "        return ( max(ar1[0], ar2[0]) + min(ar1[1], ar2[1]) ) / 2.\n",
    "    \n",
    "    m1 = median(ar1)\n",
    "    m2 = median(ar2)\n",
    "    \n",
    "    # That's the median\n",
    "    if m1 == m2:\n",
    "        return m1\n",
    "    \n",
    "    elif m1 < m2\n",
    "        if n % 2 == 0:\n",
    "            return get_median(ar1[n/2:n], ar2[0:n/2])\n",
    "        else:\n",
    "            return get_median(ar1[n/2+1:n], ar2[0:n/2])\n",
    "    else:\n",
    "        if n % 2 == 0:\n",
    "            return get_median(ar1[0:n/2], ar2[n/2:n])\n",
    "        else:\n",
    "            return get_median(ar1[0:n/2], ar2[n/2+1:n])\n",
    "    \n",
    "\n",
    "def median(ar):\n",
    "    n = len(ar)\n",
    "    if n % 2 == 0:\n",
    "        return (ar[(n/2)-1]+ar[n/2])/2\n",
    "    else:\n",
    "        return ar[n/2]\n",
    "\n",
    "ar1 = [1, 5, 7, 10, 12]\n",
    "ar2 = [11, 15, 23, 30, 45]\n",
    "\n",
    "median = get_median(ar2, ar1)"
   ]
  },
  {
   "cell_type": "markdown",
   "metadata": {},
   "source": [
    "## Median in a running stream of integer - CCI 18.9\n",
    "Given that integers are read from a data stream. Find median of elements read so for in efficient way. For simplicity assume there are no duplicates. For example, let us consider the stream."
   ]
  },
  {
   "cell_type": "code",
   "execution_count": 3,
   "metadata": {
    "collapsed": false
   },
   "outputs": [
    {
     "name": "stdout",
     "output_type": "stream",
     "text": [
      "[5] 5\n",
      "[5, 15] 10\n",
      "[1, 5, 15] 5\n",
      "[1, 3, 5, 15] 4\n",
      "[1, 2, 3, 5, 15] 3\n",
      "[1, 2, 3, 5, 8, 15] 4\n",
      "[1, 2, 3, 5, 7, 8, 15] 5\n",
      "[1, 2, 3, 5, 7, 8, 9, 15] 6\n",
      "[1, 2, 3, 5, 7, 8, 9, 10, 15] 7\n",
      "[1, 2, 3, 5, 6, 7, 8, 9, 10, 15] 6\n",
      "[1, 2, 3, 5, 6, 7, 8, 9, 10, 11, 15] 7\n",
      "[1, 2, 3, 4, 5, 6, 7, 8, 9, 10, 11, 15] 6\n"
     ]
    }
   ],
   "source": [
    "class Heap:\n",
    "    \n",
    "    def __init__(self):\n",
    "        self.pq = [ None ]\n",
    "        self.N = 0\n",
    "        \n",
    "    def remove(self):\n",
    "        first = self.pq[1] \n",
    "        self.pq[1] = self.pq[-1]\n",
    "        self.sink(1)\n",
    "        self.pq.pop(-1)\n",
    "        self.N -=1\n",
    "        return first\n",
    "    \n",
    "    def swim(self, key):\n",
    "        pass\n",
    "    \n",
    "    def sink(self, key):\n",
    "        pass\n",
    "    \n",
    "    def greater(self, i, j):\n",
    "        return self.pq[i] > self.pq[j]\n",
    "    \n",
    "    def less(self, i, j):\n",
    "        return self.pq[i] < self.pq[j]\n",
    "    \n",
    "    def exch(self, i, j):\n",
    "        tmp = self.pq[i]\n",
    "        self.pq[i] = self.pq[j] \n",
    "        self.pq[j] = tmp\n",
    "        \n",
    "                \n",
    "    def peek(self):\n",
    "        return self.pq[1]\n",
    "\n",
    "\n",
    "class MaxHeap(Heap):\n",
    "    \n",
    "    def insert(self, key):\n",
    "        self.pq.append(key)\n",
    "        self.N += 1 \n",
    "        self.swim(self.N)\n",
    "        \n",
    "    def isMaxHeap(self):\n",
    "        return True\n",
    "        \n",
    "    def swim(self, k):\n",
    "        while(k > 1 and self.less(k/2, k)):\n",
    "            self.exch(k/2, k)\n",
    "            k = k/2\n",
    "            \n",
    "    def sink(self, k):\n",
    "        while(2*k <= self.N):\n",
    "            j = 2*k\n",
    "            if j < self.N and self.less(j, j+1):\n",
    "                j += 1 \n",
    "            if not self.less(k, j):\n",
    "                break\n",
    "            self.exch(k, j)\n",
    "            k = j\n",
    "\n",
    "\n",
    "class MinHeap(Heap):\n",
    "    \n",
    "    def insert(self, key):\n",
    "        self.pq.append(key)\n",
    "        self.N += 1\n",
    "        self.swim(self.N)\n",
    "        assert(self.isMinHeap())\n",
    "        \n",
    "    def swim(self, k):\n",
    "        while(k > 1 and self.greater(k/2, k)):\n",
    "            self.exch(k/2, k)\n",
    "            k = k/2\n",
    "            \n",
    "    def sink(self, k):\n",
    "        while(2*k <= self.N):\n",
    "            j = 2*k\n",
    "            if j < self.N and self.greater(j, j+1):\n",
    "                j += 1\n",
    "            if not self.greater(k, j):\n",
    "                break\n",
    "            self.exch(k, j)\n",
    "            k = j\n",
    "        \n",
    "    def isMinHeap(self):\n",
    "        return True\n",
    "\n",
    "A = [ 5, 15, 1, 3, 2, 8, 7, 9, 10, 6, 11, 4 ]\n",
    "right = MinHeap()\n",
    "left  = MaxHeap()\n",
    "\n",
    "\n",
    "med = float('inf')\n",
    "for i in range(len(A)):\n",
    "    sig = left.N - right.N\n",
    "            \n",
    "    if sig == 0:\n",
    "        if A[i] < med:\n",
    "            left.insert(A[i])\n",
    "            med = left.peek()\n",
    "        else:\n",
    "            right.insert(A[i])\n",
    "            med = right.peek()\n",
    "    elif sig == 1:\n",
    "        if A[i] < med:\n",
    "            l = left.remove()\n",
    "            left.insert(A[i])\n",
    "            right.insert(l)\n",
    "        else:\n",
    "            right.insert(A[i])\n",
    "        \n",
    "        med = ( right.peek() + left.peek() ) / 2\n",
    "    else:   # Right element bigger\n",
    "        \n",
    "        if A[i] > med:\n",
    "            r = right.remove()\n",
    "            right.insert(A[i])\n",
    "            left.insert(r)\n",
    "                        \n",
    "        else:\n",
    "            left.insert(A[i])\n",
    "    \n",
    "        med = ( right.peek() + left.peek() ) / 2\n",
    "    print sorted(A[:i+1]), med"
   ]
  },
  {
   "cell_type": "markdown",
   "metadata": {},
   "source": [
    "## CCI 17.8 Largest Sum Contiguous Subarray\n",
    "- Input: Array A of length N.\n",
    "- Strategy: Use DP\n",
    "- Recurrence: Let T[i] be the maximum sum contiguous subarray up to array i.\n",
    "\\begin{equation}\n",
    "\\forall  i \\in [0, N], T(i) = max( T(i-1)+A(i), A(i) )\n",
    "\\end{equation}\n",
    "- Time Complexity: O(n)"
   ]
  },
  {
   "cell_type": "code",
   "execution_count": 41,
   "metadata": {
    "collapsed": false
   },
   "outputs": [
    {
     "name": "stdout",
     "output_type": "stream",
     "text": [
      "[4, -1, -2, 1, 5] 7\n",
      "[5, 4, 2] 11\n"
     ]
    }
   ],
   "source": [
    "ar =  [ -2, -3, 4, -1, -2, 1, 5, -3 ]\n",
    "\n",
    "def maxSumSubArray(ar):\n",
    "    size = len(ar)\n",
    "    T = [-float('inf')] * size\n",
    "    max_val = -float('inf')\n",
    "    start = -1\n",
    "    end = -1\n",
    "    for i in range(0, size):\n",
    "        if i == 0:     # Base Case\n",
    "            T[i] = ar[i]\n",
    "            start = 0\n",
    "            \n",
    "        elif T[i-1] + ar[i] > ar[i]:\n",
    "            T[i] = T[i-1] + ar[i]\n",
    "        else:\n",
    "            T[i] = ar[i]\n",
    "            start = i\n",
    "\n",
    "        if max_val < T[i]:\n",
    "            max_val = T[i]    \n",
    "            end = i\n",
    "    return max_val, start, end\n",
    "\n",
    "_max, start, end = maxSumSubArray(ar)\n",
    "print ar[start:end+1], _max\n",
    "ar = [10, -1, -10, 5, 4, 2]\n",
    "_max, start, end = maxSumSubArray(ar)\n",
    "print ar[start:end+1], _max"
   ]
  },
  {
   "cell_type": "markdown",
   "metadata": {},
   "source": [
    "## CCI 18.11 Maximum sum rectangle in 2-D matrix\n",
    "- Input: N by N matrix\n",
    "- Output: Submatrix with the largest possible sum.\n",
    "- Strategy: \n",
    "    - Fix the left and right columns one by one.\n",
    "    - Find the maximum sum contiguous rows for every left and right column pair. \n",
    "    \n",
    "We basically find top and bottom row numbers (which have maximum sum) for every fixed left and right column pair. To find the top and bottom row numbers, calculate sum of elements in every row from left to right and store these sums in an array say temp[]. So temp[i] indicates sum of elements from left to right in row i. If we apply Kadane’s 1D algorithm on temp[], and get the maximum sum subarray of temp, this maximum sum would be the maximum possible sum with left and right as boundary columns. To get the overall maximum sum, we compare this sum with the maximum sum so far.\n",
    "\n",
    "\n"
   ]
  },
  {
   "cell_type": "code",
   "execution_count": 10,
   "metadata": {
    "collapsed": false
   },
   "outputs": [
    {
     "name": "stdout",
     "output_type": "stream",
     "text": [
      "[1, 2, -1, -4, -20]\n",
      "[-8, -3, 4, 2, 1]\n",
      "[3, 8, 10, 1, 3]\n",
      "[-4, -1, 1, 7, -6]\n",
      "\n",
      "Total:  29\n",
      "Submatrix: \n",
      "[-3, 4, 2]\n",
      "[8, 10, 1]\n",
      "[-1, 1, 7]\n"
     ]
    }
   ],
   "source": [
    "A = [[1, 2, -1, -4, -20], [-8, -3, 4, 2, 1], [3, 8, 10, 1, 3],[-4, -1, 1, 7, -6]]\n",
    "\n",
    "N = len(A)\n",
    "M = len(A[0])\n",
    "\n",
    "ftop = -1\n",
    "fbottom = -1\n",
    "fleft = -1\n",
    "fright = -1\n",
    "fmax = -float('inf')\n",
    "\n",
    "for l in range(N):\n",
    "    temp = [0]*N\n",
    "    for r in range(l, M):\n",
    "        for i in range(N):           # There is a possibility to compute it once only.\n",
    "            temp[i] += A[i][r]\n",
    "        _max, top, bottom = max_sum(temp)\n",
    "        if(fmax < _max):\n",
    "            fmax = _max\n",
    "            ftop = top\n",
    "            fbottom = bottom\n",
    "            fleft = l\n",
    "            fright = r\n",
    "\n",
    "for ele in A:\n",
    "    print ele\n",
    "print\n",
    "print 'Total: ', fmax\n",
    "print 'Submatrix: '\n",
    "for ele in A[ftop:fbottom+1]:\n",
    "    print ele[fleft:fright+1]"
   ]
  },
  {
   "cell_type": "code",
   "execution_count": 31,
   "metadata": {
    "collapsed": false
   },
   "outputs": [
    {
     "name": "stdout",
     "output_type": "stream",
     "text": [
      "[-22  -4  25  -3]\n"
     ]
    },
    {
     "data": {
      "text/plain": [
       "(25, 0, 4)"
      ]
     },
     "execution_count": 31,
     "metadata": {},
     "output_type": "execute_result"
    }
   ],
   "source": [
    "import numpy as np\n",
    "\n",
    "a1 = np.sum(A, axis=1)\n",
    "print a1\n",
    "rmax, rmin, rmax = maxSumSubArray(a1)\n",
    "\n",
    "a2 = np.sum(A[rmin:rmax+1], axis=0)\n",
    "maxSumSubArray(a2)"
   ]
  },
  {
   "cell_type": "markdown",
   "metadata": {
    "collapsed": true
   },
   "source": [
    "## Print the element that is common in all rows of a given rowise matrix\n",
    "\n",
    "- Strategy: Use an hash \n",
    "- Algorithm:\n",
    "    - Create a HashMap of unique element of the first row. \n",
    "    - For each rows, \n",
    "        - Update the value of the hash if it is present. \n",
    "    - At the end, loop through to check wether we have an element that has been repeated in all rows."
   ]
  },
  {
   "cell_type": "code",
   "execution_count": 186,
   "metadata": {
    "collapsed": false
   },
   "outputs": [
    {
     "data": {
      "text/plain": [
       "7"
      ]
     },
     "execution_count": 186,
     "metadata": {},
     "output_type": "execute_result"
    }
   ],
   "source": [
    "ar = [ [2, 3, 7], [1, 7, 0], [6, 7, 1]]\n",
    "\n",
    "def findCommon(A):\n",
    "    f  = {}\n",
    "    for ele in A[0]:     # 0 is the index of the first row which will be updated later.\n",
    "        f[ele] = 0\n",
    "        \n",
    "    for r in range(1, len(A)):\n",
    "        for c in range(0, len(A[0])):\n",
    "            if f.get(A[r][c], None) is not None and f.get(A[r][c], None) != r:\n",
    "                f[A[r][c]] += 1\n",
    "    \n",
    "    for key, value in f.iteritems():\n",
    "        if value == len(A[0]) - 1:\n",
    "            return key\n",
    "\n",
    "    return False\n",
    "\n",
    "findCommon(ar)"
   ]
  },
  {
   "cell_type": "markdown",
   "metadata": {},
   "source": [
    "## Duplicate removal:\n",
    "You are given an array of n elements, and you notice that some of the elements are duplicates;\n",
    "that is, they appear more than once in the array. Show how to remove all duplicates from the\n",
    "array in time O(n log n).\n",
    "\n",
    "- Input A\n",
    "- Strategy: Divide and conquer\n",
    "- Algorithm:\n",
    "    - Recursively sort A(lo, mid) & A(mid+1, hi)\n",
    "    - Like merge sort, merge the 2 arrays if the element is unique."
   ]
  },
  {
   "cell_type": "code",
   "execution_count": 8,
   "metadata": {
    "collapsed": false
   },
   "outputs": [
    {
     "name": "stdout",
     "output_type": "stream",
     "text": [
      "[1, 5, 10, None, 20, None, 49, 50]\n"
     ]
    }
   ],
   "source": [
    "def removeDups(A):\n",
    "    n = len(A)\n",
    "    aux = [None]*n\n",
    "    sort(A, aux, 0, n-1)\n",
    "\n",
    "\n",
    "def sort(A, aux, lo, hi):\n",
    "    if hi <= lo:\n",
    "        return\n",
    "    mid = lo + (hi-lo)/2    \n",
    "    sort(A, aux, lo, mid)\n",
    "    sort(A, aux, mid+1, hi)\n",
    "    mergeDups(A, aux, lo, mid, hi)\n",
    "\n",
    "def merge(A, aux, lo, mid, hi):\n",
    "    for i in range(lo, hi+1):\n",
    "        aux[i] = A[i]\n",
    "    \n",
    "    i = lo\n",
    "    j = mid+1\n",
    "    \n",
    "    # [ 1 5 10] & [ 6 10 15 ] => [1 5 6 10 10 15 ] \n",
    "    for k in range(lo, hi+1):\n",
    "        if i > mid:    # Copy all the elements in the right array\n",
    "            A[k] = aux[j]\n",
    "            j += 1\n",
    "        elif j > hi:   # Copy all the elements in the left array\n",
    "            A[k] = aux[i]\n",
    "            i+= 1\n",
    "        elif aux[i] < aux[j]:\n",
    "            A[k] = aux[i]\n",
    "            i += 1\n",
    "        else: \n",
    "            A[k] = aux[j]\n",
    "            j += 1\n",
    "\n",
    "def mergeDups(A, aux, lo, mid, hi):\n",
    "    for i in range(lo, hi+1):\n",
    "        aux[i] = A[i]\n",
    "    \n",
    "    i = lo\n",
    "    j = mid+1\n",
    "    \n",
    "    # [ 1 5 10 ] & [ 6 10 15 ] => [1 5 6 10 15 ]\n",
    "    for k in range(lo, hi+1):\n",
    "        if i > mid:      # Copy all the elements in the right array\n",
    "            A[k] = aux[j]\n",
    "            j += 1\n",
    "        elif j > hi:     # Copy all the elements in the left array\n",
    "            A[k] = None if A[k-1] == aux[i] else aux[i]\n",
    "            i+= 1\n",
    "        elif aux[i] < aux[j]:\n",
    "            A[k] = None if A[k-1] == aux[i] else aux[i]\n",
    "            i += 1\n",
    "        else: # aux[i] > aux[j]: \n",
    "            A[k] = None if A[k-1] == aux[j] else aux[j]\n",
    "            j += 1\n",
    "            \n",
    "ar = [ 20 , 10, 49, 10, 50, 1, 5, 20 ]\n",
    "removeDups(ar)\n",
    "print ar"
   ]
  },
  {
   "cell_type": "markdown",
   "metadata": {},
   "source": [
    "## Find subarray with given sum\n",
    "Given an unsorted array of nonnegative integers, find a continuous subarray which adds to a given number."
   ]
  },
  {
   "cell_type": "code",
   "execution_count": 15,
   "metadata": {
    "collapsed": false
   },
   "outputs": [
    {
     "name": "stdout",
     "output_type": "stream",
     "text": [
      "33 [20, 3, 10]\n"
     ]
    }
   ],
   "source": [
    "A = [ 1, 5, 20, 3, 10, 5 ]\n",
    "T = 33\n",
    "total = 0\n",
    "start = 0\n",
    "for i in range(len(A)):\n",
    "    total += A[i]\n",
    "    while(total > T):\n",
    "        total -= A[start]\n",
    "        start += 1\n",
    "    if total == T:\n",
    "        break\n",
    "if total != T:\n",
    "    print 'Not Found'\n",
    "else:\n",
    "    print total, A[start:i+1]"
   ]
  },
  {
   "cell_type": "markdown",
   "metadata": {},
   "source": [
    "## Reverse words in a given string\n",
    "- INPUT  : i like this program very much\n",
    "- OUTPUT : much very program this like i\n",
    "- Algorithm:\n",
    "    - Reverse the whole sentence.\n",
    "    - Reverse each word."
   ]
  },
  {
   "cell_type": "code",
   "execution_count": 17,
   "metadata": {
    "collapsed": false
   },
   "outputs": [],
   "source": [
    "def reverse(sentence):\n",
    "    if len(sentence.split(' ')) == 1:\n",
    "        return sentence\n",
    "    \n",
    "    sent = list(sentence)\n",
    "    reverseWords(sent)\n",
    "    start = 0\n",
    "    for end in range(0, len(sent)):\n",
    "        if sent[end] == ' ':\n",
    "            reverseWords(sent, start, end)\n",
    "            start = end + 1\n",
    "    reverseWords(sent, start, end+1)\n",
    "    return ''.join(sent)\n",
    "\n",
    "def swap(A, i, j):\n",
    "    temp = A[i]\n",
    "    A[i] = A[j]\n",
    "    A[j] = temp\n",
    "\n",
    "def reverseWords(sent, start=0, end=None):\n",
    "    if end is None:\n",
    "        end = len(sent)\n",
    "    while(start < end):\n",
    "        swap(sent, start, end-1)\n",
    "        start += 1\n",
    "        end -= 1\n",
    "        \n",
    "sentence = \"You like this program very much\"\n",
    "assert \"much very program this like You\" == reverse(sentence)\n",
    "\n",
    "# f = open('/Users/nando/Downloads/B-large-practice.in', 'r')\n",
    "# N = int(f.readline())\n",
    "# fout = open('/Users/nando/Downloads/B-large-practice.out', 'w')\n",
    "# for i in range(N):\n",
    "#     sent = f.readline().strip()\n",
    "#     out = \"Case #{}: {}\\n\".format(i+1, reverse(sent))\n",
    "#     fout.write( out )"
   ]
  },
  {
   "cell_type": "markdown",
   "metadata": {},
   "source": [
    "## Find the missing number in Arithmetic Progression in O(log n) times\n",
    "\n",
    "- Strategy  : Time complexity requirement hints for divide and conquer or Binary Search.\n",
    "- Algorithm :\n",
    "    - r = ( A(-1) - A(0) ) / N\n",
    "    - expected_median = A[lo] + r*mid\n",
    "        - Base-case: \n",
    "            - if a[mid+1] - a[mid] != r then a[mid] + r\n",
    "            - if a[mid] - a[mid-1] != r then a[mid] - r\n",
    "        - if expected_median == median\n",
    "            - Missing is in a[mid+1, hi]\n",
    "        - else missing is in a[lo, mid]"
   ]
  },
  {
   "cell_type": "code",
   "execution_count": 20,
   "metadata": {
    "collapsed": false
   },
   "outputs": [
    {
     "data": {
      "text/plain": [
       "8"
      ]
     },
     "execution_count": 20,
     "metadata": {},
     "output_type": "execute_result"
    }
   ],
   "source": [
    "# [ 2, 4, 8, 10, 12, 14 ]   \n",
    "# [ 2  4  8 ] & [ 10 12 14 ]\n",
    "# [ 2  4  6 ] & [ 14 16 18 ]\n",
    "A = [ 2, 4, 6, 10, 12, 14 ]\n",
    "\n",
    "def findMissingProgression(A):\n",
    "    r = (A[-1] - A[0])/len(A)        # We know it's missing one, thus we divide by len(A)\n",
    "    return findMissing(A, r, 0, len(A))\n",
    "\n",
    "def findMissing(A, r, lo, hi):\n",
    "    if hi <= lo:\n",
    "        return -1\n",
    "    mid = lo + (hi-lo)/2\n",
    "    if A[mid+1] - A[mid] != r:  # Missing arithmetic element is after mid\n",
    "        return A[mid] + r\n",
    "    elif A[mid] - A[mid-1] != r: # Missing arithmetic element is before mid\n",
    "        return A[mid] - r\n",
    "    elif A[mid] == A[lo] + r*mid:\n",
    "        return findMissing(A, r, mid+1, hi)\n",
    "    else:\n",
    "        return findMissing(A, r, lo, mid)\n",
    "findMissingProgression(A)"
   ]
  },
  {
   "cell_type": "markdown",
   "metadata": {},
   "source": [
    "### Overlapping interval\n",
    "\n",
    "\n",
    "Case #1: A[0] < B[1] and B[0] < A[1]\n",
    "\n",
    "###############\n",
    "     ###################\n",
    "\n",
    "Case #2: A[0] < B[1] and B[0] < B[1]\n",
    "####################\n",
    "    #########\n",
    "\n",
    "Case #3: B[0] < A[1] and A[0] < B[1]\n",
    "    ###############\n",
    "##########\n",
    "\n",
    "    \n",
    "Case #4: B[0] < A[1] and A[0] < B[1]\n",
    "    #########\n",
    "####################\n",
    "\n"
   ]
  },
  {
   "cell_type": "code",
   "execution_count": 25,
   "metadata": {
    "collapsed": false
   },
   "outputs": [
    {
     "name": "stdout",
     "output_type": "stream",
     "text": [
      "[[-5, 5], None, None, [10, 25], None]\n"
     ]
    }
   ],
   "source": [
    "def overlap(a, b):\n",
    "    if a is None or b is None:\n",
    "        return False\n",
    "    return a[0] <= b[1] and b[0] <= a[1]\n",
    "\n",
    "def merge(A, i, j):\n",
    "    if overlap(A[i], A[j]):\n",
    "        A[i] = [min(A[i][0], A[j][0], A[j][1], A[i][1]), max(A[i][0], A[j][0], A[i][1], A[j][1])]\n",
    "        A[j] = None\n",
    "    \n",
    "A = [ [-5, 0], [1, 5], [-2, 2], [10, 20], [15, 25] ]\n",
    "\n",
    "def getOverlaps(A):\n",
    "    N = len(A)\n",
    "    for i in range(len(A)):\n",
    "        j = i+1\n",
    "        while j < len(A):\n",
    "            if overlap(A[i], A[j]):\n",
    "                merge(A, i, j)\n",
    "                j = i\n",
    "            j +=  1\n",
    "        \n",
    "getOverlaps(A)\n",
    "print A"
   ]
  },
  {
   "cell_type": "markdown",
   "metadata": {},
   "source": [
    "## Read in N Strings in the format of \"Restaraunt_ID Restaraunt_Rating\" and print out a sorted list with the highest ratings on top."
   ]
  },
  {
   "cell_type": "code",
   "execution_count": 35,
   "metadata": {
    "collapsed": false
   },
   "outputs": [
    {
     "name": "stdout",
     "output_type": "stream",
     "text": [
      "12 5\n",
      "1002 5\n",
      "143 4\n",
      "1000 3\n"
     ]
    }
   ],
   "source": [
    "import operator\n",
    "input = \"1000 3\\n1002 5\\n12 5\\n143 4\"\n",
    "counter = {}\n",
    "for line in input.split(\"\\n\"):\n",
    "    _id, rating = line.split(\" \")\n",
    "    counter[_id] = int(rating)\n",
    "\n",
    "for _id, rating in sorted(counter.items(), key=lambda tup: tup[1], reverse=True):\n",
    "    print \"{} {}\".format(_id, rating)"
   ]
  },
  {
   "cell_type": "markdown",
   "metadata": {},
   "source": [
    "## Given a string how would you check if the string is a palindrome?  \n"
   ]
  },
  {
   "cell_type": "code",
   "execution_count": 66,
   "metadata": {
    "collapsed": false
   },
   "outputs": [
    {
     "name": "stdout",
     "output_type": "stream",
     "text": [
      "True\n",
      "False\n"
     ]
    }
   ],
   "source": [
    "def isPalindrom(text):\n",
    "    text = list(text)\n",
    "    end = len(text)-1\n",
    "    for start in range(len(text)/2):\n",
    "        if text[start] != text[end]: \n",
    "            return False\n",
    "        end -= 1\n",
    "    return True\n",
    "\n",
    "print isPalindrom('anana')\n",
    "print isPalindrom('banana')"
   ]
  },
  {
   "cell_type": "markdown",
   "metadata": {},
   "source": [
    "## Given a list l and an int k produce a list of distinct pairs that add up to k\n",
    "\n",
    "- Approach 1: \n",
    "The naive way to do this would be to check all combinations (n choose 2). This exhaustive search is O(n2).\n",
    "\n",
    "- Approach 2: A better way would be to sort the array. This takes O(n log n). Then for each x in array A, use binary search to look for T-x. This will take O(nlogn). So, overall search is  O(n log n)\n",
    "\n",
    "- Approach 3 :  The best way would be to insert every element into a hash table (without sorting). This takes O(n) as constant time insertion. Then for every x, we can just look up its complement, T-x, which is O(1).\n",
    "Overall the run time of this approach is O(n)."
   ]
  },
  {
   "cell_type": "code",
   "execution_count": 89,
   "metadata": {
    "collapsed": false
   },
   "outputs": [
    {
     "name": "stdout",
     "output_type": "stream",
     "text": [
      "[(3, 7), (8, 2), (9, 1)]\n",
      "[(1, 9), (2, 8), (3, 7), (5, 5), (7, 3), (8, 2), (9, 1)]\n"
     ]
    }
   ],
   "source": [
    "# Approach #2\n",
    "def findPairRecursively(_list, k):\n",
    "    result = []\n",
    "    _list = sorted(_list)\n",
    "    \n",
    "    for ele in _list:\n",
    "        idx = binarySearch(_list, k - ele)\n",
    "        if idx >= 0:\n",
    "            result.append((ele, _list[idx]))\n",
    "        \n",
    "    \n",
    "    \n",
    "    return result\n",
    "\n",
    "def binarySearch(_list, x):\n",
    "    return _binarySearch(_list, 0, len(_list), x)\n",
    "\n",
    "def _binarySearch(ar, lo, hi, x):\n",
    "    if hi <= lo:\n",
    "        return -1\n",
    "    mid = lo + (hi-lo)/2\n",
    "    if ar[mid] == x:\n",
    "        return mid\n",
    "    elif x > ar[mid]:\n",
    "        return _binarySearch(ar, mid+1, hi, x)\n",
    "    else:\n",
    "        return _binarySearch(ar, lo, mid, x)\n",
    "    return -1\n",
    "\n",
    "\n",
    "# Approach #3\n",
    "def findPair(_list, k):\n",
    "    lookup = {}\n",
    "    result = []\n",
    "    for ele in _list:\n",
    "        if lookup.has_key(ele):\n",
    "            result.append((ele, lookup[ele]))\n",
    "        else:\n",
    "            lookup[k-ele] = ele\n",
    "    return result\n",
    "\n",
    "ar = [2,45,7,3,5,1,8,9]\n",
    "print findPair(ar, 10)\n",
    "\n",
    "print findPairRecursively(ar, 10)"
   ]
  },
  {
   "cell_type": "markdown",
   "metadata": {},
   "source": [
    "### You have a user-submitted review (basically just a paragraph of 5ish sentences). Design and write an algorithm to break up the review into sentences, and put it in a list/array data structure. (The goal of this question, I think, was to see how you can cleverly figure out how to deal with non-standard punctuation)  "
   ]
  },
  {
   "cell_type": "code",
   "execution_count": 124,
   "metadata": {
    "collapsed": false
   },
   "outputs": [
    {
     "name": "stdout",
     "output_type": "stream",
     "text": [
      "[('i', 2), ('lunch', 2), ('and', 1), ('loved', 1), ('ordered', 1), ('their', 1), ('menu', 1), ('is', 1), ('had', 1), ('it', 1), ('here', 1), ('expensive', 1), ('usually,', 1), ('my', 1), ('today', 1), ('really', 1)]\n"
     ]
    }
   ],
   "source": [
    "review = \"I had lunch here today. I ordered my usually, and really loved it. Their lunch menu is expensive\"\n",
    "\n",
    "from collections import defaultdict\n",
    "\n",
    "def tokenize_sent(review):\n",
    "    for sent in review.split('.'):\n",
    "        yield sent\n",
    "\n",
    "def tokenize(sentence):\n",
    "    for word in sentence.split(' '):\n",
    "        yield word.strip()\n",
    "        \n",
    "def stopword():\n",
    "    return ['']\n",
    "\n",
    "counter = defaultdict(lambda: 0)\n",
    "\n",
    "for sent in tokenize_sent(review):\n",
    "    for word in tokenize(sent):\n",
    "        if word not in stopword():\n",
    "            counter[word.lower()] += 1\n",
    "        \n",
    "print sorted(counter.items(), key=lambda _tuple: _tuple[1], reverse=True)"
   ]
  },
  {
   "cell_type": "markdown",
   "metadata": {},
   "source": [
    "## Count all the possible paths from top left to bottom right of a m*n matrix\n",
    "\n",
    "Constraints: Only allow Left, Right move.\n",
    "\n",
    "We can solve this problem either using recursion or using DP. DP is more efficient because we have many overlap.\n",
    "<table>\n",
    "<tr> <td> 0 </td>  <td> 1 </td> <td> 1 </td> </tr>\n",
    "<tr> <td> 1 </td>  <td> 2 </td> <td> 3 </td> </tr>\n",
    "<tr> <td> 1 </td>  <td> 3 </td> <td> 6 </td> </tr>\n",
    "</table>\n",
    "Idea: Let T(i, j) be the number of paths in matrix position i, j\n",
    "Recurrence: T(i, j) = T(i-1, j) + T(i, j-1) \n",
    "\n",
    "Follow up: Print all possible paths."
   ]
  },
  {
   "cell_type": "code",
   "execution_count": 3,
   "metadata": {
    "collapsed": false
   },
   "outputs": [
    {
     "data": {
      "text/plain": [
       "6"
      ]
     },
     "execution_count": 3,
     "metadata": {},
     "output_type": "execute_result"
    }
   ],
   "source": [
    "def numberOfPaths(n, m):\n",
    "    \n",
    "    T = [ [ 0 for _ in range(n) ] for _ in range(m) ]\n",
    "    \n",
    "    # Initialize values\n",
    "    for i in range(n):\n",
    "        T[i][0] = 1\n",
    "        \n",
    "    for j in range(m):\n",
    "        T[0][j] = 1\n",
    "    \n",
    "    T[0][0] = 0\n",
    "      \n",
    "    # Update overlaping subproblems.\n",
    "    for i in range(1, n):\n",
    "        for j in range(1, m):\n",
    "            T[i][j] = T[i-1][j] + T[i][j-1]\n",
    "    \n",
    "    return T[n-1][m-1]\n",
    "    \n",
    "def rnumberOfPaths(n, m):\n",
    "    if n == 1 or m == 1:\n",
    "        return 1\n",
    "    return rnumberOfPaths(n-1, m) + rnumberOfPaths(n, m-1)\n",
    "\n",
    "numberOfPaths(3, 3)\n",
    "rnumberOfPaths(3, 3)"
   ]
  },
  {
   "cell_type": "markdown",
   "metadata": {
    "collapsed": true
   },
   "source": [
    "1. Write a function to implement the \"cat\" command in Linux\n",
    "3. Intersection point for k linked lists.\n",
    "4. Edit distance\n",
    "5. Missing numbers from 1 to n  \n",
    "7. How is a priority queue implemented and stored?  \n",
    "8. Find the second smallest number in a BST  \n",
    "10. You have a sorted array with duplicates. Return the leftmost index of the given value.\n",
    "11. Given a matrix with 0 and 1. find paths of 1 from one corner of matrix to another."
   ]
  },
  {
   "cell_type": "markdown",
   "metadata": {},
   "source": [
    "## Find the first character that only appears once in the whole string\n",
    "- Scan the array and get a count of the number of character.\n",
    "- Scan the array and return the first character."
   ]
  },
  {
   "cell_type": "code",
   "execution_count": 2,
   "metadata": {
    "collapsed": false
   },
   "outputs": [
    {
     "data": {
      "text/plain": [
       "'f'"
      ]
     },
     "execution_count": 2,
     "metadata": {},
     "output_type": "execute_result"
    }
   ],
   "source": [
    "from collections import defaultdict\n",
    "\n",
    "def firstNonRepeating(st):\n",
    "    cnt = getCount(st)\n",
    "    for char in st:\n",
    "        if cnt[char] == 1:\n",
    "            return char\n",
    "\n",
    "def getCount(st):\n",
    "    count = defaultdict(lambda: 0)\n",
    "    for char in st:\n",
    "        count[char] += 1\n",
    "    return count\n",
    "        \n",
    "firstNonRepeating('GeeksforGeeks')"
   ]
  },
  {
   "cell_type": "markdown",
   "metadata": {},
   "source": [
    "## Given a number, find the next smallest palindrome larger than the number. For example if the number is 125, next smallest palindrome is 131.  \n",
    "- Until we find the next palindrom increment the number."
   ]
  },
  {
   "cell_type": "code",
   "execution_count": 11,
   "metadata": {
    "collapsed": false
   },
   "outputs": [
    {
     "data": {
      "text/plain": [
       "131"
      ]
     },
     "execution_count": 11,
     "metadata": {},
     "output_type": "execute_result"
    }
   ],
   "source": [
    "def isPalindrom(st):\n",
    "    st = str(st)\n",
    "    end = len(st)-1\n",
    "    for start in range(end+1):\n",
    "        if start == end or end - start <= 1:\n",
    "            return True\n",
    "        if st[start] != st[end]:\n",
    "            return False\n",
    "        end -= 1\n",
    "    return True\n",
    "\n",
    "def smallestPalindrom(st):\n",
    "    st= int(st)\n",
    "    while(True):\n",
    "        if isPalindrom(st):\n",
    "            return st\n",
    "        st += 1\n",
    "        \n",
    "# What if the number is 131?\n",
    "smallestPalindrom(125)"
   ]
  },
  {
   "cell_type": "markdown",
   "metadata": {},
   "source": [
    "## Print a matrix in spiral way.  \n",
    "\n",
    "- I thought of using recursion but it might not be the best approach because we don't divide it by much.\n",
    "- Take care of edge cases. For instance, what's the minimum size of the matrix. What the matrix is not square?\n",
    "- Strategy\n",
    "    - Print top\n",
    "    - Print right\n",
    "    - Print bottom\n",
    "    - Print left"
   ]
  },
  {
   "cell_type": "code",
   "execution_count": 30,
   "metadata": {
    "collapsed": false
   },
   "outputs": [
    {
     "data": {
      "text/plain": [
       "[[1, 2, 3, 4],\n",
       " [5, 6, 7, 8],\n",
       " [9, 10, 11, 12],\n",
       " [13, 14, 15, 16],\n",
       " [17, 18, 19, 20]]"
      ]
     },
     "execution_count": 30,
     "metadata": {},
     "output_type": "execute_result"
    }
   ],
   "source": [
    "def spiralPrint(matrix):\n",
    "    left = 0\n",
    "    right = len(matrix[0])-1\n",
    "    top = 0\n",
    "    bottom = len(matrix)-1\n",
    "    \n",
    "    order = []\n",
    "    \n",
    "    while(True):\n",
    "                \n",
    "        if (left >= right and top >= bottom):\n",
    "            break\n",
    "        # print top\n",
    "        for x in range(left, right+1):\n",
    "            order.append( matrix[top][x] )\n",
    "        top += 1\n",
    "        \n",
    "        # print right\n",
    "        for y in range(top, bottom+1):\n",
    "            order.append( matrix[y][right] )\n",
    "        right -=1 \n",
    "        \n",
    "        # print bottom\n",
    "        for x in range(right, left-1, -1):\n",
    "            order.append( matrix[bottom][x] )\n",
    "        bottom -= 1\n",
    "        \n",
    "        # print left\n",
    "        for y in range(bottom, top-1, -1):\n",
    "            order.append( matrix[y][left] )\n",
    "        left += 1\n",
    "    return order\n",
    "    \n",
    "matrix = [ [1, 2, 3, 4],  [5, 6, 7, 8], [9, 10, 11, 12], [13, 14, 15, 16]] \n",
    "assert spiralPrint( matrix ) == [ 1, 2, 3, 4, 8, 12, 16, 15, 14, 13, 9, 5, 6, 7, 11, 10 ]\n",
    "matrix = [ [1, 2, 3, 4],  [5, 6, 7, 8], [9, 10, 11, 12], [13, 14, 15, 16], [17, 18, 19, 20]]\n",
    "assert spiralPrint(matrix) == [1, 2, 3, 4, 8, 12, 16, 20, 19, 18, 17, 13, 9, 5, 6, 7, 11, 15, 14, 10]\n",
    "# assert spiralPrint([1, 2, 3, 4]) == [1, 2, 3, 4]\n",
    "\n",
    "matrix"
   ]
  },
  {
   "cell_type": "markdown",
   "metadata": {},
   "source": [
    "## Print and rotate a square image by 90 degree.\n",
    "- Idea: Fist row become last column, second row become the second to last column...\n",
    "- Follow-up: Can you do this in-place?\n"
   ]
  },
  {
   "cell_type": "code",
   "execution_count": 121,
   "metadata": {
    "collapsed": false
   },
   "outputs": [
    {
     "name": "stdout",
     "output_type": "stream",
     "text": [
      "[1, 2, 3, 4]\n",
      "[5, 6, 7, 8]\n",
      "[9, 10, 11, 12]\n",
      "[13, 14, 15, 16]\n",
      "\n",
      "[13, 9, 5, 1]\n",
      "[14, 10, 6, 2]\n",
      "[15, 11, 7, 3]\n",
      "[16, 12, 8, 4]\n"
     ]
    }
   ],
   "source": [
    "def rotate(matrix):\n",
    "    L = len(matrix)\n",
    "    W = len(matrix[0])\n",
    "    \n",
    "    out = [[None for _ in range(L)] for _ in range(W)]\n",
    "\n",
    "    for y in range(L):\n",
    "        for x in range(W):\n",
    "            out[x][L-1-y] = matrix[y][x]\n",
    "    return out\n",
    "\n",
    "def rotateInplace(matrix):\n",
    "    pass\n",
    "\n",
    "def printM(matrix):\n",
    "    for row in matrix:\n",
    "        print row\n",
    "\n",
    "def rotatePrint(matrix):\n",
    "    printM(matrix)\n",
    "    print\n",
    "    printM(rotate(matrix))\n",
    "    \n",
    "matrix = [ [1, 2, 3, 4],  [5, 6, 7, 8], [9, 10, 11, 12], [13, 14, 15, 16]]\n",
    "rotatePrint(matrix)"
   ]
  },
  {
   "cell_type": "markdown",
   "metadata": {},
   "source": [
    "## Given N Points in a Plane find the sets of Collinear Points.Collinear points are 3 or more points on the same line. (2 points are trivially collinear).\n",
    "- Ideas: 3 points are colinear if they have the same slope.\n",
    "- Algorithm\n",
    "    - For each pair of points\n",
    "        - Compute slope\n",
    "        - Store in a dictionary with the slope being the key and the point the values\n",
    "    - Return the values with 3 collinear points or more\n"
   ]
  },
  {
   "cell_type": "code",
   "execution_count": 174,
   "metadata": {
    "collapsed": false
   },
   "outputs": [
    {
     "data": {
      "text/plain": [
       "{0.5: {'(-50, -25)', '(0, 0)', '(40, 20)'},\n",
       " 1.0: {'(0, 0)', '(10, 10)', '(100, 100)', '(10000, 10000)'},\n",
       " 2.0: {'(-25, -50)', '(0, 0)', '(1, 2)', '(1000, 2000)', '(8, 16)'}}"
      ]
     },
     "execution_count": 174,
     "metadata": {},
     "output_type": "execute_result"
    }
   ],
   "source": [
    "from collections import defaultdict\n",
    "\n",
    "class Point:\n",
    "    \n",
    "    def __init__(self, pt):\n",
    "        self.x = pt[0]\n",
    "        self.y = pt[1]\n",
    "        \n",
    "    def slopeTo(self, that):\n",
    "        if self.x == that.x:\n",
    "            return float('inf')\n",
    "        return (1.*self.y - that.y)/(self.x - that.x)\n",
    "    \n",
    "    @staticmethod\n",
    "    def areCollinear(pt1, pt2, pt3):\n",
    "        if pt1.slopeTo(pt2) == pt1.slopeTo(pt3) and  pt1.slopeTo(pt3) == pt2.slopeTo(pt3):\n",
    "            return True\n",
    "        return False\n",
    "    \n",
    "    def toString(self):\n",
    "        return '({}, {})'.format(self.x, self.y)\n",
    "    \n",
    "    def equal(self, that):\n",
    "        return self.x == that.x and self.y == that.y\n",
    "\n",
    "\n",
    "points = [ (0,0), (1, 2), (8, 16), (3, 9), (10, 10), (1000, 2000), (100, 100), (40, 20), (-50, -25), (-25, -50), (0, -10), (10000, 10000) ]\n",
    "points = [ Point(pt) for pt in points ]\n",
    "\n",
    "assert Point.areCollinear(Point((0,0)), Point((1, 1)), Point((2, 2)))\n",
    "assert Point.areCollinear(Point((0,0)), Point((1, 1)), Point((2, 3))) == False\n",
    "\n",
    "def getLines(points):\n",
    "    slopes = defaultdict(set)\n",
    "    for pt1 in points:\n",
    "        for pt2 in points:\n",
    "            for pt3 in points:\n",
    "                if not pt1.equal(pt2) and not pt1.equal(pt3) and not pt2.equal(pt3):\n",
    "                    if Point.areCollinear(pt1, pt2, pt3):\n",
    "                        slope = pt1.slopeTo(pt2)\n",
    "                        slopes[slope].add(pt1.toString())\n",
    "                        slopes[slope].add(pt2.toString())\n",
    "                        slopes[slope].add(pt3.toString())\n",
    "    return { key: values for key, values in slopes.iteritems() if len(values) >= 3 }\n",
    "    \n",
    "getLines(points)"
   ]
  },
  {
   "cell_type": "markdown",
   "metadata": {},
   "source": [
    "## N ropes\n",
    "Given N ropes of lengths L1, L2, L3, L4, …, LN. I had to join every rope to get a final rope of length L1 + L2 + … + LN.\n",
    "However, I can join only two ropes at a time and… "
   ]
  },
  {
   "cell_type": "markdown",
   "metadata": {},
   "source": [
    "## 2-Sum\n",
    "Count distinct pair of integers that sum up to a target number.  \n",
    "Binary search in a circular sorted array. Find difference between two dates. Dynamic programming. Merge two sorted linkedlists.  \n"
   ]
  },
  {
   "cell_type": "markdown",
   "metadata": {},
   "source": [
    "## Search an element in a rotated array \n",
    "Given a sorted array of n integer that has been rotate n an unknown number of times, find an element in the array in O(logn) times.\n",
    "\n",
    "- Observations\n",
    "    - Note there is 2 point of inflections and that half of the array is always ordered. If the element we search in the ordered half we just have to call perform a binary search. If it's not there then we should look for it in the other half.\n",
    "        - [ 10   15   **20**   0   5 ]\n",
    "        - [ 50    5   **20**  30  40 ]\n",
    "    - Don't work for duplicate?\n"
   ]
  },
  {
   "cell_type": "code",
   "execution_count": 114,
   "metadata": {
    "collapsed": false
   },
   "outputs": [
    {
     "data": {
      "text/plain": [
       "2"
      ]
     },
     "execution_count": 114,
     "metadata": {},
     "output_type": "execute_result"
    }
   ],
   "source": [
    "A = [15, 16, 19, 20, 25, 1, 3, 4, 5, 7, 10, 14 ]\n",
    "\n",
    "def search(A, lo, hi, x):\n",
    "    mid = ( hi + lo ) / 2\n",
    "    # Base case\n",
    "    if A[mid] == x:\n",
    "        return mid\n",
    "    if hi < lo:\n",
    "        return -1\n",
    "    \n",
    "    \n",
    "    if A[lo] < A[mid]:   # First half is ordered\n",
    "        if x >= A[lo] and x <= A[mid]:\n",
    "            return search(A, lo, mid-1, x)\n",
    "        else:\n",
    "            return search(A, mid+1, hi, x)\n",
    "        \n",
    "    elif A[mid] < A[lo]:   # Second half is ordered\n",
    "        if x >= A[mid] and x <= A[hi]:\n",
    "            return search(A, mid+1, hi, x)\n",
    "        else:\n",
    "            return search(A, lo, mid-1, x)\n",
    "        \n",
    "    elif A[mid] == A[lo]:  # Left side is all repeat\n",
    "        if A[mid] != A[hi]:\n",
    "            return search(A, mid+1, hi, x)\n",
    "        else:   \n",
    "            result = search(A, lo, mid-1, x)\n",
    "            if result == -1:\n",
    "                return search(A, mid+1, hi, x)\n",
    "            else:\n",
    "                return result\n",
    "    return -1\n",
    "A = [3, 4, 2]\n",
    "search(A, 0, len(A)-1, 2)"
   ]
  },
  {
   "cell_type": "markdown",
   "metadata": {},
   "source": [
    "## Rotated array version 2\n",
    "Given an array of integers, write a method to find indices m and n such that if you sorted elements m through n, the entire array would be sorted. Minimize n - m ( that is find the smallest such sequence).\n",
    "\n",
    "- Idea\n",
    "    - Look for most left indexes where array is unordered\n",
    "    - Look for most right indexes where array is unordered\n",
    "    - Find the min and max in A[left:right]\n",
    "    - Shift to the left until the element at the left is smaller than the min in the middle unordered array\n",
    "    - Shift to the right until the element at"
   ]
  },
  {
   "cell_type": "code",
   "execution_count": 34,
   "metadata": {
    "collapsed": false
   },
   "outputs": [
    {
     "data": {
      "text/plain": [
       "(3, 9)"
      ]
     },
     "execution_count": 34,
     "metadata": {},
     "output_type": "execute_result"
    }
   ],
   "source": [
    "def findIdx(A):\n",
    "    left = getLeftIdx(A)\n",
    "    right = getRightIdx(A)\n",
    "    \n",
    "    _min, _max = getMinMax(A, left, right)\n",
    "    return shiftLeft(A, left, _min), shiftRight(A, right, _max)\n",
    "    \n",
    "def getLeftIdx(A):\n",
    "    for i in range(1, len(A)):\n",
    "        if A[i-1] > A[i]:\n",
    "            return i-1\n",
    "\n",
    "def getRightIdx(A):\n",
    "    for i in range(len(A)-1, 0, -1):\n",
    "        if A[i-1] > A[i]:\n",
    "            return i\n",
    "        \n",
    "def getMinMax(A, left, right):\n",
    "    _min = float('inf')\n",
    "    _max = -float('inf')\n",
    "    for i in range(left, right+1):\n",
    "        if A[i] > _max:\n",
    "            _max = A[i]\n",
    "        \n",
    "        if A[i] < _min:\n",
    "            _min = A[i]\n",
    "    \n",
    "    return _min, _max\n",
    "\n",
    "def shiftLeft(A, left, _min):\n",
    "    \n",
    "    for i in range(left-1, 0, -1):\n",
    "        if A[i] < _min:\n",
    "            return i + 1 \n",
    "\n",
    "def shiftRight(A, right, _max):\n",
    "    \n",
    "    for i in range(right+1, len(A)):\n",
    "        if A[i] < _max:\n",
    "            return i\n",
    "\n",
    "A = [ 1, 2, 4, 7, 10, 11, 7, 12, 6, 7, 16, 18, 19 ] # output=(3, 9)\n",
    "findIdx(A)"
   ]
  },
  {
   "cell_type": "markdown",
   "metadata": {},
   "source": [
    "## Matrix Search\n",
    "\n",
    "Given an MxN matrix in which each row and each column is sorted in ascending order, write a method to find an element."
   ]
  },
  {
   "cell_type": "code",
   "execution_count": 10,
   "metadata": {
    "collapsed": false
   },
   "outputs": [
    {
     "data": {
      "text/plain": [
       "(2, 1)"
      ]
     },
     "execution_count": 10,
     "metadata": {},
     "output_type": "execute_result"
    }
   ],
   "source": [
    "A = [[15, 20, 40, 85], [20, 35, 80, 104], [30, 55, 95, 105], [40, 80, 100, 120]]\n",
    "\n",
    "def search(A, x):\n",
    "    \n",
    "    for row in range(len(A)):\n",
    "        col = binarySearch(A[row], x, 0, len(A[row]))\n",
    "        if col != -1:\n",
    "            return (row, col)\n",
    "    return -1\n",
    "\n",
    "def binarySearch(A, x, lo, hi):\n",
    "    mid = (hi+lo)/2\n",
    "    if hi < lo:\n",
    "        return -1\n",
    "    \n",
    "    if A[mid] == x:\n",
    "        return mid\n",
    "    \n",
    "    elif A[mid] < x:\n",
    "        return binarySearch(A, x, mid+1, hi)\n",
    "    else:\n",
    "        return binarySearch(A, x, lo, mid-1)\n",
    "    \n",
    "\n",
    "search(A, 55)"
   ]
  },
  {
   "cell_type": "markdown",
   "metadata": {},
   "source": [
    "## Print Matrix Diagonally\n",
    "\n",
    "Given a 2D matrix, print all elements of the given matrix in diagonal order. "
   ]
  },
  {
   "cell_type": "code",
   "execution_count": 29,
   "metadata": {
    "collapsed": false
   },
   "outputs": [
    {
     "name": "stdout",
     "output_type": "stream",
     "text": [
      "\n",
      "5 \n",
      "9 6 \n",
      "13 10 7 \n",
      "17 14 11 8 \n",
      "18 15 12 \n",
      "19 16 \n",
      "20 \n"
     ]
    }
   ],
   "source": [
    "import sys\n",
    "def printDiagonaly(A):\n",
    "    \n",
    "    for row in range(len(A)):\n",
    "        y = row\n",
    "        x = 0\n",
    "        \n",
    "        while y > 0:\n",
    "            sys.stdout.write('{} '.format(A[y][x]))\n",
    "            y -= 1\n",
    "            x += 1\n",
    "        print\n",
    "    \n",
    "    for col in range(1, len(A[0])):\n",
    "        x = col\n",
    "        y = len(A)-1\n",
    "        \n",
    "        while x < len(A[0]):\n",
    "            sys.stdout.write('{} '.format(A[y][x]))\n",
    "            x += 1\n",
    "            y -= 1\n",
    "        print\n",
    "        \n",
    "    \n",
    "    \n",
    "A = [ [1, 2, 3, 4 ], [5, 6, 7, 8], [9, 10, 11, 12 ], [13, 14, 15, 16], [17, 18, 19, 20]]\n",
    "printDiagonaly(A)"
   ]
  },
  {
   "cell_type": "markdown",
   "metadata": {
    "collapsed": true
   },
   "source": [
    "## Searching and Sorting\n",
    "\n",
    "A circus is designing a tower routing consisting of people standing atop one another's shoulders. For practical and aesthetic reasons, each person must be both shorter and lighter than the person below him or her. Given the heights and weights of each person in the circus, write a method to compute the largest number of people in a such tower.\n",
    "- INPUT (height, weight) : ()\n",
    "- Output : 5\n",
    "- Algorithm\n",
    "    - Sort the number of person by height. O(n*log(n))\n",
    "    - Compute the longuest increasing **subsequence**. O(n^2)\n",
    "    \n",
    "## Longuest Increasing subsequence\n",
    "T(i) be the length of longuest increasing subsequence at which includes ai.\n",
    "\n",
    "T(i) = 1 + max{ T(j) : 1<= j < i and aj < ai }"
   ]
  },
  {
   "cell_type": "code",
   "execution_count": 15,
   "metadata": {
    "collapsed": false
   },
   "outputs": [
    {
     "data": {
      "text/plain": [
       "5"
      ]
     },
     "execution_count": 15,
     "metadata": {},
     "output_type": "execute_result"
    }
   ],
   "source": [
    "def lis(a):\n",
    "    T    = [0] * len(a)\n",
    "    T[0] = 1\n",
    "    for i in range(1, len(a)):\n",
    "        T[i] = 1\n",
    "        for j in range(0, i):\n",
    "            if a[j] < a[i] and T[j]+1  > T[i]:\n",
    "                T[i] = T[j]+1 \n",
    "    return max(T)\n",
    "\n",
    "lis([90, 95, 100, 70, 150, 190])\n",
    "\n",
    "persons = [(65, 100), (70, 150), (56, 90), (75, 190), (60, 95), (68, 70)]\n",
    "persons = sorted(person, key=lambda x: x[0])\n",
    "lis([pers[1] for pers in persons])"
   ]
  },
  {
   "cell_type": "markdown",
   "metadata": {},
   "source": [
    "## Submatrix -- CCI 18.12\n",
    "Imagine you have a square matrix, where each cell (pixel) is either black or white. Design an algorithm to find the maximum subsquare such that all four borders are filled with black pixels.\n",
    "\n",
    "Strategy - "
   ]
  },
  {
   "cell_type": "code",
   "execution_count": 97,
   "metadata": {
    "collapsed": false
   },
   "outputs": [
    {
     "data": {
      "text/plain": [
       "[[1, 1, 1, 1], [1, 0, 0, 1], [1, 0, 0, 1], [1, 1, 1, 1]]"
      ]
     },
     "execution_count": 97,
     "metadata": {},
     "output_type": "execute_result"
    }
   ],
   "source": [
    "def findSquare(matrix):\n",
    "    N = len(matrix[0])\n",
    "    max_size = 0\n",
    "    first=(0,0)\n",
    "    for i in range(N):\n",
    "        for j in range(N):\n",
    "            if matrix[i][j] == 1:\n",
    "                for y in range(j, N):\n",
    "                    if matrix[i][y] == 1:\n",
    "                        size = y-j\n",
    "                        if i+size < N and max_size < size and matrix[i+size][j] and matrix[i+size][y]:\n",
    "                            max_size=size\n",
    "                            first=(i, j)\n",
    "\n",
    "    return [matrix[x][first[1]:first[1]+max_size+1] for x in range(first[0], first[0]+max_size+1)]\n",
    "\n",
    "\n",
    "def isSquare(matrix, row, col, size):\n",
    "    # check top and bottom\n",
    "    for i in range(0, size):\n",
    "        if matrix[row][col+i] == 0:\n",
    "            return False\n",
    "        if matrix[row+size-1][col+i]==0:\n",
    "            return False\n",
    "        \n",
    "    # check left and right\n",
    "    for i in range(0, size):\n",
    "        if matrix[row+i][col] == 0:\n",
    "            return False\n",
    "        if matrix[row+i][col+size-1]==0:\n",
    "            return False\n",
    "    return True\n",
    "\n",
    "def findSquare(matrix):\n",
    "    N = len(matrix[0])\n",
    "    for size in range(N, 0, -1):\n",
    "        for i in range(0, N):\n",
    "            for j in range(0, N):\n",
    "                if i + size < N and j + size < N:\n",
    "                    if isSquare(matrix, i, j, size) is True:\n",
    "                        return [matrix[x][j:j+size] for x in range(i,i+size)]\n",
    "    return None\n",
    "\n",
    "    \n",
    "matrix = [[1,0, 0, 0, 0, 0, 0], [0, 0, 0, 0, 0, 0, 0], [1, 0, 1, 1, 1, 1, 0],[0, 0, 1, 0, 0, 1, 0], [0, 0, 1, 0, 0, 1, 0], \n",
    "          [0, 0, 1, 1, 1, 1, 0], [0, 0, 1, 0, 0, 1, 0]]\n",
    "findSquare(matrix)"
   ]
  },
  {
   "cell_type": "markdown",
   "metadata": {},
   "source": [
    "## DVP 2.17 Given a sorted array of distinct integers A[1; n] , you want to nd out whether there is an index i  for which A[i] = i . Give a divide-and-conquer algorithm that runs in time O(log n) .\n",
    "HINT: BST\n",
    "\n",
    "## DVP 2.16 You are given an infinite array A in which the n  cells contain integers in sorted order and the rest of the cells are filled with infinity. You are not  given the value of n . Describe an algorithm that takes an integer x  as input and nds a position in the array containing x , if such a position exists, in O(log n)  time. (If you are disturbed by the fact that the array A  has innite length, assume instead that it is of length n , but that you don't know this length, and that the implementation of the array data type in your programming language returns the error message 1  whenever elements A[i]  with i > n  are accessed.)\n",
    "\n",
    "## DVP 1.19 K-way merge operation \n",
    "- Input     : A1, A2, ... , Ak sorted array of size n\n",
    "- Output  : Sorted array of size kn.\n",
    "Divide And Conquer Approach\t\n"
   ]
  },
  {
   "cell_type": "code",
   "execution_count": 4,
   "metadata": {
    "collapsed": false
   },
   "outputs": [
    {
     "data": {
      "text/html": [
       "\n",
       "<script>\n",
       "code_show=false; \n",
       "function code_toggle() {\n",
       "    if (code_show){\n",
       "        $('div.input').show();\n",
       "    } else {\n",
       "        $('div.input').hide();\n",
       "    }\n",
       "    code_show = !code_show\n",
       "} \n",
       "$( document ).ready(code_toggle);\n",
       "</script>\n",
       "<form action=\"javascript:code_toggle()\"><input type=\"submit\" value=\"Click here to toggle on/off the raw code\"></form>"
      ],
      "text/plain": [
       "<IPython.core.display.HTML object>"
      ]
     },
     "execution_count": 4,
     "metadata": {},
     "output_type": "execute_result"
    }
   ],
   "source": [
    "from IPython.display import HTML\n",
    "\n",
    "HTML('''\n",
    "<script>\n",
    "code_show=false; \n",
    "function code_toggle() {\n",
    "    if (code_show){\n",
    "        $('div.input').show();\n",
    "    } else {\n",
    "        $('div.input').hide();\n",
    "    }\n",
    "    code_show = !code_show\n",
    "} \n",
    "$( document ).ready(code_toggle);\n",
    "</script>\n",
    "<form action=\"javascript:code_toggle()\"><input type=\"submit\" value=\"Click here to toggle on/off the raw code\"></form>''')"
   ]
  },
  {
   "cell_type": "code",
   "execution_count": null,
   "metadata": {
    "collapsed": true
   },
   "outputs": [],
   "source": []
  }
 ],
 "metadata": {
  "kernelspec": {
   "display_name": "Python 2",
   "language": "python",
   "name": "python2"
  },
  "language_info": {
   "codemirror_mode": {
    "name": "ipython",
    "version": 2
   },
   "file_extension": ".py",
   "mimetype": "text/x-python",
   "name": "python",
   "nbconvert_exporter": "python",
   "pygments_lexer": "ipython2",
   "version": "2.7.9"
  }
 },
 "nbformat": 4,
 "nbformat_minor": 0
}
