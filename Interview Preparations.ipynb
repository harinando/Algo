{
 "cells": [
  {
   "cell_type": "code",
   "execution_count": 73,
   "metadata": {
    "collapsed": true
   },
   "outputs": [],
   "source": [
    "import math"
   ]
  },
  {
   "cell_type": "markdown",
   "metadata": {},
   "source": [
    "## Finding the median of two sorted arrays of same size:\n",
    "\n",
    "- Approach #1:\n",
    "    - Time complexity: O(n log n)\n",
    "    - Strategy: Sort the array using merge sort, and then return the middle elements.\n",
    "- Approach #2:\n",
    "    - Time Complexity: O(log n)\n",
    "    - Strategy: Use divide and conquer by comparing the median in the 2 arrays. Note that we need to handle median differently for odd/even length array.\n",
    "         - Case #1:  M1 == M2\n",
    "             - return M1\n",
    "         - Case #2:  M1 < M2\n",
    "             - 1 3 4 5 6 9 10 & 12 15 16 20 22 25 40 ( 5 & 20 | 11 )\n",
    "             - Median is in A1[n/2:n] & A2[0:n/2]\n",
    "         - Case #3: M1 > M2\n",
    "             - 12 15 16 20 22 25 40 & 1 3 4 5 6 9 10  ( 20 & 5 | 11 )\n",
    "             - Median is in A2[n/2:n] & A1[0:n/2]"
   ]
  },
  {
   "cell_type": "code",
   "execution_count": 22,
   "metadata": {
    "collapsed": false
   },
   "outputs": [],
   "source": [
    "def get_median(ar1, ar2):\n",
    "    n = len(ar1)\n",
    "    if n == 0:\n",
    "        return -1\n",
    "    \n",
    "    if n == 1:\n",
    "        return (ar1[0] + ar2[0])/2\n",
    "    \n",
    "    if n == 2:\n",
    "        return ( max(ar1[0], ar2[0]) + min(ar1[1], ar2[1]) ) / 2.\n",
    "    \n",
    "    m1 = median(ar1)\n",
    "    m2 = median(ar2)\n",
    "    \n",
    "    # That's the median\n",
    "    if m1 == m2:\n",
    "        return m1\n",
    "    \n",
    "    elif m1 < m2\n",
    "        if n % 2 == 0:\n",
    "            return get_median(ar1[n/2:n], ar2[0:n/2])\n",
    "        else:\n",
    "            return get_median(ar1[n/2+1:n], ar2[0:n/2])\n",
    "    else:\n",
    "        if n % 2 == 0:\n",
    "            return get_median(ar1[0:n/2], ar2[n/2:n])\n",
    "        else:\n",
    "            return get_median(ar1[0:n/2], ar2[n/2+1:n])\n",
    "    \n",
    "\n",
    "def median(ar):\n",
    "    n = len(ar)\n",
    "    if n % 2 == 0:\n",
    "        return (ar[(n/2)-1]+ar[n/2])/2\n",
    "    else:\n",
    "        return ar[n/2]\n",
    "\n",
    "ar1 = [1, 5, 7, 10, 12]\n",
    "ar2 = [11, 15, 23, 30, 45]\n",
    "\n",
    "median = get_median(ar2, ar1)"
   ]
  },
  {
   "cell_type": "markdown",
   "metadata": {},
   "source": [
    "## Largest Sum Contiguous Subarray\n",
    "- Input: Array A of length N.\n",
    "- Strategy: Use DP\n",
    "- Recurrence: Let T[i] be the maximum sum contiguous subarray up to array i.\n",
    "\\begin{equation}\n",
    "\\forall  i \\in [0, N], T(i) = max( T(i-1)+A(i), A(i) )\n",
    "\\end{equation}"
   ]
  },
  {
   "cell_type": "code",
   "execution_count": 5,
   "metadata": {
    "collapsed": false
   },
   "outputs": [
    {
     "name": "stdout",
     "output_type": "stream",
     "text": [
      "[4, -1, -2, 1, 5] 7\n"
     ]
    }
   ],
   "source": [
    "ar =  [ -2, -3, 4, -1, -2, 1, 5, -3 ]\n",
    "\n",
    "def max_sum(ar):\n",
    "    size = len(ar)\n",
    "    T = [-float('inf')] * size\n",
    "    max_val = -float('inf')\n",
    "    start = -1\n",
    "    end = -1\n",
    "    for i in range(0, size):\n",
    "        if i == 0:\n",
    "            T[i] = ar[i]\n",
    "            start = 0\n",
    "            \n",
    "        elif T[i-1] + ar[i] > ar[i]:\n",
    "            T[i] = T[i-1] + ar[i]\n",
    "        else:\n",
    "            T[i] = ar[i]\n",
    "            start = i\n",
    "\n",
    "        if max_val < T[i]:\n",
    "            max_val = T[i]    \n",
    "            end = i\n",
    "    return max_val, start, end\n",
    "\n",
    "_max, start, end = max_sum(ar)\n",
    "print ar[start:end+1], _max"
   ]
  },
  {
   "cell_type": "markdown",
   "metadata": {},
   "source": [
    "## Maximum sum rectangle in 2-D matrix"
   ]
  },
  {
   "cell_type": "code",
   "execution_count": 388,
   "metadata": {
    "collapsed": false
   },
   "outputs": [
    {
     "name": "stdout",
     "output_type": "stream",
     "text": [
      "Total:  29\n",
      "Submatrix: \n",
      "[-3, 4, 2]\n",
      "[8, 10, 1]\n",
      "[-1, 1, 7]\n"
     ]
    }
   ],
   "source": [
    "A = [[1, 2, -1, -4, -20], [-8, -3, 4, 2, 1], [3, 8, 10, 1, 3],[-4, -1, 1, 7, -6]]\n",
    "\n",
    "N = len(A)\n",
    "M = len(A[0])\n",
    "\n",
    "ftop = -1\n",
    "fbottom = -1\n",
    "fleft = -1\n",
    "fright = -1\n",
    "fmax = -float('inf')\n",
    "\n",
    "for l in range(N):\n",
    "    temp = [0]*N\n",
    "    for r in range(l, M):\n",
    "        for i in range(N):           # There is a possibility to compute it once only.\n",
    "            temp[i] += A[i][r]\n",
    "        _max, top, bottom = max_sum(temp)\n",
    "        if(fmax < _max):\n",
    "            fmax = _max\n",
    "            ftop = top\n",
    "            fbottom = bottom\n",
    "            fleft = l\n",
    "            fright = r\n",
    "\n",
    "print 'Total: ', fmax\n",
    "print 'Submatrix: '\n",
    "for ele in A[ftop:fbottom+1]:\n",
    "    print ele[fleft:fright+1]\n"
   ]
  },
  {
   "cell_type": "markdown",
   "metadata": {
    "collapsed": true
   },
   "source": [
    "## Print the element that is common in all rows of a given rowise matrix\n",
    "\n",
    "- Strategy: Use an hash \n",
    "- Algorithm:\n",
    "    - Create a HashMap of unique element of the first row. \n",
    "    - For each rows, \n",
    "        - Update the value of the hash if it is present. \n",
    "    - At the end, loop through to check wether we have an element that has been repeated in all rows."
   ]
  },
  {
   "cell_type": "code",
   "execution_count": 186,
   "metadata": {
    "collapsed": false
   },
   "outputs": [
    {
     "data": {
      "text/plain": [
       "7"
      ]
     },
     "execution_count": 186,
     "metadata": {},
     "output_type": "execute_result"
    }
   ],
   "source": [
    "ar = [ [2, 3, 7], [1, 7, 0], [6, 7, 1]]\n",
    "\n",
    "def findCommon(A):\n",
    "    f  = {}\n",
    "    for ele in A[0]:     # 0 is the index of the first row which will be updated later.\n",
    "        f[ele] = 0\n",
    "        \n",
    "    for r in range(1, len(A)):\n",
    "        for c in range(0, len(A[0])):\n",
    "            if f.get(A[r][c], None) is not None and f.get(A[r][c], None) != r:\n",
    "                f[A[r][c]] += 1\n",
    "    \n",
    "    for key, value in f.iteritems():\n",
    "        if value == len(A[0]) - 1:\n",
    "            return key\n",
    "\n",
    "    return False\n",
    "\n",
    "findCommon(ar)"
   ]
  },
  {
   "cell_type": "markdown",
   "metadata": {},
   "source": [
    "## Duplicate removal:\n",
    "You are given an array of n elements, and you notice that some of the elements are duplicates;\n",
    "that is, they appear more than once in the array. Show how to remove all duplicates from the\n",
    "array in time O(n log n).\n",
    "\n",
    "- Input A\n",
    "- Strategy: Divide and conquer\n",
    "- Algorithm:\n",
    "    - Recursively sort A(lo, mid) & A(mid+1, hi)\n",
    "    - Like merge sort, merge the 2 arrays if the element is unique."
   ]
  },
  {
   "cell_type": "code",
   "execution_count": 8,
   "metadata": {
    "collapsed": false
   },
   "outputs": [
    {
     "name": "stdout",
     "output_type": "stream",
     "text": [
      "[1, 5, 10, None, 20, None, 49, 50]\n"
     ]
    }
   ],
   "source": [
    "def removeDups(A):\n",
    "    n = len(A)\n",
    "    aux = [None]*n\n",
    "    sort(A, aux, 0, n-1)\n",
    "\n",
    "\n",
    "def sort(A, aux, lo, hi):\n",
    "    if hi <= lo:\n",
    "        return\n",
    "    mid = lo + (hi-lo)/2    \n",
    "    sort(A, aux, lo, mid)\n",
    "    sort(A, aux, mid+1, hi)\n",
    "    mergeDups(A, aux, lo, mid, hi)\n",
    "\n",
    "def merge(A, aux, lo, mid, hi):\n",
    "    for i in range(lo, hi+1):\n",
    "        aux[i] = A[i]\n",
    "    \n",
    "    i = lo\n",
    "    j = mid+1\n",
    "    \n",
    "    # [ 1 5 10] & [ 6 10 15 ] => [1 5 6 10 10 15 ] \n",
    "    for k in range(lo, hi+1):\n",
    "        if i > mid:    # Copy all the elements in the right array\n",
    "            A[k] = aux[j]\n",
    "            j += 1\n",
    "        elif j > hi:   # Copy all the elements in the left array\n",
    "            A[k] = aux[i]\n",
    "            i+= 1\n",
    "        elif aux[i] < aux[j]:\n",
    "            A[k] = aux[i]\n",
    "            i += 1\n",
    "        else: \n",
    "            A[k] = aux[j]\n",
    "            j += 1\n",
    "\n",
    "def mergeDups(A, aux, lo, mid, hi):\n",
    "    for i in range(lo, hi+1):\n",
    "        aux[i] = A[i]\n",
    "    \n",
    "    i = lo\n",
    "    j = mid+1\n",
    "    \n",
    "    # [ 1 5 10 ] & [ 6 10 15 ] => [1 5 6 10 15 ]\n",
    "    for k in range(lo, hi+1):\n",
    "        if i > mid:      # Copy all the elements in the right array\n",
    "            A[k] = aux[j]\n",
    "            j += 1\n",
    "        elif j > hi:     # Copy all the elements in the left array\n",
    "            A[k] = None if A[k-1] == aux[i] else aux[i]\n",
    "            i+= 1\n",
    "        elif aux[i] < aux[j]:\n",
    "            A[k] = None if A[k-1] == aux[i] else aux[i]\n",
    "            i += 1\n",
    "        else: # aux[i] > aux[j]: \n",
    "            A[k] = None if A[k-1] == aux[j] else aux[j]\n",
    "            j += 1\n",
    "            \n",
    "ar = [ 20 , 10, 49, 10, 50, 1, 5, 20 ]\n",
    "removeDups(ar)\n",
    "print ar"
   ]
  },
  {
   "cell_type": "markdown",
   "metadata": {},
   "source": [
    "## Find subarray with given sum\n",
    "Given an unsorted array of nonnegative integers, find a continuous subarray which adds to a given number."
   ]
  },
  {
   "cell_type": "code",
   "execution_count": 15,
   "metadata": {
    "collapsed": false
   },
   "outputs": [
    {
     "name": "stdout",
     "output_type": "stream",
     "text": [
      "33 [20, 3, 10]\n"
     ]
    }
   ],
   "source": [
    "A = [ 1, 5, 20, 3, 10, 5 ]\n",
    "T = 33\n",
    "total = 0\n",
    "start = 0\n",
    "for i in range(len(A)):\n",
    "    total += A[i]\n",
    "    while(total > T):\n",
    "        total -= A[start]\n",
    "        start += 1\n",
    "    if total == T:\n",
    "        break\n",
    "if total != T:\n",
    "    print 'Not Found'\n",
    "else:\n",
    "    print total, A[start:i+1]"
   ]
  },
  {
   "cell_type": "markdown",
   "metadata": {},
   "source": [
    "## Reverse words in a given string\n",
    "- INPUT  : i like this program very much\n",
    "- OUTPUT : much very program this like i\n",
    "- Algorithm:\n",
    "    - Reverse the whole sentence.\n",
    "    - Reverse each word."
   ]
  },
  {
   "cell_type": "code",
   "execution_count": 17,
   "metadata": {
    "collapsed": false
   },
   "outputs": [],
   "source": [
    "def reverse(sentence):\n",
    "    if len(sentence.split(' ')) == 1:\n",
    "        return sentence\n",
    "    \n",
    "    sent = list(sentence)\n",
    "    reverseWords(sent)\n",
    "    start = 0\n",
    "    for end in range(0, len(sent)):\n",
    "        if sent[end] == ' ':\n",
    "            reverseWords(sent, start, end)\n",
    "            start = end + 1\n",
    "    reverseWords(sent, start, end+1)\n",
    "    return ''.join(sent)\n",
    "\n",
    "def swap(A, i, j):\n",
    "    temp = A[i]\n",
    "    A[i] = A[j]\n",
    "    A[j] = temp\n",
    "\n",
    "def reverseWords(sent, start=0, end=None):\n",
    "    if end is None:\n",
    "        end = len(sent)\n",
    "    while(start < end):\n",
    "        swap(sent, start, end-1)\n",
    "        start += 1\n",
    "        end -= 1\n",
    "        \n",
    "sentence = \"You like this program very much\"\n",
    "assert \"much very program this like You\" == reverse(sentence)\n",
    "\n",
    "# f = open('/Users/nando/Downloads/B-large-practice.in', 'r')\n",
    "# N = int(f.readline())\n",
    "# fout = open('/Users/nando/Downloads/B-large-practice.out', 'w')\n",
    "# for i in range(N):\n",
    "#     sent = f.readline().strip()\n",
    "#     out = \"Case #{}: {}\\n\".format(i+1, reverse(sent))\n",
    "#     fout.write( out )"
   ]
  },
  {
   "cell_type": "markdown",
   "metadata": {},
   "source": [
    "## Find the missing number in Arithmetic Progression in O(log n) times\n",
    "\n",
    "- Strategy  : Time complexity requirement hints for divide and conquer or Binary Search.\n",
    "- Algorithm :\n",
    "    - r = ( A(-1) - A(0) ) / N\n",
    "    - expected_median = A[lo] + r*mid\n",
    "        - Base-case: \n",
    "            - if a[mid+1] - a[mid] != r then a[mid] + r\n",
    "            - if a[mid] - a[mid-1] != r then a[mid] - r\n",
    "        - if expected_median == median\n",
    "            - Missing is in a[mid+1, hi]\n",
    "        - else missing is in a[lo, mid]"
   ]
  },
  {
   "cell_type": "code",
   "execution_count": 20,
   "metadata": {
    "collapsed": false
   },
   "outputs": [
    {
     "data": {
      "text/plain": [
       "8"
      ]
     },
     "execution_count": 20,
     "metadata": {},
     "output_type": "execute_result"
    }
   ],
   "source": [
    "# [ 2, 4, 8, 10, 12, 14 ]   \n",
    "# [ 2  4  8 ] & [ 10 12 14 ]\n",
    "# [ 2  4  6 ] & [ 14 16 18 ]\n",
    "A = [ 2, 4, 6, 10, 12, 14 ]\n",
    "\n",
    "def findMissingProgression(A):\n",
    "    r = (A[-1] - A[0])/len(A)        # We know it's missing one, thus we divide by len(A)\n",
    "    return findMissing(A, r, 0, len(A))\n",
    "\n",
    "def findMissing(A, r, lo, hi):\n",
    "    if hi <= lo:\n",
    "        return -1\n",
    "    mid = lo + (hi-lo)/2\n",
    "    if A[mid+1] - A[mid] != r:  # Missing arithmetic element is after mid\n",
    "        return A[mid] + r\n",
    "    elif A[mid] - A[mid-1] != r: # Missing arithmetic element is before mid\n",
    "        return A[mid] - r\n",
    "    elif A[mid] == A[lo] + r*mid:\n",
    "        return findMissing(A, r, mid+1, hi)\n",
    "    else:\n",
    "        return findMissing(A, r, lo, mid)\n",
    "findMissingProgression(A)"
   ]
  },
  {
   "cell_type": "markdown",
   "metadata": {},
   "source": [
    "### Overlapping interval\n",
    "\n",
    "\n",
    "Case #1: A[0] < B[1] and B[0] < A[1]\n",
    "\n",
    "###############\n",
    "     ###################\n",
    "\n",
    "Case #2: A[0] < B[1] and B[0] < B[1]\n",
    "####################\n",
    "    #########\n",
    "\n",
    "Case #3: B[0] < A[1] and A[0] < B[1]\n",
    "    ###############\n",
    "##########\n",
    "\n",
    "    \n",
    "Case #4: B[0] < A[1] and A[0] < B[1]\n",
    "    #########\n",
    "####################\n",
    "\n"
   ]
  },
  {
   "cell_type": "code",
   "execution_count": 25,
   "metadata": {
    "collapsed": false
   },
   "outputs": [
    {
     "name": "stdout",
     "output_type": "stream",
     "text": [
      "[[-5, 5], None, None, [10, 25], None]\n"
     ]
    }
   ],
   "source": [
    "def overlap(a, b):\n",
    "    if a is None or b is None:\n",
    "        return False\n",
    "    return a[0] <= b[1] and b[0] <= a[1]\n",
    "\n",
    "def merge(A, i, j):\n",
    "    if overlap(A[i], A[j]):\n",
    "        A[i] = [min(A[i][0], A[j][0], A[j][1], A[i][1]), max(A[i][0], A[j][0], A[i][1], A[j][1])]\n",
    "        A[j] = None\n",
    "    \n",
    "A = [ [-5, 0], [1, 5], [-2, 2], [10, 20], [15, 25] ]\n",
    "\n",
    "def getOverlaps(A):\n",
    "    N = len(A)\n",
    "    for i in range(len(A)):\n",
    "        j = i+1\n",
    "        while j < len(A):\n",
    "            if overlap(A[i], A[j]):\n",
    "                merge(A, i, j)\n",
    "                j = i\n",
    "            j +=  1\n",
    "        \n",
    "getOverlaps(A)\n",
    "print A"
   ]
  },
  {
   "cell_type": "markdown",
   "metadata": {},
   "source": [
    "## Read in N Strings in the format of \"Restaraunt_ID Restaraunt_Rating\" and print out a sorted list with the highest ratings on top."
   ]
  },
  {
   "cell_type": "code",
   "execution_count": 35,
   "metadata": {
    "collapsed": false
   },
   "outputs": [
    {
     "name": "stdout",
     "output_type": "stream",
     "text": [
      "12 5\n",
      "1002 5\n",
      "143 4\n",
      "1000 3\n"
     ]
    }
   ],
   "source": [
    "import operator\n",
    "input = \"1000 3\\n1002 5\\n12 5\\n143 4\"\n",
    "counter = {}\n",
    "for line in input.split(\"\\n\"):\n",
    "    _id, rating = line.split(\" \")\n",
    "    counter[_id] = int(rating)\n",
    "\n",
    "for _id, rating in sorted(counter.items(), key=lambda tup: tup[1], reverse=True):\n",
    "    print \"{} {}\".format(_id, rating)"
   ]
  },
  {
   "cell_type": "markdown",
   "metadata": {},
   "source": [
    "## Given a string how would you check if the string is a palindrome?  \n"
   ]
  },
  {
   "cell_type": "code",
   "execution_count": 66,
   "metadata": {
    "collapsed": false
   },
   "outputs": [
    {
     "name": "stdout",
     "output_type": "stream",
     "text": [
      "True\n",
      "False\n"
     ]
    }
   ],
   "source": [
    "def isPalindrom(text):\n",
    "    text = list(text)\n",
    "    end = len(text)-1\n",
    "    for start in range(len(text)/2):\n",
    "        if text[start] != text[end]: \n",
    "            return False\n",
    "        end -= 1\n",
    "    return True\n",
    "\n",
    "print isPalindrom('anana')\n",
    "print isPalindrom('banana')"
   ]
  },
  {
   "cell_type": "markdown",
   "metadata": {},
   "source": [
    "## Given a list l and an int k produce a list of distinct pairs that add up to k\n",
    "\n",
    "- Approach 1: \n",
    "The naive way to do this would be to check all combinations (n choose 2). This exhaustive search is O(n2).\n",
    "\n",
    "- Approach 2: A better way would be to sort the array. This takes O(n log n). Then for each x in array A, use binary search to look for T-x. This will take O(nlogn). So, overall search is  O(n log n)\n",
    "\n",
    "- Approach 3 :  The best way would be to insert every element into a hash table (without sorting). This takes O(n) as constant time insertion. Then for every x, we can just look up its complement, T-x, which is O(1).\n",
    "Overall the run time of this approach is O(n)."
   ]
  },
  {
   "cell_type": "code",
   "execution_count": 89,
   "metadata": {
    "collapsed": false
   },
   "outputs": [
    {
     "name": "stdout",
     "output_type": "stream",
     "text": [
      "[(3, 7), (8, 2), (9, 1)]\n",
      "[(1, 9), (2, 8), (3, 7), (5, 5), (7, 3), (8, 2), (9, 1)]\n"
     ]
    }
   ],
   "source": [
    "# Approach #2\n",
    "def findPairRecursively(_list, k):\n",
    "    result = []\n",
    "    _list = sorted(_list)\n",
    "    \n",
    "    for ele in _list:\n",
    "        idx = binarySearch(_list, k - ele)\n",
    "        if idx >= 0:\n",
    "            result.append((ele, _list[idx]))\n",
    "        \n",
    "    \n",
    "    \n",
    "    return result\n",
    "\n",
    "def binarySearch(_list, x):\n",
    "    return _binarySearch(_list, 0, len(_list), x)\n",
    "\n",
    "def _binarySearch(ar, lo, hi, x):\n",
    "    if hi <= lo:\n",
    "        return -1\n",
    "    mid = lo + (hi-lo)/2\n",
    "    if ar[mid] == x:\n",
    "        return mid\n",
    "    elif x > ar[mid]:\n",
    "        return _binarySearch(ar, mid+1, hi, x)\n",
    "    else:\n",
    "        return _binarySearch(ar, lo, mid, x)\n",
    "    return -1\n",
    "\n",
    "\n",
    "# Approach #3\n",
    "def findPair(_list, k):\n",
    "    lookup = {}\n",
    "    result = []\n",
    "    for ele in _list:\n",
    "        if lookup.has_key(ele):\n",
    "            result.append((ele, lookup[ele]))\n",
    "        else:\n",
    "            lookup[k-ele] = ele\n",
    "    return result\n",
    "\n",
    "ar = [2,45,7,3,5,1,8,9]\n",
    "print findPair(ar, 10)\n",
    "\n",
    "print findPairRecursively(ar, 10)"
   ]
  },
  {
   "cell_type": "markdown",
   "metadata": {},
   "source": [
    "### You have a user-submitted review (basically just a paragraph of 5ish sentences). Design and write an algorithm to break up the review into sentences, and put it in a list/array data structure. (The goal of this question, I think, was to see how you can cleverly figure out how to deal with non-standard punctuation)  "
   ]
  },
  {
   "cell_type": "code",
   "execution_count": 124,
   "metadata": {
    "collapsed": false
   },
   "outputs": [
    {
     "name": "stdout",
     "output_type": "stream",
     "text": [
      "[('i', 2), ('lunch', 2), ('and', 1), ('loved', 1), ('ordered', 1), ('their', 1), ('menu', 1), ('is', 1), ('had', 1), ('it', 1), ('here', 1), ('expensive', 1), ('usually,', 1), ('my', 1), ('today', 1), ('really', 1)]\n"
     ]
    }
   ],
   "source": [
    "review = \"I had lunch here today. I ordered my usually, and really loved it. Their lunch menu is expensive\"\n",
    "\n",
    "from collections import defaultdict\n",
    "\n",
    "def tokenize_sent(review):\n",
    "    for sent in review.split('.'):\n",
    "        yield sent\n",
    "\n",
    "def tokenize(sentence):\n",
    "    for word in sentence.split(' '):\n",
    "        yield word.strip()\n",
    "        \n",
    "def stopword():\n",
    "    return ['']\n",
    "\n",
    "counter = defaultdict(lambda: 0)\n",
    "\n",
    "for sent in tokenize_sent(review):\n",
    "    for word in tokenize(sent):\n",
    "        if word not in stopword():\n",
    "            counter[word.lower()] += 1\n",
    "        \n",
    "print sorted(counter.items(), key=lambda _tuple: _tuple[1], reverse=True)"
   ]
  },
  {
   "cell_type": "markdown",
   "metadata": {},
   "source": [
    "## Count all the possible paths from top left to bottom right of a m*n matrix\n",
    "\n",
    "Constraints: Only allow Left, Right move.\n",
    "\n",
    "We can solve this problem either using recursion or using DP. DP is more efficient because we have many overlap.\n",
    "<table>\n",
    "<tr> <td> 0 </td>  <td> 1 </td> <td> 1 </td> </tr>\n",
    "<tr> <td> 1 </td>  <td> 2 </td> <td> 3 </td> </tr>\n",
    "<tr> <td> 1 </td>  <td> 3 </td> <td> 6 </td> </tr>\n",
    "</table>\n",
    "Idea: Let T(i, j) be the number of paths in matrix position i, j\n",
    "Recurrence: T(i, j) = T(i-1, j) + T(i, j-1) \n",
    "\n",
    "Follow up: Print all possible paths."
   ]
  },
  {
   "cell_type": "code",
   "execution_count": 3,
   "metadata": {
    "collapsed": false
   },
   "outputs": [
    {
     "data": {
      "text/plain": [
       "6"
      ]
     },
     "execution_count": 3,
     "metadata": {},
     "output_type": "execute_result"
    }
   ],
   "source": [
    "def numberOfPaths(n, m):\n",
    "    \n",
    "    T = [ [ 0 for _ in range(n) ] for _ in range(m) ]\n",
    "    \n",
    "    # Initialize values\n",
    "    for i in range(n):\n",
    "        T[i][0] = 1\n",
    "        \n",
    "    for j in range(m):\n",
    "        T[0][j] = 1\n",
    "    \n",
    "    T[0][0] = 0\n",
    "      \n",
    "    # Update overlaping subproblems.\n",
    "    for i in range(1, n):\n",
    "        for j in range(1, m):\n",
    "            T[i][j] = T[i-1][j] + T[i][j-1]\n",
    "    \n",
    "    return T[n-1][m-1]\n",
    "    \n",
    "def rnumberOfPaths(n, m):\n",
    "    if n == 1 or m == 1:\n",
    "        return 1\n",
    "    return rnumberOfPaths(n-1, m) + rnumberOfPaths(n, m-1)\n",
    "\n",
    "numberOfPaths(3, 3)\n",
    "rnumberOfPaths(3, 3)"
   ]
  },
  {
   "cell_type": "markdown",
   "metadata": {
    "collapsed": true
   },
   "source": [
    "1. Write a function to implement the \"cat\" command in Linux\n",
    "3. Intersection point for k linked lists.\n",
    "4. Edit distance\n",
    "5. Missing numbers from 1 to n  \n",
    "7. How is a priority queue implemented and stored?  \n",
    "8. Find the second smallest number in a BST  \n",
    "10. You have a sorted array with duplicates. Return the leftmost index of the given value.\n",
    "11. Given a matrix with 0 and 1. find paths of 1 from one corner of matrix to another."
   ]
  },
  {
   "cell_type": "markdown",
   "metadata": {},
   "source": [
    "## Find the first character that only appears once in the whole string\n",
    "- Scan the array and get a count of the number of character.\n",
    "- Scan the array and return the first character."
   ]
  },
  {
   "cell_type": "code",
   "execution_count": 2,
   "metadata": {
    "collapsed": false
   },
   "outputs": [
    {
     "data": {
      "text/plain": [
       "'f'"
      ]
     },
     "execution_count": 2,
     "metadata": {},
     "output_type": "execute_result"
    }
   ],
   "source": [
    "from collections import defaultdict\n",
    "\n",
    "def firstNonRepeating(st):\n",
    "    cnt = getCount(st)\n",
    "    for char in st:\n",
    "        if cnt[char] == 1:\n",
    "            return char\n",
    "\n",
    "def getCount(st):\n",
    "    count = defaultdict(lambda: 0)\n",
    "    for char in st:\n",
    "        count[char] += 1\n",
    "    return count\n",
    "        \n",
    "firstNonRepeating('GeeksforGeeks')"
   ]
  },
  {
   "cell_type": "markdown",
   "metadata": {},
   "source": [
    "## Given a number, find the next smallest palindrome larger than the number. For example if the number is 125, next smallest palindrome is 131.  \n",
    "- Until we find the next palindrom increment the number."
   ]
  },
  {
   "cell_type": "code",
   "execution_count": 11,
   "metadata": {
    "collapsed": false
   },
   "outputs": [
    {
     "data": {
      "text/plain": [
       "131"
      ]
     },
     "execution_count": 11,
     "metadata": {},
     "output_type": "execute_result"
    }
   ],
   "source": [
    "def isPalindrom(st):\n",
    "    st = str(st)\n",
    "    end = len(st)-1\n",
    "    for start in range(end+1):\n",
    "        if start == end or end - start <= 1:\n",
    "            return True\n",
    "        if st[start] != st[end]:\n",
    "            return False\n",
    "        end -= 1\n",
    "    return True\n",
    "\n",
    "def smallestPalindrom(st):\n",
    "    st= int(st)\n",
    "    while(True):\n",
    "        if isPalindrom(st):\n",
    "            return st\n",
    "        st += 1\n",
    "        \n",
    "# What if the number is 131?\n",
    "smallestPalindrom(125)"
   ]
  },
  {
   "cell_type": "markdown",
   "metadata": {},
   "source": [
    "## Print a matrix in spiral way.  \n",
    "\n",
    "- I thought of using recursion but it might not be the best approach because we don't divide it by much.\n",
    "- Take care of edge cases. For instance, what's the minimum size of the matrix. What the matrix is not square?\n",
    "- Strategy\n",
    "    - Print top\n",
    "    - Print right\n",
    "    - Print bottom\n",
    "    - Print left"
   ]
  },
  {
   "cell_type": "code",
   "execution_count": 30,
   "metadata": {
    "collapsed": false
   },
   "outputs": [
    {
     "data": {
      "text/plain": [
       "[[1, 2, 3, 4],\n",
       " [5, 6, 7, 8],\n",
       " [9, 10, 11, 12],\n",
       " [13, 14, 15, 16],\n",
       " [17, 18, 19, 20]]"
      ]
     },
     "execution_count": 30,
     "metadata": {},
     "output_type": "execute_result"
    }
   ],
   "source": [
    "def spiralPrint(matrix):\n",
    "    left = 0\n",
    "    right = len(matrix[0])-1\n",
    "    top = 0\n",
    "    bottom = len(matrix)-1\n",
    "    \n",
    "    order = []\n",
    "    \n",
    "    while(True):\n",
    "                \n",
    "        if (left >= right and top >= bottom):\n",
    "            break\n",
    "        # print top\n",
    "        for x in range(left, right+1):\n",
    "            order.append( matrix[top][x] )\n",
    "        top += 1\n",
    "        \n",
    "        # print right\n",
    "        for y in range(top, bottom+1):\n",
    "            order.append( matrix[y][right] )\n",
    "        right -=1 \n",
    "        \n",
    "        # print bottom\n",
    "        for x in range(right, left-1, -1):\n",
    "            order.append( matrix[bottom][x] )\n",
    "        bottom -= 1\n",
    "        \n",
    "        # print left\n",
    "        for y in range(bottom, top-1, -1):\n",
    "            order.append( matrix[y][left] )\n",
    "        left += 1\n",
    "    return order\n",
    "    \n",
    "matrix = [ [1, 2, 3, 4],  [5, 6, 7, 8], [9, 10, 11, 12], [13, 14, 15, 16]] \n",
    "assert spiralPrint( matrix ) == [ 1, 2, 3, 4, 8, 12, 16, 15, 14, 13, 9, 5, 6, 7, 11, 10 ]\n",
    "matrix = [ [1, 2, 3, 4],  [5, 6, 7, 8], [9, 10, 11, 12], [13, 14, 15, 16], [17, 18, 19, 20]]\n",
    "assert spiralPrint(matrix) == [1, 2, 3, 4, 8, 12, 16, 20, 19, 18, 17, 13, 9, 5, 6, 7, 11, 15, 14, 10]\n",
    "# assert spiralPrint([1, 2, 3, 4]) == [1, 2, 3, 4]\n",
    "\n",
    "matrix"
   ]
  },
  {
   "cell_type": "markdown",
   "metadata": {},
   "source": [
    "## Print and rotate a square image by 90 degree.\n",
    "- Idea: Fist row become last column, second row become the second to last column...\n",
    "- Follow-up: Can you do this in-place?\n"
   ]
  },
  {
   "cell_type": "code",
   "execution_count": 121,
   "metadata": {
    "collapsed": false
   },
   "outputs": [
    {
     "name": "stdout",
     "output_type": "stream",
     "text": [
      "[1, 2, 3, 4]\n",
      "[5, 6, 7, 8]\n",
      "[9, 10, 11, 12]\n",
      "[13, 14, 15, 16]\n",
      "\n",
      "[13, 9, 5, 1]\n",
      "[14, 10, 6, 2]\n",
      "[15, 11, 7, 3]\n",
      "[16, 12, 8, 4]\n"
     ]
    }
   ],
   "source": [
    "def rotate(matrix):\n",
    "    L = len(matrix)\n",
    "    W = len(matrix[0])\n",
    "    \n",
    "    out = [[None for _ in range(L)] for _ in range(W)]\n",
    "\n",
    "    for y in range(L):\n",
    "        for x in range(W):\n",
    "            out[x][L-1-y] = matrix[y][x]\n",
    "    return out\n",
    "\n",
    "def rotateInplace(matrix):\n",
    "    pass\n",
    "\n",
    "def printM(matrix):\n",
    "    for row in matrix:\n",
    "        print row\n",
    "\n",
    "def rotatePrint(matrix):\n",
    "    printM(matrix)\n",
    "    print\n",
    "    printM(rotate(matrix))\n",
    "    \n",
    "matrix = [ [1, 2, 3, 4],  [5, 6, 7, 8], [9, 10, 11, 12], [13, 14, 15, 16]]\n",
    "rotatePrint(matrix)"
   ]
  },
  {
   "cell_type": "markdown",
   "metadata": {},
   "source": [
    "## Given N Points in a Plane find the sets of Collinear Points.Collinear points are 3 or more points on the same line. (2 points are trivially collinear).\n",
    "- Ideas: 3 points are colinear if they have the same slope.\n",
    "- Algorithm\n",
    "    - For each pair of points\n",
    "        - Compute slope\n",
    "        - Store in a dictionary with the slope being the key and the point the values\n",
    "    - Return the values with 3 collinear points or more\n"
   ]
  },
  {
   "cell_type": "code",
   "execution_count": 174,
   "metadata": {
    "collapsed": false
   },
   "outputs": [
    {
     "data": {
      "text/plain": [
       "{0.5: {'(-50, -25)', '(0, 0)', '(40, 20)'},\n",
       " 1.0: {'(0, 0)', '(10, 10)', '(100, 100)', '(10000, 10000)'},\n",
       " 2.0: {'(-25, -50)', '(0, 0)', '(1, 2)', '(1000, 2000)', '(8, 16)'}}"
      ]
     },
     "execution_count": 174,
     "metadata": {},
     "output_type": "execute_result"
    }
   ],
   "source": [
    "from collections import defaultdict\n",
    "\n",
    "class Point:\n",
    "    \n",
    "    def __init__(self, pt):\n",
    "        self.x = pt[0]\n",
    "        self.y = pt[1]\n",
    "        \n",
    "    def slopeTo(self, that):\n",
    "        if self.x == that.x:\n",
    "            return float('inf')\n",
    "        return (1.*self.y - that.y)/(self.x - that.x)\n",
    "    \n",
    "    @staticmethod\n",
    "    def areCollinear(pt1, pt2, pt3):\n",
    "        if pt1.slopeTo(pt2) == pt1.slopeTo(pt3) and  pt1.slopeTo(pt3) == pt2.slopeTo(pt3):\n",
    "            return True\n",
    "        return False\n",
    "    \n",
    "    def toString(self):\n",
    "        return '({}, {})'.format(self.x, self.y)\n",
    "    \n",
    "    def equal(self, that):\n",
    "        return self.x == that.x and self.y == that.y\n",
    "\n",
    "\n",
    "points = [ (0,0), (1, 2), (8, 16), (3, 9), (10, 10), (1000, 2000), (100, 100), (40, 20), (-50, -25), (-25, -50), (0, -10), (10000, 10000) ]\n",
    "points = [ Point(pt) for pt in points ]\n",
    "\n",
    "assert Point.areCollinear(Point((0,0)), Point((1, 1)), Point((2, 2)))\n",
    "assert Point.areCollinear(Point((0,0)), Point((1, 1)), Point((2, 3))) == False\n",
    "\n",
    "def getLines(points):\n",
    "    slopes = defaultdict(set)\n",
    "    for pt1 in points:\n",
    "        for pt2 in points:\n",
    "            for pt3 in points:\n",
    "                if not pt1.equal(pt2) and not pt1.equal(pt3) and not pt2.equal(pt3):\n",
    "                    if Point.areCollinear(pt1, pt2, pt3):\n",
    "                        slope = pt1.slopeTo(pt2)\n",
    "                        slopes[slope].add(pt1.toString())\n",
    "                        slopes[slope].add(pt2.toString())\n",
    "                        slopes[slope].add(pt3.toString())\n",
    "    return { key: values for key, values in slopes.iteritems() if len(values) >= 3 }\n",
    "    \n",
    "getLines(points)"
   ]
  },
  {
   "cell_type": "markdown",
   "metadata": {},
   "source": [
    "## N ropes\n",
    "Given N ropes of lengths L1, L2, L3, L4, …, LN. I had to join every rope to get a final rope of length L1 + L2 + … + LN.\n",
    "However, I can join only two ropes at a time and… "
   ]
  },
  {
   "cell_type": "markdown",
   "metadata": {},
   "source": [
    "## 2-Sum\n",
    "Count distinct pair of integers that sum up to a target number.  \n",
    "Binary search in a circular sorted array. Find difference between two dates. Dynamic programming. Merge two sorted linkedlists.  \n"
   ]
  },
  {
   "cell_type": "code",
   "execution_count": 21,
   "metadata": {
    "collapsed": false
   },
   "outputs": [
    {
     "data": {
      "text/html": [
       "\n",
       "<script>\n",
       "code_show=false; \n",
       "function code_toggle() {\n",
       "    if (code_show){\n",
       "        $('div.input').show();\n",
       "    } else {\n",
       "        $('div.input').hide();\n",
       "    }\n",
       "    code_show = !code_show\n",
       "} \n",
       "$( document ).ready(code_toggle);\n",
       "</script>\n",
       "<form action=\"javascript:code_toggle()\"><input type=\"submit\" value=\"Click here to toggle on/off the raw code\"></form>"
      ],
      "text/plain": [
       "<IPython.core.display.HTML object>"
      ]
     },
     "execution_count": 21,
     "metadata": {},
     "output_type": "execute_result"
    }
   ],
   "source": [
    "from IPython.display import HTML\n",
    "\n",
    "HTML('''\n",
    "<script>\n",
    "code_show=false; \n",
    "function code_toggle() {\n",
    "    if (code_show){\n",
    "        $('div.input').show();\n",
    "    } else {\n",
    "        $('div.input').hide();\n",
    "    }\n",
    "    code_show = !code_show\n",
    "} \n",
    "$( document ).ready(code_toggle);\n",
    "</script>\n",
    "<form action=\"javascript:code_toggle()\"><input type=\"submit\" value=\"Click here to toggle on/off the raw code\"></form>''')"
   ]
  },
  {
   "cell_type": "code",
   "execution_count": null,
   "metadata": {
    "collapsed": true
   },
   "outputs": [],
   "source": []
  }
 ],
 "metadata": {
  "kernelspec": {
   "display_name": "Python 2",
   "language": "python",
   "name": "python2"
  },
  "language_info": {
   "codemirror_mode": {
    "name": "ipython",
    "version": 2
   },
   "file_extension": ".py",
   "mimetype": "text/x-python",
   "name": "python",
   "nbconvert_exporter": "python",
   "pygments_lexer": "ipython2",
   "version": "2.7.9"
  }
 },
 "nbformat": 4,
 "nbformat_minor": 0
}
